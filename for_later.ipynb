{
 "cells": [
  {
   "cell_type": "code",
   "execution_count": null,
   "metadata": {},
   "outputs": [],
   "source": [
    "list(heads.loc[heads['headers'] == 'LAW'].definitions) # are there definitions for composed words? eg martial law?\n",
    "\n",
    "first_ed_data[first_ed_data.headers.str.contains('\\w+OGY')]\n",
    "\n",
    "re.findall(r'\\w+OGY', test_vol_clean) # vs ogy\n",
    "\n",
    "list(heads.loc[heads['headers'] == 'BRONTOLOGY'].definitions)\n",
    "\n",
    "len([x for x in headers_first_ed if re.match('\\w+OGY', x)])\n",
    "\n",
    "set([x for x in headers_last_ed if re.match('\\w+OGY', x)]) - set([x for x in headers_first_ed if re.match('\\w+OGY', x)])\n",
    "\n",
    "[x for x in headers_last_ed if re.match('\\w+OGY', x)] # write a ft that checks for differences\n"
   ]
  },
  {
   "cell_type": "code",
   "execution_count": null,
   "metadata": {},
   "outputs": [],
   "source": [
    "# saved for later\n",
    "\n",
    "for match in re.finditer('ADENOLOGY', test_vol_clean):\n",
    "    print( \"%s: %s\" % (match.start(), match.group(0)))\n",
    "    # using match.start to find until def\n",
    "    print(test_vol_clean[match.start():match.start()+200])"
   ]
  },
  {
   "cell_type": "code",
   "execution_count": null,
   "metadata": {},
   "outputs": [],
   "source": [
    "# Code adapted from https://programminghistorian.org/en/lessons/counting-frequencies\n",
    "\n",
    "wordlist = sample.split()\n",
    "\n",
    "wordfreq = []\n",
    "for w in wordlist:\n",
    "    wordfreq.append(wordlist.count(w))\n",
    "\n",
    "print(\"String\\n\" + sample +\"\\n\")\n",
    "# print(\"List\\n\" + str(wordlist) + \"\\n\")\n",
    "# print(\"Frequencies\\n\" + str(wordfreq) + \"\\n\")\n",
    "print(\"Pairs\\n\" + str(list(zip(wordlist, wordfreq))))\n",
    "print(\"\\n\")\n",
    "\n",
    "counts_frame = pd.DataFrame(list(zip(wordlist, wordfreq)), \n",
    "               columns =['wordlist', 'wordfreq']) \n",
    "print(len(counts_frame))\n",
    "counts_frame.drop_duplicates(subset =\"wordlist\", keep ='first', inplace = True) \n",
    "print(len(counts_frame))"
   ]
  },
  {
   "cell_type": "code",
   "execution_count": null,
   "metadata": {},
   "outputs": [],
   "source": [
    "counts_frame.loc[counts_frame['wordfreq'] > 3]"
   ]
  },
  {
   "cell_type": "code",
   "execution_count": null,
   "metadata": {},
   "outputs": [],
   "source": [
    "len(re.findall('tbe', 'this is tbe best tbe'))"
   ]
  },
  {
   "cell_type": "code",
   "execution_count": null,
   "metadata": {},
   "outputs": [],
   "source": [
    "re.search('tbe', content)"
   ]
  },
  {
   "cell_type": "code",
   "execution_count": null,
   "metadata": {},
   "outputs": [],
   "source": [
    "len(re.findall('tbe', content))"
   ]
  },
  {
   "cell_type": "code",
   "execution_count": null,
   "metadata": {},
   "outputs": [],
   "source": [
    "re.findall('[A-Z][A-Z]+', clean_content[27000:])"
   ]
  },
  {
   "cell_type": "code",
   "execution_count": null,
   "metadata": {},
   "outputs": [],
   "source": [
    "re.split('([A-Z][A-Z]+)', clean_content[10000:30000])\n",
    "# remove preface/list of authors, as well as endnotes (\"end of first volume\") can check if found with regex"
   ]
  },
  {
   "cell_type": "code",
   "execution_count": 1,
   "metadata": {},
   "outputs": [],
   "source": [
    "# changes in spellings would also be nice (word in caps, followed by short \"See x\")\n",
    "# length of words: composed words, or taken from for eg. german influences"
   ]
  },
  {
   "cell_type": "markdown",
   "metadata": {},
   "source": [
    "### Example on one volume"
   ]
  },
  {
   "cell_type": "code",
   "execution_count": null,
   "metadata": {},
   "outputs": [],
   "source": [
    "# Read in volume\n",
    "\n",
    "f = open('text/144133901.txt', 'r', encoding=\"utf8\")\n",
    "test_vol = f.read()\n",
    "f.close()\n",
    "\n",
    "print(\"Initial length: \" + str(len(test_vol)))\n",
    "test_vol_clean = clean_up(test_vol)\n",
    "print(\"New length: \" + str(len(test_vol_clean)))"
   ]
  },
  {
   "cell_type": "code",
   "execution_count": null,
   "metadata": {},
   "outputs": [],
   "source": [
    "headers = re.findall('[A-Z][A-Z]+', test_vol_clean)"
   ]
  },
  {
   "cell_type": "code",
   "execution_count": null,
   "metadata": {},
   "outputs": [],
   "source": [
    "headers[100:120]"
   ]
  },
  {
   "cell_type": "code",
   "execution_count": null,
   "metadata": {},
   "outputs": [],
   "source": [
    "find_definition(\"ANTILOGY\", test_vol_clean)"
   ]
  },
  {
   "cell_type": "code",
   "execution_count": null,
   "metadata": {},
   "outputs": [],
   "source": [
    "find_definition(headers[108], test_vol_clean)"
   ]
  },
  {
   "cell_type": "code",
   "execution_count": null,
   "metadata": {},
   "outputs": [],
   "source": [
    "print(sorted(test_refs,key=test_refs.count,reverse=True))"
   ]
  },
  {
   "cell_type": "code",
   "execution_count": null,
   "metadata": {},
   "outputs": [],
   "source": [
    "re.findall('See Chemistry', test_vol_clean)"
   ]
  },
  {
   "cell_type": "code",
   "execution_count": 2,
   "metadata": {},
   "outputs": [],
   "source": [
    "# remove pref/list of authors and end?\n",
    "# do i want to remove longform articles, or not worry rn?\n",
    "# hmm idk if  'See .* is the best regex for it, might want to check what other shapes it might take"
   ]
  },
  {
   "cell_type": "code",
   "execution_count": null,
   "metadata": {},
   "outputs": [],
   "source": [
    "# pick a few of these topics and do an all lowercase/capitalised rather than header search for them? \n",
    "# also, a lot of this could be due to OCR noise\n",
    "# are there any that existed in first as minor topics? can tell if this is caused by OCR through that \n",
    "# => actually use the word frequency code from programmerhistorian to figure this out"
   ]
  },
  {
   "cell_type": "code",
   "execution_count": null,
   "metadata": {},
   "outputs": [],
   "source": [
    "# headers starting with each letter lel"
   ]
  }
 ],
 "metadata": {
  "kernelspec": {
   "display_name": "Python 3",
   "language": "python",
   "name": "python3"
  },
  "language_info": {
   "codemirror_mode": {
    "name": "ipython",
    "version": 3
   },
   "file_extension": ".py",
   "mimetype": "text/x-python",
   "name": "python",
   "nbconvert_exporter": "python",
   "pygments_lexer": "ipython3",
   "version": "3.6.1"
  }
 },
 "nbformat": 4,
 "nbformat_minor": 2
}
