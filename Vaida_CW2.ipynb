{
 "cells": [
  {
   "cell_type": "markdown",
   "metadata": {},
   "source": [
    "# Encyclopaedia Britannica 1\n",
    "\n",
    "## Instructions on running notebook\n",
    "\n",
    "* Ensure `pandas`, `numpy`, `re`, `seaborn`, `matplotlib` and `wordcloud` are installed\n",
    "* Download \"Just the text\" from https://data.nls.uk/data/digitised-collections/encyclopaedia-britannica/\n",
    "* Once extracted, rename the folder to `text`\n",
    "* Remove the `readme.txt` file, and put the `encyclopaediaBritannica-inventory.csv` file in the same folder than the notebook, so that the file structure looks like:\n",
    "    - Vaida_CW2.ipynb\n",
    "    - encyclopaediaBritannica-inventory.csv\n",
    "    - text folder (txt files inside)\n",
    "\n",
    "\n",
    "## Overview\n",
    "\n",
    "Our dataset is the original OCR of the Encyclopaedia Britannica, spanning eight editions, which were released between 1768 and 1860. Encyclopaedias are meant to be a collection of general knowledge-- the front page states the Encyclopaedia Britannica as being a \"Dictionary of Arts and Sciences\". It is an interesting dataset as it can be used how knowledge has changed over time, whether it is words that have been added, or definitions that have changed, with relation to topics that were being explored at the time.\n",
    "\n",
    "The OCR has not been cleaned up. We decided to work with the plaintext version, which contains only the OCRed text, without the positional/size information. The data is a series of `.txt` files, covering the eight editions: this means it is completely unstructured textual data.\n",
    "\n",
    "Apart from additional content such as a cover page, errata (corrections at the end of the volume), and preface/list of authors in the first volume of an edition, the encyclopaedia is structured as follows:\n",
    "* explanations/descriptions of entries, sorted alphabetically. An example entry: `ABSURD, an epithet for any thing that contradidls an apparent truth.` These can be a single sentence, to several pages of explanation.\n",
    "* longer-form articles, that cover broader fields such as `AGRICULTURE` or `ALGEBRA`, in which case they are structured in parts & sections, with annotations of figures in illustrated pages (plates), formulae, etc.\n",
    "* Illustrated pages (plates), which are not included in the plaintext version\n",
    "* Pages are numbered, and there are headers for what part of the alphabet (or article, if on long-form article) you are on\n",
    "\n",
    "The OCR is quite noisy, with spelling mistakes such as:\n",
    "* most predominantly, s being interpreted as f: `a fpecies of compofition`\n",
    "* other mistakes of letters being misinterpreted as other letters or punctuation symbols, such as `fubjedt` (subject)\n",
    "* Headers, cursive sub-headers and drop caps (first letter/word being bigger in a paragraph) are also badly recognised\n",
    "* Some noise that registers as random punctuation\n",
    "\n",
    "An example segment presenting what the original dataset looks like is presented in the general description below."
   ]
  },
  {
   "cell_type": "code",
   "execution_count": 61,
   "metadata": {},
   "outputs": [
    {
     "name": "stdout",
     "output_type": "stream",
     "text": [
      "Initial length: 3876195\n",
      "New length: 3866738\n"
     ]
    }
   ],
   "source": [
    "# Read in volume\n",
    "\n",
    "f = open('text/144133901.txt', 'r', encoding=\"utf8\")\n",
    "test_vol = f.read()\n",
    "f.close()\n",
    "\n",
    "print(\"Initial length: \" + str(len(test_vol)))\n",
    "test_vol_clean = clean_up(test_vol)\n",
    "print(\"New length: \" + str(len(test_vol_clean)))"
   ]
  },
  {
   "cell_type": "code",
   "execution_count": 62,
   "metadata": {},
   "outputs": [
    {
     "data": {
      "text/plain": [
       "['ENCYCLOPEDIA BRITANNICA',\n",
       " 'COVI PILED UPON',\n",
       " 'NEW PLAN',\n",
       " 'IN WHICH',\n",
       " 'ILLUSTRATED WITH ONE HUNDRED AND SIXTY COPPERPLATES',\n",
       " 'IN THREE VOLUME',\n",
       " 'PREFACE\\nUTILITY',\n",
       " 'ABAC AY',\n",
       " 'AB ACOA',\n",
       " 'ABB\\nABASCIA',\n",
       " 'AB ATOR',\n",
       " 'ABU SAN',\n",
       " 'AC AC IANS',\n",
       " 'AC ANUS',\n",
       " 'AC ARA',\n",
       " 'ACC\\nACCOMPTANT',\n",
       " 'ACE\\nACCOUNTANT',\n",
       " 'ACOL ASTRE',\n",
       " 'AD ARGON',\n",
       " 'AD ARTICULATION',\n",
       " 'ADD ACE',\n",
       " 'ADENOGR APHY',\n",
       " 'ADI\\nADERBERG',\n",
       " 'ADM\\nADMINICULATOR',\n",
       " 'AD SI DELL',\n",
       " 'AD VENTREM',\n",
       " 'AD VOU',\n",
       " 'JEN GMATOGRAPHY',\n",
       " 'ESTIM ATIQ',\n",
       " 'AG AG',\n",
       " 'AG HER',\n",
       " 'AGI STALIA',\n",
       " 'AGO\\nAGOGE',\n",
       " 'PART\\nAGRICULTURE',\n",
       " 'PART II',\n",
       " 'AID\\nAGYRT',\n",
       " 'AIM ARGUES',\n",
       " 'AIR\\nAIPIMIXIRA',\n",
       " 'AL ANTE JO',\n",
       " 'ALA\\nALAPOULI',\n",
       " 'ALB\\nALBANUM',\n",
       " 'ALE\\nALDERNEY',\n",
       " 'PROBLEM II',\n",
       " 'PROBLEM III',\n",
       " 'PROBLEM IV',\n",
       " 'PROBLEM VI',\n",
       " 'LEM VII',\n",
       " 'PROBLEM VIII',\n",
       " 'IOOOO IOO',\n",
       " 'THEOREM II',\n",
       " 'THEOREM II',\n",
       " 'THEOREM III',\n",
       " 'ALKALIZ ATION',\n",
       " 'ALL\\nALLIGATOR',\n",
       " 'ALL\\nALLOCUTION',\n",
       " 'ALA\\nALMANZA',\n",
       " 'ALPHONSINE TABLES',\n",
       " 'ALU CO',\n",
       " 'ALU\\nALVEUS',\n",
       " 'AM AD AN',\n",
       " 'AM BURY',\n",
       " 'AMEL AND',\n",
       " 'AMS\\nAMPHISMILA',\n",
       " 'AMSDORFI ANS',\n",
       " 'ANA\\nANABROSIS',\n",
       " 'ANACL ASTICS',\n",
       " 'ANALY ST',\n",
       " 'AMPHI CT',\n",
       " 'AN ATOMY',\n",
       " 'PAR\\nOF THE',\n",
       " 'OF THE HEAD',\n",
       " 'OF THE TRUNK',\n",
       " 'OF THE SUPERIOR EXTREMITIES',\n",
       " 'OF THE INFERIOR EXTREMITIES',\n",
       " 'PLATE XIII',\n",
       " 'OF THE',\n",
       " 'OBLIQJJUS EXTERN US',\n",
       " 'OBLIQJJUS INTERNUS',\n",
       " 'MUSCULI RECTI',\n",
       " 'MUSCULI PYRAMIDALES',\n",
       " 'ABDOMINAL MUSCLES',\n",
       " 'PECTORALIS MINOR',\n",
       " 'SERRATUS MAJOR',\n",
       " 'PECTORALIS MAJOR',\n",
       " 'LATISSIMUS DORSE',\n",
       " 'TERES MAJOR',\n",
       " 'TERES MINOR',\n",
       " 'COR ACO',\n",
       " 'ADI ALIS',\n",
       " 'ANCONEUS MAJOR',\n",
       " 'ANCON ASUS EXTERN US',\n",
       " 'EUS IN TERN US',\n",
       " 'ANCONTEUS MINOR',\n",
       " 'SUPINATOR LONGUS',\n",
       " 'SUPINATOR BREVIS',\n",
       " 'PRONATOR TERES',\n",
       " 'LN ARI',\n",
       " 'RADIALIS INTERNUS',\n",
       " 'ULNAR IS',\n",
       " 'ULNARIS EXTERNUS',\n",
       " 'PALMARIS CUTANEUS',\n",
       " 'FLEXOR POLLICIS LONGUS',\n",
       " 'EXTENSORES POLLICIS',\n",
       " 'EXTENSOR DIGITORUM COMMUNIS',\n",
       " 'EXTENSOR INDICIS PROPRIUS',\n",
       " 'EXTENSOR MINIMI DIGITI PROPRIUS',\n",
       " 'INTEROSSEUS INDICIS',\n",
       " 'HYPOTHENAR MINIMI DIGITI',\n",
       " 'LUMB ARTS INTERNUS',\n",
       " 'US MEDIUS',\n",
       " 'GLUTEUS MINIMUS',\n",
       " 'TRICEPS PRIMUS',\n",
       " 'TRICEPS SECUNDUS',\n",
       " 'OBTURATOR INTER NUS',\n",
       " 'OBTURATOR EXTERNUS',\n",
       " 'MUSCULUS FASCI',\n",
       " 'VASTUS EXTERNUS',\n",
       " 'VASTUS INTERN US',\n",
       " 'TIBIALIS ANTICUS',\n",
       " 'EUS MINIMUS',\n",
       " 'IO\\nANATOMY',\n",
       " 'TIBIALIS GRACILIS',\n",
       " 'TIBIALIS POSTICUS',\n",
       " 'EXTENSOR POLLICIS LONGUS',\n",
       " 'FLEXOR POLLICIS LONGUS',\n",
       " 'EXTENSOR DIGITORUM LONGUS',\n",
       " 'EXTENSOR DIGITORUM BREVIS',\n",
       " 'DIGTTORUM BREVIS',\n",
       " 'PERFORATUS PEDIS',\n",
       " 'FLEXOR DIGITORUM LONGUS',\n",
       " 'PERFORANS PEDIS',\n",
       " 'FLEXOR DIGITORUM ACCESSORIUS',\n",
       " 'MB RI GALES',\n",
       " 'TRANS VERS ALIS DIGITORUM',\n",
       " 'PARATHENAR MINOR',\n",
       " 'SERRATUS POSTICUS SUPERIOR',\n",
       " 'SERRATUS POSTICUS INFERIOR',\n",
       " 'ST ALE',\n",
       " 'EUS POSTERIOR',\n",
       " 'RECTUS MAJOR',\n",
       " 'RECTUS MINOR',\n",
       " 'OBLIQUUS SUPERIOR',\n",
       " 'OBLIQUUS INFERIOR',\n",
       " 'RECTUS ANTICUS LONGUS',\n",
       " 'RECTUS ANTICUS BREVIS',\n",
       " 'TRANSVERSALIS ANTICUS PRIMUS',\n",
       " 'TRANSVERSALIS ANTICUS SECUNDUS',\n",
       " 'ULI ACCESSORII',\n",
       " 'LONGUS COLLI',\n",
       " 'TRANSVERSALIS COLLI MAJOR',\n",
       " 'COLLI MI NO',\n",
       " 'TRANSVERSALES COLLI MINORES',\n",
       " 'LONGISSIMUS DO RSI',\n",
       " 'SPINALIS DORSI MAJOR',\n",
       " 'SPINALES DORSI',\n",
       " 'TRANSVERSALES DORSI MINORES',\n",
       " 'MUSCULI OSSIS COCCYGIS',\n",
       " 'PSOAS PARVUS',\n",
       " 'US MAJOR',\n",
       " 'EUS MINOP',\n",
       " 'OMOPLATO HYOID',\n",
       " 'COR ACO',\n",
       " 'PLATE XV',\n",
       " 'PAR\\nOF THE',\n",
       " 'PLATE XVI',\n",
       " 'PAR\\nOF THE\\nTH',\n",
       " 'PLATE XVJL',\n",
       " 'OF THE NERVES',\n",
       " 'PLATE XVIII',\n",
       " 'PART VI',\n",
       " 'THE SKIN',\n",
       " 'THE CUTICULA',\n",
       " 'OR EPIDERMIS',\n",
       " 'USES OF THE SKIN',\n",
       " 'THE MEMBRANA',\n",
       " 'AND FAT',\n",
       " 'THE NAILS',\n",
       " 'THE HAIRS',\n",
       " 'INTESTINUM JEJUNUM',\n",
       " 'INTESTINUM ILEUM',\n",
       " 'INTESTINUM COLON',\n",
       " 'INTE STINUM RECTUM',\n",
       " 'HE PAR',\n",
       " 'VESICULA FELLIS',\n",
       " 'APPENDICES EPIPLOICA',\n",
       " 'GLANDULE REN ALES',\n",
       " 'VESICA URINARIA',\n",
       " 'THE PARTS OF GENERATION IN\\nMALES',\n",
       " 'DUCTUS THORACICUS',\n",
       " 'PLATE XIX',\n",
       " 'PLATE XX',\n",
       " 'DURA MATER',\n",
       " 'ANA\\nPI',\n",
       " 'MEDULLA OBLONGATA',\n",
       " 'MEDULLA SPINALIS',\n",
       " 'PLATE XXI',\n",
       " 'AN AUDI',\n",
       " 'AND ANTI',\n",
       " 'AN DRY ALA',\n",
       " 'ANGLIC ANUS',\n",
       " 'ANI\\nAMIMA',\n",
       " 'ANN\\nANNECY',\n",
       " 'ANN\\nANNUITY',\n",
       " 'ANSI AN ACTE',\n",
       " 'ANTHR AX',\n",
       " 'AN EHROPOGLOTTUS',\n",
       " 'ANT\\nANTICHAMBER',\n",
       " 'ANT IPERISTALTIC',\n",
       " 'ANTIQU ATED',\n",
       " 'ARAB ABACA',\n",
       " 'ARB ALET',\n",
       " 'ARC\\nARBORIST',\n",
       " 'ARCH EUS',\n",
       " 'SEC\\nOF ARCHITECTURE AS',\n",
       " 'AN OBJECT OF TASTE',\n",
       " 'OF ARCHITECTURE AS',\n",
       " 'MECHANICAL ART',\n",
       " 'OF THE TUSCAN',\n",
       " 'OF THE DORIC ORDER',\n",
       " 'OF THE IONIC ORDER',\n",
       " 'OF THE CORINTHIAN ORDER',\n",
       " 'OF THE COMPOSITE',\n",
       " 'OF PILASTERS',\n",
       " 'OF PERSIANS AND CARYATIDES',\n",
       " 'OF PEDESTALS',\n",
       " 'OF IN',\n",
       " 'OF ARCHES',\n",
       " 'OF ORDERS ABOVE ORDERS',\n",
       " 'OF BASEMENTS AND ATTICS',\n",
       " 'OF PEDIMENTS',\n",
       " 'OF BALLUSTRADES',\n",
       " 'OF GATES',\n",
       " 'AND PIERS',\n",
       " 'TETL CA',\n",
       " 'OF WINDOWS',\n",
       " 'OF NICHES AND STATUES',\n",
       " 'OF CHIMNEY',\n",
       " 'OF THE PROPORTIONS OF ROOMS',\n",
       " 'OF CEILINGS',\n",
       " 'OF STAIRS AND STAIR',\n",
       " 'OF ROOFS',\n",
       " 'ARCT IUM',\n",
       " 'AVOIRDUPOIS WEIGHT',\n",
       " 'AVOIRDUPOIS WEIGHT',\n",
       " 'AVOIRDUPOIS WEIGHT',\n",
       " 'TABLE II',\n",
       " 'TABLE III',\n",
       " 'LI LO',\n",
       " 'ARITHM ETIC',\n",
       " 'ARITHME TICS',\n",
       " 'AR ITHMETICK',\n",
       " 'ARK\\nARITHMOMANCY',\n",
       " 'AS ARINA',\n",
       " 'ASS ARON',\n",
       " 'ASTEROP PERUS',\n",
       " 'ASTRO\\nASTRONOMY',\n",
       " 'JE TL',\n",
       " 'AST\\nASTROP',\n",
       " 'TEMPO GIUSTO',\n",
       " 'ATLANTIC OCEAN',\n",
       " 'ATRA BILI',\n",
       " 'ATTICV\\nATT',\n",
       " 'AU STRIA',\n",
       " 'AUTO DE FE',\n",
       " 'AU POMATUM',\n",
       " 'BACA\\nBAG',\n",
       " 'BAGNAG AR',\n",
       " 'BAN\\nBALTIC',\n",
       " 'BAR SHOT',\n",
       " 'BAR ALIPTON',\n",
       " 'BAR ALLOTS',\n",
       " 'BAR ANWAHR',\n",
       " 'BARB ALIA',\n",
       " 'BAR\\nBARD',\n",
       " 'BAR\\nBARGEMONT',\n",
       " 'BAH\\nBARRATRY',\n",
       " 'BASS ANUS',\n",
       " 'BAS JTLE',\n",
       " 'BE AST',\n",
       " 'BE AUFORT',\n",
       " 'BEL\\nBEE',\n",
       " 'BELG ARDEN',\n",
       " 'BEN\\nBENBERICK',\n",
       " 'BERN AW',\n",
       " 'KR OKMEJ',\n",
       " 'BIB\\nBIBIO',\n",
       " 'PH IA',\n",
       " 'BIMLIP AT AN',\n",
       " 'BL ANKS',\n",
       " 'ALTERNATE WATERING',\n",
       " 'BOMB AX',\n",
       " 'BOO\\nBOND',\n",
       " 'IN PROPER TRADE',\n",
       " 'OO QO',\n",
       " 'BOOK\\nWASTE',\n",
       " 'BOOK\\nWASTE',\n",
       " 'IIO URN',\n",
       " 'BOO\\nJOURNAL',\n",
       " 'OO OO',\n",
       " 'OO OO',\n",
       " 'OO OO',\n",
       " 'BOOK\\nLEDGER',\n",
       " 'OO\\nIO',\n",
       " 'IO OG',\n",
       " 'OO OC',\n",
       " 'OO OO',\n",
       " 'BOX\\nBOTANY',\n",
       " 'GRE EN',\n",
       " 'ER MI',\n",
       " 'ADYNAMIA SILIQJJOSA',\n",
       " 'MONODELPHIA PGLYANDRIA',\n",
       " 'SYNGENESIA POLYGAMIA AEQUALIS',\n",
       " 'PENTAND III',\n",
       " 'MONOECIA TETRANDR',\n",
       " 'POLYGAMIA JEQJJ ALI',\n",
       " 'CRYPTO GAMI',\n",
       " 'BOUGH AIN',\n",
       " 'BR ALROENS',\n",
       " 'BR AMANT',\n",
       " 'BRAS SIC',\n",
       " 'BR AUNSBURG',\n",
       " 'BR AVO',\n",
       " 'BRE AK',\n",
       " 'BREN FE',\n",
       " 'BREW HOUSE',\n",
       " 'BREW\\nBREWING',\n",
       " 'BRI ANCON',\n",
       " 'BRI ARE',\n",
       " 'BR VANSBRIDGE',\n",
       " 'BU BO',\n",
       " 'BUCH AW',\n",
       " 'BU FEO']"
      ]
     },
     "execution_count": 62,
     "metadata": {},
     "output_type": "execute_result"
    }
   ],
   "source": [
    "re.findall('([A-Z][A-Z]+(?=\\s[A-Z])(?:\\s[A-Z][A-Z]+)+)', test_vol_clean)"
   ]
  },
  {
   "cell_type": "code",
   "execution_count": 1,
   "metadata": {},
   "outputs": [],
   "source": [
    "# check that I can run whole notebook, esp on noteable\n",
    "\n",
    "\n",
    "# change first viz to have by vol?\n",
    "\n",
    "# regex for multiple-word entries (check for \"MARTIAL LAW\"): just mention\n",
    "\n",
    "# most referenced entries:\n",
    "# mentioning that doing an all lowercase/capitalised rather than header search for them could be useful\n",
    "# same for above viz, making content all lowercase first aggregate words\n",
    "\n",
    "# Distribution of lengths of definitions in first edition:\n",
    "# make into words rather than characters"
   ]
  },
  {
   "cell_type": "code",
   "execution_count": 2,
   "metadata": {},
   "outputs": [],
   "source": [
    "# subset cleaning: \n",
    "# remove duplicates?\n",
    "# clean up if:\n",
    "# definition is shorter than x characters, or mostly noise"
   ]
  },
  {
   "cell_type": "code",
   "execution_count": 3,
   "metadata": {},
   "outputs": [],
   "source": [
    "# cleaning of first ed\n",
    "# duplicates\n",
    "# complex words\n",
    "# find_def: it only takes simple words, and also only finds the very first instance of word (what about duplicate instances idk assumes first is the relevant one)\n",
    "# first, not remove outliers as these could be longer & valid articles (show example) and just visualise very small section"
   ]
  },
  {
   "cell_type": "code",
   "execution_count": 4,
   "metadata": {},
   "outputs": [],
   "source": [
    "# from https://stackoverflow.com/questions/9525993/get-consecutive-capitalized-words-using-regex\n",
    "re.findall('([A-Z][A-Z]+(?=\\s[A-Z])(?:\\s[A-Z][A-Z]+)+)', test_vol_clean) # consecutive capitalised words (eg. BREW HOUSE)\n",
    "\n",
    "# FOR NOW WE ASSUME SINGLE WORDS"
   ]
  },
  {
   "cell_type": "markdown",
   "metadata": {},
   "source": [
    "## General description"
   ]
  },
  {
   "cell_type": "code",
   "execution_count": 1,
   "metadata": {},
   "outputs": [],
   "source": [
    "import pandas as pd\n",
    "import numpy as np\n",
    "import re\n",
    "import seaborn as sns\n",
    "import matplotlib.pyplot as plt\n",
    "from wordcloud import WordCloud, STOPWORDS\n",
    "%matplotlib inline"
   ]
  },
  {
   "cell_type": "code",
   "execution_count": 2,
   "metadata": {},
   "outputs": [
    {
     "name": "stdout",
     "output_type": "stream",
     "text": [
      "\n",
      "Number of text files: 195\n"
     ]
    }
   ],
   "source": [
    "# reading in index file\n",
    "\n",
    "inventory = pd.read_csv(\"encyclopaediaBritannica-inventory.csv\", header=None)\n",
    "inventory.columns = ['file','volume']\n",
    "# print(inventory)\n",
    "print(\"\\nNumber of text files: \" + str(len(inventory)))"
   ]
  },
  {
   "cell_type": "code",
   "execution_count": 3,
   "metadata": {},
   "outputs": [
    {
     "name": "stdout",
     "output_type": "stream",
     "text": [
      "Example of entries:\n",
      "\n",
      ".\n",
      "ABSURDITY, the name of an abfurd addon or fenti-\n",
      "ment.\n",
      "ABSUS, in botany, the trivial name of a fpecies of the.;\n",
      "caffia. i-'' Js”\n",
      "ABSYNTHfUM. See Absinthium.\n",
      "ABUAI, one of the Philippine ifles. See Philipptne.\n",
      "ABUCCO, Abocco, or Aboochi, a. weight ufed in\n",
      "the'kingdom of Pegu, equal to i cRteCcaiis \n",
      "\n",
      "##########################################################\n",
      "\n",
      "Example of noise:\n",
      "\n",
      "*c CclU^K <77t .\n",
      "yy*t4**2^t*-C{+r ^tXCe^vK &v»w\n",
      "8/y: t^cCv-yt^yA. *-? ^v. •^GL* ftc*frt\n",
      "* U^>. ‘\n",
      "** a^yUf^yX ^\n",
      "}tA£. yylrrCj? yu>t f\\ ^^2!\n",
      "ENCYCLOPEDIA BRITANNICA.\n",
      "VOLUME the FIRST.\n",
      "**■*\n",
      "'\n",
      ",T S :u -I >;j .1 M U a C V'\n",
      ".\n",
      "A\n",
      "ARTS and SCIENCES,\n",
      "COVI PILED UPON A NEW PLAN.\n",
      "IN WHICH\n",
      "The diferent Sciences \n"
     ]
    }
   ],
   "source": [
    "# printing an example of the structure of the data and noise\n",
    "\n",
    "print(\"Example of entries:\\n\")\n",
    "\n",
    "f = open('text/' + inventory.iloc[0].file, 'r', encoding=\"utf8\")\n",
    "content = f.read()\n",
    "f.close()\n",
    "print(content[51200:51500])\n",
    "\n",
    "print(\"\\n##########################################################\")\n",
    "print(\"\\nExample of noise:\\n\")\n",
    "\n",
    "print(content[200:500])"
   ]
  },
  {
   "cell_type": "code",
   "execution_count": 4,
   "metadata": {},
   "outputs": [],
   "source": [
    "# Reading in text files and generate word and length counts\n",
    "\n",
    "lengths = []\n",
    "words = []\n",
    "\n",
    "for index, row in inventory.iterrows():\n",
    "    # print(\"Reading: \" + row['file'])\n",
    "    \n",
    "    f = open('text/' + row['file'], 'r', encoding=\"utf8\")\n",
    "    content = f.read()\n",
    "    # print(\"Length: \" + str(len(content)))\n",
    "    lengths.append(len(content))\n",
    "    \n",
    "    words.append(len(content.split()))\n",
    "    \n",
    "    f.close()"
   ]
  },
  {
   "cell_type": "code",
   "execution_count": 5,
   "metadata": {
    "scrolled": false
   },
   "outputs": [
    {
     "data": {
      "text/html": [
       "<div>\n",
       "<style scoped>\n",
       "    .dataframe tbody tr th:only-of-type {\n",
       "        vertical-align: middle;\n",
       "    }\n",
       "\n",
       "    .dataframe tbody tr th {\n",
       "        vertical-align: top;\n",
       "    }\n",
       "\n",
       "    .dataframe thead th {\n",
       "        text-align: right;\n",
       "    }\n",
       "</style>\n",
       "<table border=\"1\" class=\"dataframe\">\n",
       "  <thead>\n",
       "    <tr style=\"text-align: right;\">\n",
       "      <th></th>\n",
       "      <th>file</th>\n",
       "      <th>volume</th>\n",
       "      <th>length</th>\n",
       "      <th>words</th>\n",
       "    </tr>\n",
       "  </thead>\n",
       "  <tbody>\n",
       "    <tr>\n",
       "      <th>0</th>\n",
       "      <td>144133901.txt</td>\n",
       "      <td>Encyclopaedia Britannica; or, A dictionary of ...</td>\n",
       "      <td>3876195</td>\n",
       "      <td>703000</td>\n",
       "    </tr>\n",
       "    <tr>\n",
       "      <th>1</th>\n",
       "      <td>144133902.txt</td>\n",
       "      <td>Encyclopaedia Britannica; or, A dictionary of ...</td>\n",
       "      <td>5518008</td>\n",
       "      <td>993096</td>\n",
       "    </tr>\n",
       "    <tr>\n",
       "      <th>2</th>\n",
       "      <td>144133903.txt</td>\n",
       "      <td>Encyclopaedia Britannica; or, A dictionary of ...</td>\n",
       "      <td>4829230</td>\n",
       "      <td>871673</td>\n",
       "    </tr>\n",
       "    <tr>\n",
       "      <th>3</th>\n",
       "      <td>144850366.txt</td>\n",
       "      <td>Encyclopaedia Britannica: or, A dictionary of ...</td>\n",
       "      <td>3914268</td>\n",
       "      <td>710507</td>\n",
       "    </tr>\n",
       "    <tr>\n",
       "      <th>4</th>\n",
       "      <td>144850367.txt</td>\n",
       "      <td>Encyclopaedia Britannica: or, A dictionary of ...</td>\n",
       "      <td>5538435</td>\n",
       "      <td>995654</td>\n",
       "    </tr>\n",
       "    <tr>\n",
       "      <th>...</th>\n",
       "      <td>...</td>\n",
       "      <td>...</td>\n",
       "      <td>...</td>\n",
       "      <td>...</td>\n",
       "    </tr>\n",
       "    <tr>\n",
       "      <th>190</th>\n",
       "      <td>193108326.txt</td>\n",
       "      <td>Encyclopaedia Britannica - Eighth edition, Vol...</td>\n",
       "      <td>6448411</td>\n",
       "      <td>1116652</td>\n",
       "    </tr>\n",
       "    <tr>\n",
       "      <th>191</th>\n",
       "      <td>193322701.txt</td>\n",
       "      <td>Encyclopaedia Britannica - Eighth edition, Vol...</td>\n",
       "      <td>6734229</td>\n",
       "      <td>1164466</td>\n",
       "    </tr>\n",
       "    <tr>\n",
       "      <th>192</th>\n",
       "      <td>193469393.txt</td>\n",
       "      <td>Encyclopaedia Britannica - Eighth edition, Vol...</td>\n",
       "      <td>6836261</td>\n",
       "      <td>1194897</td>\n",
       "    </tr>\n",
       "    <tr>\n",
       "      <th>193</th>\n",
       "      <td>193819047.txt</td>\n",
       "      <td>Encyclopaedia Britannica - Eighth edition, Vol...</td>\n",
       "      <td>8029705</td>\n",
       "      <td>1388732</td>\n",
       "    </tr>\n",
       "    <tr>\n",
       "      <th>194</th>\n",
       "      <td>193322702.txt</td>\n",
       "      <td>Encyclopaedia Britannica - Eighth edition, Ind...</td>\n",
       "      <td>2797565</td>\n",
       "      <td>445835</td>\n",
       "    </tr>\n",
       "  </tbody>\n",
       "</table>\n",
       "<p>195 rows × 4 columns</p>\n",
       "</div>"
      ],
      "text/plain": [
       "              file                                             volume  \\\n",
       "0    144133901.txt  Encyclopaedia Britannica; or, A dictionary of ...   \n",
       "1    144133902.txt  Encyclopaedia Britannica; or, A dictionary of ...   \n",
       "2    144133903.txt  Encyclopaedia Britannica; or, A dictionary of ...   \n",
       "3    144850366.txt  Encyclopaedia Britannica: or, A dictionary of ...   \n",
       "4    144850367.txt  Encyclopaedia Britannica: or, A dictionary of ...   \n",
       "..             ...                                                ...   \n",
       "190  193108326.txt  Encyclopaedia Britannica - Eighth edition, Vol...   \n",
       "191  193322701.txt  Encyclopaedia Britannica - Eighth edition, Vol...   \n",
       "192  193469393.txt  Encyclopaedia Britannica - Eighth edition, Vol...   \n",
       "193  193819047.txt  Encyclopaedia Britannica - Eighth edition, Vol...   \n",
       "194  193322702.txt  Encyclopaedia Britannica - Eighth edition, Ind...   \n",
       "\n",
       "      length    words  \n",
       "0    3876195   703000  \n",
       "1    5518008   993096  \n",
       "2    4829230   871673  \n",
       "3    3914268   710507  \n",
       "4    5538435   995654  \n",
       "..       ...      ...  \n",
       "190  6448411  1116652  \n",
       "191  6734229  1164466  \n",
       "192  6836261  1194897  \n",
       "193  8029705  1388732  \n",
       "194  2797565   445835  \n",
       "\n",
       "[195 rows x 4 columns]"
      ]
     },
     "execution_count": 5,
     "metadata": {},
     "output_type": "execute_result"
    }
   ],
   "source": [
    "# Assign to a DataFrame\n",
    "\n",
    "full_inventory = inventory.assign(length=lengths)\n",
    "full_inventory = full_inventory.assign(words=words)\n",
    "full_inventory"
   ]
  },
  {
   "cell_type": "code",
   "execution_count": 6,
   "metadata": {},
   "outputs": [
    {
     "data": {
      "text/html": [
       "<div>\n",
       "<style scoped>\n",
       "    .dataframe tbody tr th:only-of-type {\n",
       "        vertical-align: middle;\n",
       "    }\n",
       "\n",
       "    .dataframe tbody tr th {\n",
       "        vertical-align: top;\n",
       "    }\n",
       "\n",
       "    .dataframe thead th {\n",
       "        text-align: right;\n",
       "    }\n",
       "</style>\n",
       "<table border=\"1\" class=\"dataframe\">\n",
       "  <thead>\n",
       "    <tr style=\"text-align: right;\">\n",
       "      <th></th>\n",
       "      <th>length</th>\n",
       "      <th>words</th>\n",
       "    </tr>\n",
       "  </thead>\n",
       "  <tbody>\n",
       "    <tr>\n",
       "      <th>count</th>\n",
       "      <td>1.950000e+02</td>\n",
       "      <td>1.950000e+02</td>\n",
       "    </tr>\n",
       "    <tr>\n",
       "      <th>mean</th>\n",
       "      <td>4.844365e+06</td>\n",
       "      <td>8.599402e+05</td>\n",
       "    </tr>\n",
       "    <tr>\n",
       "      <th>std</th>\n",
       "      <td>1.318219e+06</td>\n",
       "      <td>2.318644e+05</td>\n",
       "    </tr>\n",
       "    <tr>\n",
       "      <th>min</th>\n",
       "      <td>1.842523e+06</td>\n",
       "      <td>2.905590e+05</td>\n",
       "    </tr>\n",
       "    <tr>\n",
       "      <th>25%</th>\n",
       "      <td>4.460818e+06</td>\n",
       "      <td>7.799630e+05</td>\n",
       "    </tr>\n",
       "    <tr>\n",
       "      <th>50%</th>\n",
       "      <td>5.259720e+06</td>\n",
       "      <td>9.425200e+05</td>\n",
       "    </tr>\n",
       "    <tr>\n",
       "      <th>75%</th>\n",
       "      <td>5.525978e+06</td>\n",
       "      <td>9.798500e+05</td>\n",
       "    </tr>\n",
       "    <tr>\n",
       "      <th>max</th>\n",
       "      <td>8.029705e+06</td>\n",
       "      <td>1.388732e+06</td>\n",
       "    </tr>\n",
       "  </tbody>\n",
       "</table>\n",
       "</div>"
      ],
      "text/plain": [
       "             length         words\n",
       "count  1.950000e+02  1.950000e+02\n",
       "mean   4.844365e+06  8.599402e+05\n",
       "std    1.318219e+06  2.318644e+05\n",
       "min    1.842523e+06  2.905590e+05\n",
       "25%    4.460818e+06  7.799630e+05\n",
       "50%    5.259720e+06  9.425200e+05\n",
       "75%    5.525978e+06  9.798500e+05\n",
       "max    8.029705e+06  1.388732e+06"
      ]
     },
     "execution_count": 6,
     "metadata": {},
     "output_type": "execute_result"
    }
   ],
   "source": [
    "full_inventory.describe() # this provides some general statistics about our data"
   ]
  },
  {
   "cell_type": "markdown",
   "metadata": {},
   "source": [
    "**Note**: the word count is an approximation, as the OCR includes some noise."
   ]
  },
  {
   "cell_type": "code",
   "execution_count": 7,
   "metadata": {},
   "outputs": [
    {
     "name": "stdout",
     "output_type": "stream",
     "text": [
      "Total length of all editions, in chars: 944651187\n",
      "Total length of all editions, in words: 167688341\n"
     ]
    }
   ],
   "source": [
    "print(\"Total length of all editions, in chars: \" + str(np.sum(full_inventory['length'])))\n",
    "print(\"Total length of all editions, in words: \" + str(np.sum(full_inventory['words'])))"
   ]
  },
  {
   "cell_type": "code",
   "execution_count": 8,
   "metadata": {},
   "outputs": [
    {
     "name": "stdout",
     "output_type": "stream",
     "text": [
      "Longest volume, by length in words: 1388732\n"
     ]
    },
    {
     "data": {
      "text/plain": [
       "['Encyclopaedia Britannica - Eighth edition, Volume 21, T-ZWO - EB.16']"
      ]
     },
     "execution_count": 8,
     "metadata": {},
     "output_type": "execute_result"
    }
   ],
   "source": [
    "print(\"Longest volume, by length in words: \" + str(np.max(full_inventory['words'])))\n",
    "list(full_inventory.loc[full_inventory['words'] == np.max(full_inventory['words'])].volume)"
   ]
  },
  {
   "cell_type": "code",
   "execution_count": 9,
   "metadata": {
    "scrolled": true
   },
   "outputs": [
    {
     "name": "stdout",
     "output_type": "stream",
     "text": [
      "Shortest volume, by length in words: 290559\n"
     ]
    },
    {
     "data": {
      "text/plain": [
       "['Encyclopaedia Britannica - Seventh edition, General index - EB.15']"
      ]
     },
     "execution_count": 9,
     "metadata": {},
     "output_type": "execute_result"
    }
   ],
   "source": [
    "print(\"Shortest volume, by length in words: \" + str(np.min(full_inventory['words'])))\n",
    "list(full_inventory.loc[full_inventory['words'] == np.min(full_inventory['words'])].volume)"
   ]
  },
  {
   "cell_type": "markdown",
   "metadata": {},
   "source": [
    "## Subset of data investigated\n",
    "\n",
    "For this assignment, I decided to investigate the very first edition."
   ]
  },
  {
   "cell_type": "code",
   "execution_count": 10,
   "metadata": {
    "scrolled": true
   },
   "outputs": [
    {
     "data": {
      "text/plain": [
       "['Encyclopaedia Britannica; or, A dictionary of arts and sciences, compiled upon a new plan … - First edition, 1771, Volume 1, A-B - EB.1',\n",
       " 'Encyclopaedia Britannica; or, A dictionary of arts and sciences, compiled upon a new plan … - First edition, 1771, Volume 2, C-L - EB.1',\n",
       " 'Encyclopaedia Britannica; or, A dictionary of arts and sciences, compiled upon a new plan … - First edition, 1771, Volume 3, M-Z - EB.1']"
      ]
     },
     "execution_count": 10,
     "metadata": {},
     "output_type": "execute_result"
    }
   ],
   "source": [
    "# selecting the first three volumes, which make up the first edition\n",
    "\n",
    "first_ed = full_inventory[:3]\n",
    "list(first_ed['volume']) # list() to print whole text"
   ]
  },
  {
   "cell_type": "code",
   "execution_count": 12,
   "metadata": {},
   "outputs": [
    {
     "name": "stdout",
     "output_type": "stream",
     "text": [
      "FIRST EDITION\n",
      "Volumes: 3\n",
      "Words: 2567769\n",
      "Length in characters: 14223433\n"
     ]
    }
   ],
   "source": [
    "print(\"FIRST EDITION\")\n",
    "print(\"Volumes: \" + str(len(first_ed)))\n",
    "print(\"Words: \" + str(np.sum(first_ed['words'])))\n",
    "print(\"Length in characters: \" + str(np.sum(first_ed['length'])))"
   ]
  },
  {
   "cell_type": "markdown",
   "metadata": {},
   "source": [
    "## Cleanup of data"
   ]
  },
  {
   "cell_type": "markdown",
   "metadata": {},
   "source": [
    "Cleaning up OCRed text is a long process and is hard to get perfectly right, thus we do not focus on this step. Instead, we present some simple functions that could be used as a basis for text cleanup if it is required later/in a further assignment."
   ]
  },
  {
   "cell_type": "code",
   "execution_count": 13,
   "metadata": {},
   "outputs": [],
   "source": [
    "def replace_by(s, a, b):\n",
    "    \"\"\" perform a regex replacement, prints number of occurrences found and returns a string.\n",
    "    s: string to make changes in\n",
    "    a: string to remove \n",
    "    b: string to add\n",
    "    returns: a string\"\"\"\n",
    "    \n",
    "    # print(\"Replacing \\\"\" + a + \"\\\" by \\\"\" + b + \"\\\", found \" + str(len(re.findall(a, s))) + \"...\")\n",
    "    new = re.sub(a, b, s)\n",
    "    \n",
    "    return new"
   ]
  },
  {
   "cell_type": "code",
   "execution_count": 14,
   "metadata": {},
   "outputs": [
    {
     "data": {
      "text/plain": [
       "'This is a good cat'"
      ]
     },
     "execution_count": 14,
     "metadata": {},
     "output_type": "execute_result"
    }
   ],
   "source": [
    "replace_by(\"This is a good dog!!!\", \"dog!!!\", \"cat\")"
   ]
  },
  {
   "cell_type": "code",
   "execution_count": 16,
   "metadata": {},
   "outputs": [],
   "source": [
    "# Using regex cleanup ideas from: https://sites.temple.edu/tudsc/2014/08/12/text-scrubbing-hacks-cleaning-your-ocred-text/\n",
    "\n",
    "# Further resources: https://programminghistorian.org/en/lessons/cleaning-ocrd-text-with-regular-expressions\n",
    "# https://datascience.stackexchange.com/questions/20536/how-to-improve-ocr-scanning-results\n",
    "\n",
    "def clean_up(s):\n",
    "    \"\"\" Does a minimal cleanup of a string of text\n",
    "    returns: a string\n",
    "    \"\"\"\n",
    "    # print(\"Initial length: \" + str(len(s)))\n",
    "    s2 = replace_by(s, 'tbe', 'the')\n",
    "    s3 = replace_by(s2, 'tiie', 'the')\n",
    "    s4 = replace_by(s3, 'liis', 'his')\n",
    "    s5 = replace_by(s4, 'bis', 'his')\n",
    "    s6 = replace_by(s5, '■', '')\n",
    "    s7 = replace_by(s6, 'ib','in') # was noticed by Ava in .txt files\n",
    "    s8 = replace_by(s7, '¬','')\n",
    "    s9 = replace_by(s8, '.(\\.\\.+)', '') # multiple periods; what about ellipsis though?\n",
    "    # print(\"Clean up done!\")\n",
    "    return s9 # CAREFUL to always pass the right one to next, and return"
   ]
  },
  {
   "cell_type": "markdown",
   "metadata": {},
   "source": [
    "## Analysis of edition 1"
   ]
  },
  {
   "cell_type": "markdown",
   "metadata": {},
   "source": [
    "**Note:** due to the nature of the data (unclean OCR), most the analysis and operations performed will not capture the original data perfectly (eg. not capturing all the headers, definitions or references). However, we assume that a majority of the information will be captured, and that the errors made will roughly be the same in terms of proportions, so comparing counts will still make sense (that is, we expect to miss roughly the same number of matches from each regex search)."
   ]
  },
  {
   "cell_type": "code",
   "execution_count": 57,
   "metadata": {},
   "outputs": [],
   "source": [
    "# Uses RegEx to identify the definition of a word as being the content between the uppercase word and the next uppercase word\n",
    "\n",
    "def find_definition(word, volume):\n",
    "    start = re.search(word, volume).start()\n",
    "    start_next = re.search(word, volume).end()\n",
    "    end = re.search(\"[A-Z][A-Z]+\", volume[start_next:]).start()\n",
    "    return volume[start_next+2:start_next+end] # +2 to ignore comma and space before a definition"
   ]
  },
  {
   "cell_type": "code",
   "execution_count": 58,
   "metadata": {},
   "outputs": [],
   "source": [
    "# Extracts entries (headers), their definitions, their respective lengths, and all references (\"See x\") from an edition\n",
    "\n",
    "def extract_info(edition):\n",
    "    \n",
    "    headers = []\n",
    "    definitions = []\n",
    "    refs = [] # for counting up all instances of \"See x\" in volumes  \n",
    "    \n",
    "    for index, row in edition.iterrows():\n",
    "        current_headers = []\n",
    "        \n",
    "        print(\"Reading: \" + row['file'])\n",
    "        f = open('text/' + row['file'], 'r', encoding=\"utf8\")\n",
    "        content = f.read()\n",
    "        content = clean_up(content) # check cleanup does something\n",
    "        current_headers = re.findall('[A-Z][A-Z]+', content) # at least two uppercase letters following each other\n",
    "        refs += re.findall('See [^,\\.]*', content) # matches \"See x\" until a comma or a period\n",
    "        \n",
    "        for word in current_headers:\n",
    "            definitions.append(find_definition(word, content))\n",
    "            \n",
    "        headers = headers + current_headers\n",
    "        \n",
    "        f.close()\n",
    "\n",
    "    data = pd.DataFrame(headers, columns =['headers'])\n",
    "    data['definition'] = definitions\n",
    "    data['header_length']  = data['headers'].str.len()\n",
    "    data['def_length']  = data['definition'].str.len()\n",
    "    return data, refs"
   ]
  },
  {
   "cell_type": "code",
   "execution_count": 59,
   "metadata": {},
   "outputs": [
    {
     "name": "stdout",
     "output_type": "stream",
     "text": [
      "Reading: 144133901.txt\n",
      "Reading: 144133902.txt\n",
      "Reading: 144133903.txt\n"
     ]
    }
   ],
   "source": [
    "first_ed_data, refs = extract_info(first_ed) # this takes a couple minutes"
   ]
  },
  {
   "cell_type": "code",
   "execution_count": 60,
   "metadata": {
    "scrolled": false
   },
   "outputs": [
    {
     "data": {
      "text/html": [
       "<div>\n",
       "<style scoped>\n",
       "    .dataframe tbody tr th:only-of-type {\n",
       "        vertical-align: middle;\n",
       "    }\n",
       "\n",
       "    .dataframe tbody tr th {\n",
       "        vertical-align: top;\n",
       "    }\n",
       "\n",
       "    .dataframe thead th {\n",
       "        text-align: right;\n",
       "    }\n",
       "</style>\n",
       "<table border=\"1\" class=\"dataframe\">\n",
       "  <thead>\n",
       "    <tr style=\"text-align: right;\">\n",
       "      <th></th>\n",
       "      <th>header_length</th>\n",
       "      <th>def_length</th>\n",
       "    </tr>\n",
       "  </thead>\n",
       "  <tbody>\n",
       "    <tr>\n",
       "      <th>count</th>\n",
       "      <td>29011.000000</td>\n",
       "      <td>29011.000000</td>\n",
       "    </tr>\n",
       "    <tr>\n",
       "      <th>mean</th>\n",
       "      <td>5.525766</td>\n",
       "      <td>303.493640</td>\n",
       "    </tr>\n",
       "    <tr>\n",
       "      <th>std</th>\n",
       "      <td>3.010584</td>\n",
       "      <td>1073.294442</td>\n",
       "    </tr>\n",
       "    <tr>\n",
       "      <th>min</th>\n",
       "      <td>2.000000</td>\n",
       "      <td>0.000000</td>\n",
       "    </tr>\n",
       "    <tr>\n",
       "      <th>25%</th>\n",
       "      <td>3.000000</td>\n",
       "      <td>10.000000</td>\n",
       "    </tr>\n",
       "    <tr>\n",
       "      <th>50%</th>\n",
       "      <td>5.000000</td>\n",
       "      <td>90.000000</td>\n",
       "    </tr>\n",
       "    <tr>\n",
       "      <th>75%</th>\n",
       "      <td>8.000000</td>\n",
       "      <td>216.000000</td>\n",
       "    </tr>\n",
       "    <tr>\n",
       "      <th>max</th>\n",
       "      <td>22.000000</td>\n",
       "      <td>25021.000000</td>\n",
       "    </tr>\n",
       "  </tbody>\n",
       "</table>\n",
       "</div>"
      ],
      "text/plain": [
       "       header_length    def_length\n",
       "count   29011.000000  29011.000000\n",
       "mean        5.525766    303.493640\n",
       "std         3.010584   1073.294442\n",
       "min         2.000000      0.000000\n",
       "25%         3.000000     10.000000\n",
       "50%         5.000000     90.000000\n",
       "75%         8.000000    216.000000\n",
       "max        22.000000  25021.000000"
      ]
     },
     "execution_count": 60,
     "metadata": {},
     "output_type": "execute_result"
    }
   ],
   "source": [
    "first_ed_data.describe()"
   ]
  },
  {
   "cell_type": "code",
   "execution_count": 23,
   "metadata": {},
   "outputs": [
    {
     "data": {
      "text/html": [
       "<div>\n",
       "<style scoped>\n",
       "    .dataframe tbody tr th:only-of-type {\n",
       "        vertical-align: middle;\n",
       "    }\n",
       "\n",
       "    .dataframe tbody tr th {\n",
       "        vertical-align: top;\n",
       "    }\n",
       "\n",
       "    .dataframe thead th {\n",
       "        text-align: right;\n",
       "    }\n",
       "</style>\n",
       "<table border=\"1\" class=\"dataframe\">\n",
       "  <thead>\n",
       "    <tr style=\"text-align: right;\">\n",
       "      <th></th>\n",
       "      <th>headers</th>\n",
       "      <th>definition</th>\n",
       "      <th>header_length</th>\n",
       "      <th>def_length</th>\n",
       "    </tr>\n",
       "  </thead>\n",
       "  <tbody>\n",
       "    <tr>\n",
       "      <th>6000</th>\n",
       "      <td>BELGRADE</td>\n",
       "      <td>the capital of the province of Servia,\\nin Eur...</td>\n",
       "      <td>8</td>\n",
       "      <td>174</td>\n",
       "    </tr>\n",
       "    <tr>\n",
       "      <th>6001</th>\n",
       "      <td>BELI</td>\n",
       "      <td></td>\n",
       "      <td>4</td>\n",
       "      <td>0</td>\n",
       "    </tr>\n",
       "    <tr>\n",
       "      <th>6002</th>\n",
       "      <td>BELIEF</td>\n",
       "      <td>the affent of the mind to the truth of any\\npr...</td>\n",
       "      <td>6</td>\n",
       "      <td>73</td>\n",
       "    </tr>\n",
       "    <tr>\n",
       "      <th>6003</th>\n",
       "      <td>BELL</td>\n",
       "      <td></td>\n",
       "      <td>4</td>\n",
       "      <td>0</td>\n",
       "    </tr>\n",
       "    <tr>\n",
       "      <th>6004</th>\n",
       "      <td>BELL</td>\n",
       "      <td></td>\n",
       "      <td>4</td>\n",
       "      <td>0</td>\n",
       "    </tr>\n",
       "    <tr>\n",
       "      <th>...</th>\n",
       "      <td>...</td>\n",
       "      <td>...</td>\n",
       "      <td>...</td>\n",
       "      <td>...</td>\n",
       "    </tr>\n",
       "    <tr>\n",
       "      <th>6495</th>\n",
       "      <td>BOCK</td>\n",
       "      <td></td>\n",
       "      <td>4</td>\n",
       "      <td>0</td>\n",
       "    </tr>\n",
       "    <tr>\n",
       "      <th>6496</th>\n",
       "      <td>EAND</td>\n",
       "      <td>in the Saxons time, is what we now call\\nfreeh...</td>\n",
       "      <td>4</td>\n",
       "      <td>241</td>\n",
       "    </tr>\n",
       "    <tr>\n",
       "      <th>6497</th>\n",
       "      <td>BODKIN</td>\n",
       "      <td>a fmall inftrument made of fteel, bone, ivo\\nr...</td>\n",
       "      <td>6</td>\n",
       "      <td>216</td>\n",
       "    </tr>\n",
       "    <tr>\n",
       "      <th>6498</th>\n",
       "      <td>BODMIN</td>\n",
       "      <td>a borough-town of Cornwall, about twenty-\\nfix...</td>\n",
       "      <td>6</td>\n",
       "      <td>227</td>\n",
       "    </tr>\n",
       "    <tr>\n",
       "      <th>6499</th>\n",
       "      <td>BODROCH</td>\n",
       "      <td>a town of Hungary, about an hundred\\nmiles fou...</td>\n",
       "      <td>7</td>\n",
       "      <td>155</td>\n",
       "    </tr>\n",
       "  </tbody>\n",
       "</table>\n",
       "<p>500 rows × 4 columns</p>\n",
       "</div>"
      ],
      "text/plain": [
       "       headers                                         definition  \\\n",
       "6000  BELGRADE  the capital of the province of Servia,\\nin Eur...   \n",
       "6001      BELI                                                      \n",
       "6002    BELIEF  the affent of the mind to the truth of any\\npr...   \n",
       "6003      BELL                                                      \n",
       "6004      BELL                                                      \n",
       "...        ...                                                ...   \n",
       "6495      BOCK                                                      \n",
       "6496      EAND  in the Saxons time, is what we now call\\nfreeh...   \n",
       "6497    BODKIN  a fmall inftrument made of fteel, bone, ivo\\nr...   \n",
       "6498    BODMIN  a borough-town of Cornwall, about twenty-\\nfix...   \n",
       "6499   BODROCH  a town of Hungary, about an hundred\\nmiles fou...   \n",
       "\n",
       "      header_length  def_length  \n",
       "6000              8         174  \n",
       "6001              4           0  \n",
       "6002              6          73  \n",
       "6003              4           0  \n",
       "6004              4           0  \n",
       "...             ...         ...  \n",
       "6495              4           0  \n",
       "6496              4         241  \n",
       "6497              6         216  \n",
       "6498              6         227  \n",
       "6499              7         155  \n",
       "\n",
       "[500 rows x 4 columns]"
      ]
     },
     "execution_count": 23,
     "metadata": {},
     "output_type": "execute_result"
    }
   ],
   "source": [
    "first_ed_data[6000:6500] # example content"
   ]
  },
  {
   "cell_type": "code",
   "execution_count": 44,
   "metadata": {},
   "outputs": [
    {
     "data": {
      "text/html": [
       "<div>\n",
       "<style scoped>\n",
       "    .dataframe tbody tr th:only-of-type {\n",
       "        vertical-align: middle;\n",
       "    }\n",
       "\n",
       "    .dataframe tbody tr th {\n",
       "        vertical-align: top;\n",
       "    }\n",
       "\n",
       "    .dataframe thead th {\n",
       "        text-align: right;\n",
       "    }\n",
       "</style>\n",
       "<table border=\"1\" class=\"dataframe\">\n",
       "  <thead>\n",
       "    <tr style=\"text-align: right;\">\n",
       "      <th></th>\n",
       "      <th>headers</th>\n",
       "      <th>definition</th>\n",
       "      <th>header_length</th>\n",
       "      <th>def_length</th>\n",
       "    </tr>\n",
       "  </thead>\n",
       "  <tbody>\n",
       "    <tr>\n",
       "      <th>0</th>\n",
       "      <td>UJ</td>\n",
       "      <td>^ (txk^L j 1rvt*Xitj\\n$/i*4j/cJysx*£&gt;Xb&lt;. f^o</td>\n",
       "      <td>2</td>\n",
       "      <td>45</td>\n",
       "    </tr>\n",
       "    <tr>\n",
       "      <th>1</th>\n",
       "      <td>LZ</td>\n",
       "      <td>c^. % 'bvC</td>\n",
       "      <td>2</td>\n",
       "      <td>11</td>\n",
       "    </tr>\n",
       "    <tr>\n",
       "      <th>2</th>\n",
       "      <td>JJ</td>\n",
       "      <td>' }v*c CclU^K &lt;77t .\\nyy*t4**2^t*-C{+r ^t</td>\n",
       "      <td>2</td>\n",
       "      <td>40</td>\n",
       "    </tr>\n",
       "    <tr>\n",
       "      <th>3</th>\n",
       "      <td>XC</td>\n",
       "      <td>vK &amp;v»w\\n8/y: t^cCv-yt^yA. *-? ^v. •^</td>\n",
       "      <td>2</td>\n",
       "      <td>36</td>\n",
       "    </tr>\n",
       "    <tr>\n",
       "      <th>4</th>\n",
       "      <td>GL</td>\n",
       "      <td>ftc*frt\\n* U^&gt;. ‘\\n** a^yUf^yX ^\\n}tA£. yylrrC...</td>\n",
       "      <td>2</td>\n",
       "      <td>59</td>\n",
       "    </tr>\n",
       "    <tr>\n",
       "      <th>...</th>\n",
       "      <td>...</td>\n",
       "      <td>...</td>\n",
       "      <td>...</td>\n",
       "      <td>...</td>\n",
       "    </tr>\n",
       "    <tr>\n",
       "      <th>28965</th>\n",
       "      <td>TL</td>\n",
       "      <td></td>\n",
       "      <td>2</td>\n",
       "      <td>0</td>\n",
       "    </tr>\n",
       "    <tr>\n",
       "      <th>28976</th>\n",
       "      <td>CH</td>\n",
       "      <td>he different Sciences and Arts are digefted in...</td>\n",
       "      <td>2</td>\n",
       "      <td>80</td>\n",
       "    </tr>\n",
       "    <tr>\n",
       "      <th>28992</th>\n",
       "      <td>CI</td>\n",
       "      <td></td>\n",
       "      <td>2</td>\n",
       "      <td>0</td>\n",
       "    </tr>\n",
       "    <tr>\n",
       "      <th>29000</th>\n",
       "      <td>NA</td>\n",
       "      <td></td>\n",
       "      <td>2</td>\n",
       "      <td>0</td>\n",
       "    </tr>\n",
       "    <tr>\n",
       "      <th>29009</th>\n",
       "      <td>II</td>\n",
       "      <td>\\n</td>\n",
       "      <td>2</td>\n",
       "      <td>1</td>\n",
       "    </tr>\n",
       "  </tbody>\n",
       "</table>\n",
       "<p>6230 rows × 4 columns</p>\n",
       "</div>"
      ],
      "text/plain": [
       "      headers                                         definition  \\\n",
       "0          UJ      ^ (txk^L j 1rvt*Xitj\\n$/i*4j/cJysx*£>Xb<. f^o   \n",
       "1          LZ                                        c^. % 'bvC    \n",
       "2          JJ          ' }v*c CclU^K <77t .\\nyy*t4**2^t*-C{+r ^t   \n",
       "3          XC              vK &v»w\\n8/y: t^cCv-yt^yA. *-? ^v. •^   \n",
       "4          GL  ftc*frt\\n* U^>. ‘\\n** a^yUf^yX ^\\n}tA£. yylrrC...   \n",
       "...       ...                                                ...   \n",
       "28965      TL                                                      \n",
       "28976      CH  he different Sciences and Arts are digefted in...   \n",
       "28992      CI                                                      \n",
       "29000      NA                                                      \n",
       "29009      II                                                 \\n   \n",
       "\n",
       "       header_length  def_length  \n",
       "0                  2          45  \n",
       "1                  2          11  \n",
       "2                  2          40  \n",
       "3                  2          36  \n",
       "4                  2          59  \n",
       "...              ...         ...  \n",
       "28965              2           0  \n",
       "28976              2          80  \n",
       "28992              2           0  \n",
       "29000              2           0  \n",
       "29009              2           1  \n",
       "\n",
       "[6230 rows x 4 columns]"
      ]
     },
     "execution_count": 44,
     "metadata": {},
     "output_type": "execute_result"
    }
   ],
   "source": [
    "# Checking if two-letter headers seem to be mostly noise or not:\n",
    "first_ed_data[first_ed_data['header_length'] < 3]"
   ]
  },
  {
   "cell_type": "code",
   "execution_count": 46,
   "metadata": {},
   "outputs": [
    {
     "data": {
      "text/html": [
       "<div>\n",
       "<style scoped>\n",
       "    .dataframe tbody tr th:only-of-type {\n",
       "        vertical-align: middle;\n",
       "    }\n",
       "\n",
       "    .dataframe tbody tr th {\n",
       "        vertical-align: top;\n",
       "    }\n",
       "\n",
       "    .dataframe thead th {\n",
       "        text-align: right;\n",
       "    }\n",
       "</style>\n",
       "<table border=\"1\" class=\"dataframe\">\n",
       "  <thead>\n",
       "    <tr style=\"text-align: right;\">\n",
       "      <th></th>\n",
       "      <th>headers</th>\n",
       "      <th>definition</th>\n",
       "      <th>header_length</th>\n",
       "      <th>def_length</th>\n",
       "    </tr>\n",
       "  </thead>\n",
       "  <tbody>\n",
       "    <tr>\n",
       "      <th>0</th>\n",
       "      <td>UJ</td>\n",
       "      <td>^ (txk^L j 1rvt*Xitj\\n$/i*4j/cJysx*£&gt;Xb&lt;. f^o</td>\n",
       "      <td>2</td>\n",
       "      <td>45</td>\n",
       "    </tr>\n",
       "    <tr>\n",
       "      <th>1</th>\n",
       "      <td>LZ</td>\n",
       "      <td>c^. % 'bvC</td>\n",
       "      <td>2</td>\n",
       "      <td>11</td>\n",
       "    </tr>\n",
       "    <tr>\n",
       "      <th>2</th>\n",
       "      <td>JJ</td>\n",
       "      <td>' }v*c CclU^K &lt;77t .\\nyy*t4**2^t*-C{+r ^t</td>\n",
       "      <td>2</td>\n",
       "      <td>40</td>\n",
       "    </tr>\n",
       "    <tr>\n",
       "      <th>3</th>\n",
       "      <td>XC</td>\n",
       "      <td>vK &amp;v»w\\n8/y: t^cCv-yt^yA. *-? ^v. •^</td>\n",
       "      <td>2</td>\n",
       "      <td>36</td>\n",
       "    </tr>\n",
       "    <tr>\n",
       "      <th>4</th>\n",
       "      <td>GL</td>\n",
       "      <td>ftc*frt\\n* U^&gt;. ‘\\n** a^yUf^yX ^\\n}tA£. yylrrC...</td>\n",
       "      <td>2</td>\n",
       "      <td>59</td>\n",
       "    </tr>\n",
       "    <tr>\n",
       "      <th>...</th>\n",
       "      <td>...</td>\n",
       "      <td>...</td>\n",
       "      <td>...</td>\n",
       "      <td>...</td>\n",
       "    </tr>\n",
       "    <tr>\n",
       "      <th>28993</th>\n",
       "      <td>ZUG</td>\n",
       "      <td>one of the cantons of Switzerland, is furround...</td>\n",
       "      <td>3</td>\n",
       "      <td>140</td>\n",
       "    </tr>\n",
       "    <tr>\n",
       "      <th>29000</th>\n",
       "      <td>NA</td>\n",
       "      <td></td>\n",
       "      <td>2</td>\n",
       "      <td>0</td>\n",
       "    </tr>\n",
       "    <tr>\n",
       "      <th>29004</th>\n",
       "      <td>COR</td>\n",
       "      <td></td>\n",
       "      <td>3</td>\n",
       "      <td>0</td>\n",
       "    </tr>\n",
       "    <tr>\n",
       "      <th>29009</th>\n",
       "      <td>II</td>\n",
       "      <td>\\n</td>\n",
       "      <td>2</td>\n",
       "      <td>1</td>\n",
       "    </tr>\n",
       "    <tr>\n",
       "      <th>29010</th>\n",
       "      <td>III</td>\n",
       "      <td></td>\n",
       "      <td>3</td>\n",
       "      <td>0</td>\n",
       "    </tr>\n",
       "  </tbody>\n",
       "</table>\n",
       "<p>10245 rows × 4 columns</p>\n",
       "</div>"
      ],
      "text/plain": [
       "      headers                                         definition  \\\n",
       "0          UJ      ^ (txk^L j 1rvt*Xitj\\n$/i*4j/cJysx*£>Xb<. f^o   \n",
       "1          LZ                                        c^. % 'bvC    \n",
       "2          JJ          ' }v*c CclU^K <77t .\\nyy*t4**2^t*-C{+r ^t   \n",
       "3          XC              vK &v»w\\n8/y: t^cCv-yt^yA. *-? ^v. •^   \n",
       "4          GL  ftc*frt\\n* U^>. ‘\\n** a^yUf^yX ^\\n}tA£. yylrrC...   \n",
       "...       ...                                                ...   \n",
       "28993     ZUG  one of the cantons of Switzerland, is furround...   \n",
       "29000      NA                                                      \n",
       "29004     COR                                                      \n",
       "29009      II                                                 \\n   \n",
       "29010     III                                                      \n",
       "\n",
       "       header_length  def_length  \n",
       "0                  2          45  \n",
       "1                  2          11  \n",
       "2                  2          40  \n",
       "3                  2          36  \n",
       "4                  2          59  \n",
       "...              ...         ...  \n",
       "28993              3         140  \n",
       "29000              2           0  \n",
       "29004              3           0  \n",
       "29009              2           1  \n",
       "29010              3           0  \n",
       "\n",
       "[10245 rows x 4 columns]"
      ]
     },
     "execution_count": 46,
     "metadata": {},
     "output_type": "execute_result"
    }
   ],
   "source": [
    "# What about three? There's a valid entry here for ZUG\n",
    "first_ed_data[first_ed_data['header_length'] < 4]"
   ]
  },
  {
   "cell_type": "code",
   "execution_count": 35,
   "metadata": {},
   "outputs": [
    {
     "data": {
      "text/plain": [
       "(False, 'Definitions should not be negative or zero in length')"
      ]
     },
     "execution_count": 35,
     "metadata": {},
     "output_type": "execute_result"
    }
   ],
   "source": [
    "# Assertions to check some basic features of the data\n",
    "\n",
    "first_ed_data[first_ed_data['def_length'] <= 0].empty, 'Definitions should not be negative or zero in length'"
   ]
  },
  {
   "cell_type": "markdown",
   "metadata": {},
   "source": [
    "From `describe()`, we see there are clearly very large values for `def_length`, even though the 75th percentile indicates a way lower value. We would probably want to check these outliers by hand, to see if it is a problem with our RegEx select not performing well on the noisy text, to decide whether to remove them.\n",
    "\n",
    "There are also lots of empty definitions, or unrealistically short ones, that we should clean!"
   ]
  },
  {
   "cell_type": "code",
   "execution_count": 51,
   "metadata": {},
   "outputs": [],
   "source": [
    "# Quick cleaning of data:\n",
    "# realistically, a definition can't be shorter than 5 letters, even if it is simply a redirection of the form of \"See x\"\n",
    "first_ed_clean = first_ed_data.loc[first_ed_data['def_length'] > 5]\n",
    "# remove headers with two letters as they are probably mostly noise\n",
    "first_ed_clean = first_ed_data.loc[first_ed_data['header_length'] > 2]"
   ]
  },
  {
   "cell_type": "code",
   "execution_count": 52,
   "metadata": {},
   "outputs": [
    {
     "data": {
      "text/plain": [
       "(True, 'Headers should not be shorter than three characters')"
      ]
     },
     "execution_count": 52,
     "metadata": {},
     "output_type": "execute_result"
    }
   ],
   "source": [
    "# Assertions to re-check some basic features of the data\n",
    "\n",
    "first_ed_clean[first_ed_clean['def_length'] <= 0].empty, 'Definitions should not be negative or zero in length'\n",
    "first_ed_clean[first_ed_clean['def_length'] < 5].empty, 'Definitions should not be shorter than five characters'\n",
    "first_ed_clean[first_ed_clean['header_length'] < 3].empty, 'Headers should not be shorter than three characters'"
   ]
  },
  {
   "cell_type": "code",
   "execution_count": 53,
   "metadata": {},
   "outputs": [
    {
     "data": {
      "text/html": [
       "<div>\n",
       "<style scoped>\n",
       "    .dataframe tbody tr th:only-of-type {\n",
       "        vertical-align: middle;\n",
       "    }\n",
       "\n",
       "    .dataframe tbody tr th {\n",
       "        vertical-align: top;\n",
       "    }\n",
       "\n",
       "    .dataframe thead th {\n",
       "        text-align: right;\n",
       "    }\n",
       "</style>\n",
       "<table border=\"1\" class=\"dataframe\">\n",
       "  <thead>\n",
       "    <tr style=\"text-align: right;\">\n",
       "      <th></th>\n",
       "      <th>headers</th>\n",
       "      <th>definition</th>\n",
       "      <th>header_length</th>\n",
       "      <th>def_length</th>\n",
       "    </tr>\n",
       "  </thead>\n",
       "  <tbody>\n",
       "    <tr>\n",
       "      <th>7154</th>\n",
       "      <td>BRANDRITH</td>\n",
       "      <td>a trevet, or other iron utenfil, to fet\\na vef...</td>\n",
       "      <td>9</td>\n",
       "      <td>67</td>\n",
       "    </tr>\n",
       "    <tr>\n",
       "      <th>7155</th>\n",
       "      <td>BRANDY</td>\n",
       "      <td>a fpirituous and inflammable liquor, ex-\\ntrad...</td>\n",
       "      <td>6</td>\n",
       "      <td>576</td>\n",
       "    </tr>\n",
       "    <tr>\n",
       "      <th>7156</th>\n",
       "      <td>BRANLIN</td>\n",
       "      <td>in ichthyology, a fpecies of falmon, with\\nfev...</td>\n",
       "      <td>7</td>\n",
       "      <td>124</td>\n",
       "    </tr>\n",
       "    <tr>\n",
       "      <th>7157</th>\n",
       "      <td>BRANSKA</td>\n",
       "      <td>a town of Tranfilvania, fituated on the ri\\nve...</td>\n",
       "      <td>7</td>\n",
       "      <td>91</td>\n",
       "    </tr>\n",
       "    <tr>\n",
       "      <th>7158</th>\n",
       "      <td>BRASEM</td>\n",
       "      <td>in ichthyology, a ffth otherwife called aca-\\n...</td>\n",
       "      <td>6</td>\n",
       "      <td>54</td>\n",
       "    </tr>\n",
       "    <tr>\n",
       "      <th>...</th>\n",
       "      <td>...</td>\n",
       "      <td>...</td>\n",
       "      <td>...</td>\n",
       "      <td>...</td>\n",
       "    </tr>\n",
       "    <tr>\n",
       "      <th>7691</th>\n",
       "      <td>HUNDRED</td>\n",
       "      <td></td>\n",
       "      <td>7</td>\n",
       "      <td>0</td>\n",
       "    </tr>\n",
       "    <tr>\n",
       "      <th>7692</th>\n",
       "      <td>AND</td>\n",
       "      <td>he various TfchnicalTervs, &lt;&amp;c. are expl-aiued...</td>\n",
       "      <td>3</td>\n",
       "      <td>91</td>\n",
       "    </tr>\n",
       "    <tr>\n",
       "      <th>7693</th>\n",
       "      <td>SIXTY</td>\n",
       "      <td></td>\n",
       "      <td>5</td>\n",
       "      <td>0</td>\n",
       "    </tr>\n",
       "    <tr>\n",
       "      <th>7694</th>\n",
       "      <td>COPPERPLATES</td>\n",
       "      <td>.By Society of</td>\n",
       "      <td>12</td>\n",
       "      <td>15</td>\n",
       "    </tr>\n",
       "    <tr>\n",
       "      <th>7695</th>\n",
       "      <td>GENTLEMEN</td>\n",
       "      <td>n Scotland.\\n</td>\n",
       "      <td>9</td>\n",
       "      <td>12</td>\n",
       "    </tr>\n",
       "  </tbody>\n",
       "</table>\n",
       "<p>500 rows × 4 columns</p>\n",
       "</div>"
      ],
      "text/plain": [
       "           headers                                         definition  \\\n",
       "7154     BRANDRITH  a trevet, or other iron utenfil, to fet\\na vef...   \n",
       "7155        BRANDY  a fpirituous and inflammable liquor, ex-\\ntrad...   \n",
       "7156       BRANLIN  in ichthyology, a fpecies of falmon, with\\nfev...   \n",
       "7157       BRANSKA  a town of Tranfilvania, fituated on the ri\\nve...   \n",
       "7158        BRASEM  in ichthyology, a ffth otherwife called aca-\\n...   \n",
       "...            ...                                                ...   \n",
       "7691       HUNDRED                                                      \n",
       "7692           AND  he various TfchnicalTervs, <&c. are expl-aiued...   \n",
       "7693         SIXTY                                                      \n",
       "7694  COPPERPLATES                                    .By Society of    \n",
       "7695     GENTLEMEN                                      n Scotland.\\n   \n",
       "\n",
       "      header_length  def_length  \n",
       "7154              9          67  \n",
       "7155              6         576  \n",
       "7156              7         124  \n",
       "7157              7          91  \n",
       "7158              6          54  \n",
       "...             ...         ...  \n",
       "7691              7           0  \n",
       "7692              3          91  \n",
       "7693              5           0  \n",
       "7694             12          15  \n",
       "7695              9          12  \n",
       "\n",
       "[500 rows x 4 columns]"
      ]
     },
     "execution_count": 53,
     "metadata": {},
     "output_type": "execute_result"
    }
   ],
   "source": [
    "first_ed_clean[6000:6500] # example output"
   ]
  },
  {
   "cell_type": "markdown",
   "metadata": {},
   "source": [
    "## Visualisations"
   ]
  },
  {
   "cell_type": "markdown",
   "metadata": {},
   "source": [
    "### Distribution of lengths of entries (headers) and definitions in first edition"
   ]
  },
  {
   "cell_type": "code",
   "execution_count": 26,
   "metadata": {
    "scrolled": true
   },
   "outputs": [
    {
     "data": {
      "text/html": [
       "<div>\n",
       "<style scoped>\n",
       "    .dataframe tbody tr th:only-of-type {\n",
       "        vertical-align: middle;\n",
       "    }\n",
       "\n",
       "    .dataframe tbody tr th {\n",
       "        vertical-align: top;\n",
       "    }\n",
       "\n",
       "    .dataframe thead th {\n",
       "        text-align: right;\n",
       "    }\n",
       "</style>\n",
       "<table border=\"1\" class=\"dataframe\">\n",
       "  <thead>\n",
       "    <tr style=\"text-align: right;\">\n",
       "      <th></th>\n",
       "      <th>header_length</th>\n",
       "      <th>def_length</th>\n",
       "    </tr>\n",
       "  </thead>\n",
       "  <tbody>\n",
       "    <tr>\n",
       "      <th>count</th>\n",
       "      <td>22318.000000</td>\n",
       "      <td>22318.000000</td>\n",
       "    </tr>\n",
       "    <tr>\n",
       "      <th>mean</th>\n",
       "      <td>6.179944</td>\n",
       "      <td>394.400349</td>\n",
       "    </tr>\n",
       "    <tr>\n",
       "      <th>std</th>\n",
       "      <td>2.963667</td>\n",
       "      <td>1208.974055</td>\n",
       "    </tr>\n",
       "    <tr>\n",
       "      <th>min</th>\n",
       "      <td>2.000000</td>\n",
       "      <td>6.000000</td>\n",
       "    </tr>\n",
       "    <tr>\n",
       "      <th>25%</th>\n",
       "      <td>4.000000</td>\n",
       "      <td>67.000000</td>\n",
       "    </tr>\n",
       "    <tr>\n",
       "      <th>50%</th>\n",
       "      <td>6.000000</td>\n",
       "      <td>131.000000</td>\n",
       "    </tr>\n",
       "    <tr>\n",
       "      <th>75%</th>\n",
       "      <td>8.000000</td>\n",
       "      <td>281.000000</td>\n",
       "    </tr>\n",
       "    <tr>\n",
       "      <th>max</th>\n",
       "      <td>22.000000</td>\n",
       "      <td>25021.000000</td>\n",
       "    </tr>\n",
       "  </tbody>\n",
       "</table>\n",
       "</div>"
      ],
      "text/plain": [
       "       header_length    def_length\n",
       "count   22318.000000  22318.000000\n",
       "mean        6.179944    394.400349\n",
       "std         2.963667   1208.974055\n",
       "min         2.000000      6.000000\n",
       "25%         4.000000     67.000000\n",
       "50%         6.000000    131.000000\n",
       "75%         8.000000    281.000000\n",
       "max        22.000000  25021.000000"
      ]
     },
     "execution_count": 26,
     "metadata": {},
     "output_type": "execute_result"
    }
   ],
   "source": [
    "first_ed_clean.describe()"
   ]
  },
  {
   "cell_type": "code",
   "execution_count": 27,
   "metadata": {},
   "outputs": [
    {
     "data": {
      "image/png": "[encoded data removed]",
      "text/plain": [
       "<Figure size 1080x360 with 1 Axes>"
      ]
     },
     "metadata": {
      "needs_background": "light"
     },
     "output_type": "display_data"
    }
   ],
   "source": [
    "plt.figure(figsize=(15, 5))\n",
    "chart = sns.distplot(first_ed_clean['def_length'], bins=100)\n",
    "chart.set_title('Distribution of lengths of definitions of entries in first edition')\n",
    "chart.set_xlabel(\"Definition length (in characters)\")\n",
    "chart.set_ylabel(\"Density\")\n",
    "plt.xlim(0)\n",
    "plt.show()"
   ]
  },
  {
   "cell_type": "markdown",
   "metadata": {},
   "source": [
    "From `describe()` we can see that the 75th percentile for `def_length` is 282, so I will regenerate the graph focusing on the smaller values to get a better look at the majority of the data."
   ]
  },
  {
   "cell_type": "code",
   "execution_count": 28,
   "metadata": {},
   "outputs": [
    {
     "data": {
      "image/png": "[encoded data removed]",
      "text/plain": [
       "<Figure size 1080x360 with 1 Axes>"
      ]
     },
     "metadata": {
      "needs_background": "light"
     },
     "output_type": "display_data"
    }
   ],
   "source": [
    "# 2000 chosen as most values seem to fall below it from the graph above\n",
    "first_ed_short_descs = first_ed_clean.loc[first_ed_clean['def_length'] < 2000] \n",
    "\n",
    "plt.figure(figsize=(15, 5))\n",
    "p = sns.distplot(first_ed_short_descs['def_length'], bins=100)\n",
    "p.set_title('Distribution of lengths of definitions in first edition')\n",
    "p.set_xlabel(\"Definition length (in characters)\")\n",
    "p.set_ylabel(\"Density\")\n",
    "p.set_xticks(np.arange(0,2000,100))\n",
    "plt.xlim(0,2000)\n",
    "plt.show()"
   ]
  },
  {
   "cell_type": "markdown",
   "metadata": {},
   "source": [
    "We can see that the data takes the shape of a cut-off bell curve, with 75% of definitions falling below 282 characters, but there are various outliers that we can notice above 1000 characters, where a significant number of definitions fall within a bin. This could possibly be due to the noisiness in the data used or the bin size, or maybe there are some entries with a specific structure that have the same length.\n",
    "\n",
    "We also notice a strange dip in the length of definitions at around 50 characters, which would need further investigation to explore. This might just be due to a lack of data, in which case we could check by visualising the lengths for all editions and seeing whether the dip gets smoothed out."
   ]
  },
  {
   "cell_type": "markdown",
   "metadata": {},
   "source": [
    "### Distribution of references to other entries in definitions"
   ]
  },
  {
   "cell_type": "code",
   "execution_count": 29,
   "metadata": {},
   "outputs": [
    {
     "data": {
      "text/html": [
       "<div>\n",
       "<style scoped>\n",
       "    .dataframe tbody tr th:only-of-type {\n",
       "        vertical-align: middle;\n",
       "    }\n",
       "\n",
       "    .dataframe tbody tr th {\n",
       "        vertical-align: top;\n",
       "    }\n",
       "\n",
       "    .dataframe thead th {\n",
       "        text-align: right;\n",
       "    }\n",
       "</style>\n",
       "<table border=\"1\" class=\"dataframe\">\n",
       "  <thead>\n",
       "    <tr style=\"text-align: right;\">\n",
       "      <th></th>\n",
       "      <th>header_length</th>\n",
       "      <th>def_length</th>\n",
       "      <th>refs_in_desc</th>\n",
       "    </tr>\n",
       "  </thead>\n",
       "  <tbody>\n",
       "    <tr>\n",
       "      <th>count</th>\n",
       "      <td>22318.000000</td>\n",
       "      <td>22318.000000</td>\n",
       "      <td>22318.000000</td>\n",
       "    </tr>\n",
       "    <tr>\n",
       "      <th>mean</th>\n",
       "      <td>6.179944</td>\n",
       "      <td>394.400349</td>\n",
       "      <td>0.222511</td>\n",
       "    </tr>\n",
       "    <tr>\n",
       "      <th>std</th>\n",
       "      <td>2.963667</td>\n",
       "      <td>1208.974055</td>\n",
       "      <td>0.469484</td>\n",
       "    </tr>\n",
       "    <tr>\n",
       "      <th>min</th>\n",
       "      <td>2.000000</td>\n",
       "      <td>6.000000</td>\n",
       "      <td>0.000000</td>\n",
       "    </tr>\n",
       "    <tr>\n",
       "      <th>25%</th>\n",
       "      <td>4.000000</td>\n",
       "      <td>67.000000</td>\n",
       "      <td>0.000000</td>\n",
       "    </tr>\n",
       "    <tr>\n",
       "      <th>50%</th>\n",
       "      <td>6.000000</td>\n",
       "      <td>131.000000</td>\n",
       "      <td>0.000000</td>\n",
       "    </tr>\n",
       "    <tr>\n",
       "      <th>75%</th>\n",
       "      <td>8.000000</td>\n",
       "      <td>281.000000</td>\n",
       "      <td>0.000000</td>\n",
       "    </tr>\n",
       "    <tr>\n",
       "      <th>max</th>\n",
       "      <td>22.000000</td>\n",
       "      <td>25021.000000</td>\n",
       "      <td>6.000000</td>\n",
       "    </tr>\n",
       "  </tbody>\n",
       "</table>\n",
       "</div>"
      ],
      "text/plain": [
       "       header_length    def_length  refs_in_desc\n",
       "count   22318.000000  22318.000000  22318.000000\n",
       "mean        6.179944    394.400349      0.222511\n",
       "std         2.963667   1208.974055      0.469484\n",
       "min         2.000000      6.000000      0.000000\n",
       "25%         4.000000     67.000000      0.000000\n",
       "50%         6.000000    131.000000      0.000000\n",
       "75%         8.000000    281.000000      0.000000\n",
       "max        22.000000  25021.000000      6.000000"
      ]
     },
     "execution_count": 29,
     "metadata": {},
     "output_type": "execute_result"
    }
   ],
   "source": [
    "# find all references of the form of \"See x\" in definitions \n",
    "\n",
    "refs_in_desc = []\n",
    "\n",
    "for index, row in first_ed_clean.iterrows():   \n",
    "    refs_in_desc.append(len(re.findall('See [^,\\.]*', row['definition']))) # matches \"See x\" until a comma or a period\n",
    "    \n",
    "first_ed_clean = first_ed_clean.assign(refs_in_desc=refs_in_desc)\n",
    "\n",
    "first_ed_clean.describe()"
   ]
  },
  {
   "cell_type": "code",
   "execution_count": 30,
   "metadata": {},
   "outputs": [
    {
     "data": {
      "text/plain": [
       "'in geometry, the ftraight line in a plain figure,\\nabout which it revolves, to produce or generate a fo-\\nlid : thus, if a femi-circle be moved round its diame\\nter at reft, it will generate a fphere, the axis of which\\nis that diameter.\\nAxis, in aftronomy, is an imaginary right line fuppofed\\nto pafs through the centre of the earth, and the hea\\nvenly bodies, about which they perform their diurnal\\nrevolutions.\\nAxis in conic-fedtions, a right line dividing the fedtion\\ninto two equal parts, and cutting all its ordinates at\\nright angles. See Conic Sections.\\nAxis, in mechanics. The axis of a balance is that line\\nabout which it moves, or rather turns about. Axis\\nof ofcillation is a right line parallel to the horizon,\\npalling through the centre about which a pendulum\\nvinrates. See Mechanics.\\nAxis in peritrochio, one of the five mechanical potvers,\\nconfifting of a peritrochium or wheel concentric with\\nwith the bafe of a cylinder, and moveable together\\nwith it about its axis. See Mechanics.\\nAxis, in optics, is that particular ray of light coming\\nfrom any objedt which falls perpendicularly on the eye.\\nSee Optics.\\nAxis, in architedture, fpiral axis, is the axis of a twill\\ned column drawn fpirally, in order to trace the cir\\ncumvolutions without.\\nAxis of the Ionic capital, is a line palling perpendi\\ncularly through the middle of the eye of the volute.\\nSee Architecture.\\nAxis of a veffel is an imaginary right line palling\\nthrough the middle of it perpendicularly to its bafe,\\nand equally diftant from its fides.\\nro ) a z 1\\nAxis, in anatomy, the fecond vertebra of the neck, fo\\ncalled from the head’s turning on it like an axis.\\nAxis, in zoology. See Cervus.\\n'"
      ]
     },
     "execution_count": 30,
     "metadata": {},
     "output_type": "execute_result"
    }
   ],
   "source": [
    "# checking that it picks up what I want it to pick up correctly, through visual inspection\n",
    "\n",
    "list(first_ed_clean.loc[first_ed_clean['refs_in_desc'] == 6].definition)[0] # should see 6 \"See x\"-type references"
   ]
  },
  {
   "cell_type": "code",
   "execution_count": 31,
   "metadata": {},
   "outputs": [
    {
     "data": {
      "image/png": "[encoded data removed]",
      "text/plain": [
       "<Figure size 1152x504 with 2 Axes>"
      ]
     },
     "metadata": {
      "needs_background": "light"
     },
     "output_type": "display_data"
    }
   ],
   "source": [
    "fig, ax = plt.subplots(1,2, figsize=(16, 7))\n",
    "p = sns.countplot(x=\"refs_in_desc\", data=first_ed_clean, ax=ax[0], palette=\"Blues_d\")\n",
    "p.set_xlabel('Definitions')\n",
    "p.set_title(\"Counts of references to other entries ('See x') in definitions\")\n",
    "p2 = sns.countplot(x=\"refs_in_desc\", data=first_ed_clean, ax=ax[1], palette=\"Blues_d\")\n",
    "p2.set_xlabel('Definitions')\n",
    "p.set_ylabel(\"count of references in definition\")\n",
    "p2.set_title(\"Counts of references to other entries ('See x') in definitions, using log scale\")\n",
    "p2.set_yscale(\"log\")\n",
    "p2.set_ylabel(\"count of references in definition(log scale)\")\n",
    "# set y label\n",
    "\n",
    "#plt.legend()\n",
    "plt.show()"
   ]
  },
  {
   "cell_type": "markdown",
   "metadata": {},
   "source": [
    "In this visualisation, we can see that most entries do not reference another entry in their definition. The second visualisation (using a log scale to better see the smaller values) shows that the values are an exponentially decreasing graph, meaning that a very small number of definitions will have very high numbers of references in them, and a very large number of them will have very few (or no) references. This gives us insight into how connected the entries in the encyclopaedia are, and can be useful for when comparing editions, to see if later editions are perhaps more connected."
   ]
  },
  {
   "cell_type": "markdown",
   "metadata": {},
   "source": [
    "### Most frequent words in first edition"
   ]
  },
  {
   "cell_type": "code",
   "execution_count": 32,
   "metadata": {},
   "outputs": [
    {
     "data": {
      "image/png": "[encoded data removed]",
      "text/plain": [
       "<Figure size 1008x1008 with 1 Axes>"
      ]
     },
     "metadata": {
      "needs_background": "light"
     },
     "output_type": "display_data"
    }
   ],
   "source": [
    "full_content = [] # text from all three volumes of the first edition\n",
    "\n",
    "# adding most common misspelling of s as f to stopwords to be used in wordcloud\n",
    "stopwords_s_to_f = []\n",
    "for w in STOPWORDS:\n",
    "    stopwords_s_to_f.append(re.sub(\"s\", \"f\", w))\n",
    "all_stopwords = STOPWORDS.union(stopwords_s_to_f)\n",
    "\n",
    "stopwords = set(STOPWORDS) # to remove common stopwords\n",
    "\n",
    "for index, row in first_ed.iterrows():\n",
    "\n",
    "    #print(\"Reading: \" + row['file'])\n",
    "    f = open('text/' + row['file'], 'r', encoding=\"utf8\")\n",
    "    content = f.read()\n",
    "    content = clean_up(content) \n",
    "    full_content.append(content)\n",
    "    f.close()\n",
    "    \n",
    "full_content_str = ''.join(full_content)\n",
    "\n",
    "wordcloud = WordCloud(max_font_size=50, max_words=50, background_color=\"white\", scale=5, stopwords=all_stopwords).generate(full_content_str)\n",
    "fig = plt.figure(1, figsize=(14, 14))\n",
    "plt.imshow(wordcloud, interpolation=\"bilinear\")\n",
    "plt.axis(\"off\")\n",
    "plt.show()"
   ]
  },
  {
   "cell_type": "markdown",
   "metadata": {},
   "source": [
    "We notice that some of the words in the wordcloud are not of much significance (such as verbs/adjectives/other connecting words), as well as misspellings, which reduces the usefulness of this visualisation.\n",
    "We do notice interesting words, such as \"place\" (probably since the Encyclopaedia mentions various names of places), \"body\"(which makes sense, as in the next visualisation, we can see that Anatomy is a popular topic), \"See\" (due to the large number of references to other entries in the Encyclopaedia), and \"earth\"/\"water\" (probably related to Agriculture, Botany, or Natural History, which are popular topics as based on the next visualisation)"
   ]
  },
  {
   "cell_type": "markdown",
   "metadata": {},
   "source": [
    "### Most referenced entries"
   ]
  },
  {
   "cell_type": "code",
   "execution_count": 33,
   "metadata": {
    "scrolled": false
   },
   "outputs": [
    {
     "data": {
      "text/html": [
       "<div>\n",
       "<style scoped>\n",
       "    .dataframe tbody tr th:only-of-type {\n",
       "        vertical-align: middle;\n",
       "    }\n",
       "\n",
       "    .dataframe tbody tr th {\n",
       "        vertical-align: top;\n",
       "    }\n",
       "\n",
       "    .dataframe thead th {\n",
       "        text-align: right;\n",
       "    }\n",
       "</style>\n",
       "<table border=\"1\" class=\"dataframe\">\n",
       "  <thead>\n",
       "    <tr style=\"text-align: right;\">\n",
       "      <th></th>\n",
       "      <th>count</th>\n",
       "      <th>references</th>\n",
       "    </tr>\n",
       "  </thead>\n",
       "  <tbody>\n",
       "    <tr>\n",
       "      <th>0</th>\n",
       "      <td>321</td>\n",
       "      <td>See Anatomy</td>\n",
       "    </tr>\n",
       "    <tr>\n",
       "      <th>1</th>\n",
       "      <td>151</td>\n",
       "      <td>See Law</td>\n",
       "    </tr>\n",
       "    <tr>\n",
       "      <th>2</th>\n",
       "      <td>131</td>\n",
       "      <td>See Medicine</td>\n",
       "    </tr>\n",
       "    <tr>\n",
       "      <th>3</th>\n",
       "      <td>119</td>\n",
       "      <td>See Chemistry</td>\n",
       "    </tr>\n",
       "    <tr>\n",
       "      <th>4</th>\n",
       "      <td>112</td>\n",
       "      <td>See Astronomy</td>\n",
       "    </tr>\n",
       "  </tbody>\n",
       "</table>\n",
       "</div>"
      ],
      "text/plain": [
       "   count     references\n",
       "0    321    See Anatomy\n",
       "1    151        See Law\n",
       "2    131   See Medicine\n",
       "3    119  See Chemistry\n",
       "4    112  See Astronomy"
      ]
     },
     "execution_count": 33,
     "metadata": {},
     "output_type": "execute_result"
    }
   ],
   "source": [
    "# Converting unique counts to a DataFrame for easy visualisation\n",
    "\n",
    "all_refs = pd.DataFrame(refs)\n",
    "popular_refs = all_refs[0].value_counts()\n",
    "df_popular_refs = pd.DataFrame(popular_refs[:20]) # selecting just the top 20\n",
    "df_popular_refs['references'] = df_popular_refs.index\n",
    "df_popular_refs.columns = ['count', 'references']\n",
    "df_popular_refs = df_popular_refs.reset_index(drop=True)\n",
    "df_popular_refs.head()"
   ]
  },
  {
   "cell_type": "code",
   "execution_count": 34,
   "metadata": {},
   "outputs": [
    {
     "name": "stderr",
     "output_type": "stream",
     "text": [
      "c:\\users\\vaida\\github\\library\\env\\lib\\site-packages\\seaborn\\categorical.py:3692: UserWarning: The `size` paramter has been renamed to `height`; please update your code.\n",
      "  warnings.warn(msg, UserWarning)\n"
     ]
    },
    {
     "data": {
      "text/plain": [
       "<seaborn.axisgrid.FacetGrid at 0x1249df10>"
      ]
     },
     "execution_count": 34,
     "metadata": {},
     "output_type": "execute_result"
    },
    {
     "data": {
      "image/png": "[encoded data removed]",
      "text/plain": [
       "<Figure size 1440x720 with 1 Axes>"
      ]
     },
     "metadata": {},
     "output_type": "display_data"
    }
   ],
   "source": [
    "sns.set(font_scale=1.5)\n",
    "ax = sns.catplot(x='count', y='references', data=df_popular_refs, kind='bar', size=10, aspect=2)\n",
    "ax.fig.suptitle(\"Top 20 most referenced topics in first edition\", y=1)\n",
    "ax.set_axis_labels('counts of references', 'topic')"
   ]
  },
  {
   "cell_type": "markdown",
   "metadata": {},
   "source": [
    "From this visualisation, we can see which topics are referenced the most in the first edition, which can be used to infer what topics were important, due to the number of entries mentioning them. The results are expected, with general topics such as Anatomy, Law, Medicine, Chemistry. However, some topics are more niche, such as pneumatics and optics, thus we can assume those fields were popular or researched at the time.\n",
    "\n",
    "We do also see some entries not being topics, but instead, referencing parts of the Encyclopaedia itself (\"See Vol\", \"See p.\", \"See thefe articles\", \"See the next article\").\n",
    "\n",
    "Another interesting aspect is that both Law and Scots law appear as separate topics, which matches the fact that the Encyclopaedia was compiled in Scotland."
   ]
  },
  {
   "cell_type": "markdown",
   "metadata": {},
   "source": [
    "## Reflection\n",
    "\n",
    "We have learned that the definitions of entries in an Encyclopaedia are usually rather succinct (a few hundred characters), but there are some outliers. This would make sense as an Encyclopaedia is meant to be a summary of knowledge and easily browseable, but some entries might require deeper explanation.\n",
    "\n",
    "We also notice that most entries do not reference other entries with a \"See x\", which indicates that most entries were deemed not linked closely enough to a topic to warrant a reference, which gives us insight into how knowledge is organised and connected in this specific Encyclopaedia, as well as the nature of the content: a lot of entries are referencing objects or places, which are not related to a specific topic.\n",
    "\n",
    "We can also see that a lot of references are to \"See Vol\", \"See p\" and \"See next article\", which indicates that the Encyclopaedia is interconnected in different ways: through references to specific entries, as well as references to pages and volumes, which might be either references to figures, or broader references to longer-form articles.\n",
    "\n",
    "We also learn more about the content in this first edition through the most common words and referenced topics, which indicate which fields were considered important and had been researched more deeply than others at the time.\n",
    "\n",
    "### Hypotheses:\n",
    "#### The topics that are most referenced in an edition reflect what fields were being explored at the time.\n",
    "In the \"Most referenced entries\" visualisation, we mostly see broad topics such as \"Agriculture\", \"Chemistry\", \"Medicine\", but also more niche topics such as \"Pneumatics\" and \"Optics\". It is probable that that these more specific topics are prominent because those fields were being studied more intensely and more discoveries were being made about them during the time of the writing of this edition of the Encylopaedia.\n",
    "\n",
    "I would test this by visualising the data for all editions, to check whether there are any changes in popularity of references to topics across time, and confirm this by researching the history of those fields around the time of the publications.\n",
    "\n",
    "#### The Encyclopaedia is not an unbiased account of knowledge.\n",
    "The words \"good\" and \"great\" both appear in the \"Most frequent words in first edition\" wordcloud: it would be valuable to investigate in what context they appear, and use sentiment analysis across the editions to investigate whether the editions have gotten more or less biased, what topics are the more/less biased, as well as which topics underwent the largest changes in bias.\n",
    "\n",
    "#### There is a correlation between most popular words & most referenced topics\n",
    "As mentioned in the description of the \"Most frequent words in first edition\" wordcloud, there seems to be a link between some of the most commonly mentioned words (\"body\", \"earth\", \"water\"), and the most referenced topics from the final visualisation (\"Agriculture\", \"Botany\", \"Natural History\"). It would be interesting to explore whether the change in popularity in topics influences the popularity of the most commonly referenced words that are related to a topic quite closely, making this a strong relationship between the two variables, or not.\n",
    "\n",
    "\n",
    "#### Knowledge becomes more interlinked with each new edition.\n",
    "\n",
    "In the \"Distribution of references to other entries in definitions\" visualisation, we can see that most entries in the first edition do not reference other entries, while those that do mostly reference one other topic. It would be valuable to visualise this data for all editions, to see whether the proportion changes: I would like to hypothesise that as time goes by, more knowledge is linked to existing topics and entries, rather than the addition of entirely new, unrelated concepts."
   ]
  }
 ],
 "metadata": {
  "kernelspec": {
   "display_name": "Python 3",
   "language": "python",
   "name": "python3"
  },
  "language_info": {
   "codemirror_mode": {
    "name": "ipython",
    "version": 3
   },
   "file_extension": ".py",
   "mimetype": "text/x-python",
   "name": "python",
   "nbconvert_exporter": "python",
   "pygments_lexer": "ipython3",
   "version": "3.6.1"
  }
 },
 "nbformat": 4,
 "nbformat_minor": 2
}
