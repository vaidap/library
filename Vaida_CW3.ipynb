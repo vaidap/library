{
 "cells": [
  {
   "cell_type": "code",
   "execution_count": 310,
   "metadata": {},
   "outputs": [],
   "source": [
    "# TODO\n",
    "\n",
    "# OK Make CSV separations for each edition\n",
    "# NAH Look at any EXTRA CLEANING that can be done (eg. if definition is mostly noise, for_later)\n",
    "\n",
    "# OK generate basic info CSV & give to Ava\n",
    "# OK send to Ava, mention 40->20\n",
    "# OK mention where i'm putting the PNGs\n",
    "\n",
    "# OK Generate complex header & refs data for each edition, two-by-two and save as CSV\n",
    "# OK quick sumcheck of all refs for each edition, investigate why 7&8 have less and where anatomy is in that one\n",
    "# OK reply to Sarah\n",
    "\n",
    "# OK longest word in each edition & definition (a bit manual) \n",
    "# OK word with most references to other topics in each edition & definition (& what that field is)\n",
    "\n",
    "# FOR 5 AVA TOPICS:\n",
    "# how many mentions of that topic in each edition\n",
    "# OK some list of words with mentions of it & their definitions\n",
    "# show the evolution of these words' definitions across editions?\n",
    "\n",
    "# For TOPIC VISUALISATION:\n",
    "# OK change colour to plain\n",
    "# OK remove common outliers (\"see next article\"), etc\n",
    "# OK remove \"see\"\n",
    "# OK generate for all 8 editions\n",
    "# associate to discoveries & evolutions of specific topics, ask data holder!\n",
    "# click the word to see modern definition, contextual real-world events for why this topic is popular then\n",
    "\n",
    "# For TOPIC PROPORTIONAL CHANGE:\n",
    "# a (1) -- (2) -- (2) -- (3) mini-graph for the most popular topics, or a vine-graph indicating changes in all of top 20?\n",
    "\n",
    "# or a bar chart-type thing, for topics with most changes or top 5 topics\n",
    "# re-clean refs using the complete refs cleaning ft, and remove too-long refs\n",
    "# check for shortest and longest ref?\n",
    "# anatomy count across all editions, normalise by the count of total across editions (?)\n",
    "# look at top 5 positions across time?\n",
    "# \"less important\", \"mostly mentioned in edition x\"\n",
    "# count overall all editions: most common topics, and visualise how they evolved\n",
    "# bar chart progress rather than line chart\n",
    "# make distances between values reflect year of publication\n",
    "\n",
    "# FOR GROUPING TOPICS:\n",
    "# NAH group top x topics into bigger topics eg. science, arts etc, and visualise horizontal bars of proportions in each edition\n",
    "# NAH this is a lot of manual work tho, and the classification is fairly arbitrary as well\n",
    "\n",
    "# WEBSITE:\n",
    "# add to slider images of books to represent quantity of knowledge (each book is 100'000 words in that edition)\n",
    "# publishing the final code in a clean github repository, add profiles of us on website\n",
    "# images change as you change editions, or morphing of current/old images\n",
    "# https://digital.nls.uk/encyclopaedia-britannica/archive/188936619\n",
    "# small section with updates in supplements\n",
    "# make sure we are using all of the CSVs\n",
    "\n",
    "# PRESENTATION:\n",
    "# slides responding to benjamin's questions in email\n",
    "# what the encyclopaedia looked like, how topics are connected and how their popularity evolved across time\n",
    "# comments on structure of encyclopaedia, less cross-refs, more long-form articles perhaps?\n",
    "# comment on cleaning/what original text looks like\n",
    "# restructuring of encyclopaedia in 7th and 8th, based on total refs and some words (5 topics) not being defined anymore\n",
    "\n",
    "# SUBMISSION:\n",
    "# guided video\n",
    "# report\n",
    "\n",
    "# OTHER:\n",
    "# longest word, others in https://github.com/vaidap/library/issues/9?\n",
    "# how definitions change across time for select words (longest def/shortest def)\n",
    "# words with the largest change in definition length?\n",
    "\n",
    "# #######################\n",
    "# OK Ask Sarah about how editions are separated/duplicates.\n",
    "# OK then, make this run for all editions in parts & save into CSVs\n",
    "# Ask Sarah if we can see the real encyclopaedia?\n",
    "# Ask Alexander about proportional word frequency, how to calc: prop of all frequency?\n",
    "\n",
    "# OK generate data always on cleaned up versions of text\n",
    "\n",
    "# OK look through CW2 cleanup & code: what could be ported over\n",
    "# NAH for_later notes eg. \\n clean\n",
    "\n",
    "# DONE\n",
    "# OK words/characters/volumes per edition\n",
    "# OK run two_data & port re-format & visualisation from CW2\n",
    "# OK save data in csv"
   ]
  },
  {
   "cell_type": "code",
   "execution_count": 1,
   "metadata": {},
   "outputs": [],
   "source": [
    "import pandas as pd\n",
    "import numpy as np\n",
    "import re\n",
    "import seaborn as sns\n",
    "import matplotlib.pyplot as plt\n",
    "from wordcloud import WordCloud, STOPWORDS\n",
    "import csv\n",
    "%matplotlib inline"
   ]
  },
  {
   "cell_type": "code",
   "execution_count": 2,
   "metadata": {},
   "outputs": [
    {
     "name": "stdout",
     "output_type": "stream",
     "text": [
      "\n",
      "Number of text files: 195\n"
     ]
    }
   ],
   "source": [
    "# reading in index file\n",
    "\n",
    "inventory = pd.read_csv(\"encyclopaediaBritannica-inventory.csv\", header=None)\n",
    "inventory.columns = ['file','volume']\n",
    "# print(inventory)\n",
    "print(\"\\nNumber of text files: \" + str(len(inventory)))"
   ]
  },
  {
   "cell_type": "markdown",
   "metadata": {},
   "source": [
    "## Selecting volumes for each edition"
   ]
  },
  {
   "cell_type": "code",
   "execution_count": 3,
   "metadata": {},
   "outputs": [],
   "source": [
    "# ignore supplements & index volumes\n",
    "\n",
    "first_ed = inventory[:3]\n",
    "first_ed_reprint = inventory[3:7]\n",
    "second_ed = inventory[6:16]\n",
    "third_ed = inventory[16:34]\n",
    "third_ed_reprint = inventory[34:52]\n",
    "fourth_ed = inventory[56:96]\n",
    "fifth_ed = inventory[96:116]\n",
    "sixth_ed = inventory[116:136]\n",
    "seventh_ed = inventory[152:172]\n",
    "eighth_ed = inventory[173:194]"
   ]
  },
  {
   "cell_type": "code",
   "execution_count": 4,
   "metadata": {
    "scrolled": true
   },
   "outputs": [
    {
     "data": {
      "text/plain": [
       "['Encyclopaedia Britannica - Eighth edition, Volume 1, Dissertations - EB.16',\n",
       " 'Encyclopaedia Britannica - Eighth edition, Volume 2, A-Anatomy - EB.16',\n",
       " 'Encyclopaedia Britannica - Eighth edition, Volume 3, Anatomy-Astronomy - EB.16',\n",
       " 'Encyclopaedia Britannica - Eighth edition, Volume 4, Astronomy-BOM - EB.16',\n",
       " 'Encyclopaedia Britannica - Eighth edition, Volume 5, Bombay-BUR - EB.16',\n",
       " 'Encyclopaedia Britannica - Eighth edition, Volume 6, Burning glasses-Climate - EB.16',\n",
       " 'Encyclopaedia Britannica - Eighth edition, Volume 7, CLI-DIA - EB.16',\n",
       " 'Encyclopaedia Britannica - Eighth edition, Volume 8, Diamond-Entail - EB.16',\n",
       " 'Encyclopaedia Britannica - Eighth edition, Volume 9, Entomology-FRA - EB.16',\n",
       " 'Encyclopaedia Britannica - Eighth edition, Volume 10, France-GRA - EB.16',\n",
       " 'Encyclopaedia Britannica - Eighth edition, Volume 11, GRA-HUM - EB.16',\n",
       " 'Encyclopaedia Britannica - Eighth edition, Volume 12, Hume-JOM - EB.16',\n",
       " 'Encyclopaedia Britannica - Eighth edition, Volume 13, Jonah-MAG - EB.16',\n",
       " 'Encyclopaedia Britannica - Eighth edition, Volume 14, Magnetism-MIH - EB.16',\n",
       " 'Encyclopaedia Britannica - Eighth edition, Volume 15, Milan-NAV - EB.16',\n",
       " 'Encyclopaedia Britannica - Eighth edition, Volume 16, Navigation-Ornithology - EB.16',\n",
       " 'Encyclopaedia Britannica - Eighth edition, Volume 17, ORO-Plato - EB.16',\n",
       " 'Encyclopaedia Britannica - Eighth edition, Volume 18, PLA-REI - EB.16',\n",
       " 'Encyclopaedia Britannica - Eighth edition, Volume 19, Reid-Scythia - EB.16',\n",
       " 'Encyclopaedia Britannica - Eighth edition, Volume 20, Seamanship-SZO - EB.16',\n",
       " 'Encyclopaedia Britannica - Eighth edition, Volume 21, T-ZWO - EB.16']"
      ]
     },
     "execution_count": 4,
     "metadata": {},
     "output_type": "execute_result"
    }
   ],
   "source": [
    "eighth_ed = inventory[173:194]\n",
    "list(eighth_ed['volume']) # list() to print whole text"
   ]
  },
  {
   "cell_type": "code",
   "execution_count": 5,
   "metadata": {},
   "outputs": [],
   "source": [
    "# doesn't include reprints \n",
    "all_editions = [first_ed, second_ed, third_ed, fourth_ed, fifth_ed, sixth_ed, seventh_ed, eighth_ed]"
   ]
  },
  {
   "cell_type": "code",
   "execution_count": 6,
   "metadata": {},
   "outputs": [],
   "source": [
    "# for testing\n",
    "two_editions = [first_ed, second_ed]"
   ]
  },
  {
   "cell_type": "markdown",
   "metadata": {},
   "source": [
    "## Basic statistics"
   ]
  },
  {
   "cell_type": "code",
   "execution_count": 7,
   "metadata": {},
   "outputs": [],
   "source": [
    "# Reading in text files and generate volume, word and length counts\n",
    "\n",
    "def basic_data(editions):\n",
    "    \n",
    "    data = []\n",
    "    \n",
    "    for ed in editions: \n",
    "        length = 0\n",
    "        words = 0\n",
    "        volumes = 0\n",
    "\n",
    "        for index, row in ed.iterrows():\n",
    "            print(\"Reading: \" + row['file'])\n",
    "\n",
    "            f = open('text/' + row['file'], 'r', encoding=\"utf8\")\n",
    "            content = f.read()\n",
    "            content = clean_up(content)\n",
    "            length += len(content)\n",
    "            volumes += 1\n",
    "\n",
    "            words += len(content.split())\n",
    "\n",
    "            f.close()\n",
    "            \n",
    "        data.append([volumes, length, words])\n",
    "        data_df=pd.DataFrame(data,columns=['volumes', 'length_chars','length_words'])\n",
    "    return data_df"
   ]
  },
  {
   "cell_type": "code",
   "execution_count": 231,
   "metadata": {
    "scrolled": true
   },
   "outputs": [
    {
     "name": "stdout",
     "output_type": "stream",
     "text": [
      "Reading: 144133901.txt\n",
      "Reading: 144133902.txt\n",
      "Reading: 144133903.txt\n",
      "Reading: 144850370.txt\n",
      "Reading: 144850373.txt\n",
      "Reading: 144850374.txt\n",
      "Reading: 144850375.txt\n",
      "Reading: 144850376.txt\n",
      "Reading: 144850377.txt\n",
      "Reading: 144850378.txt\n",
      "Reading: 144850379.txt\n",
      "Reading: 190273289.txt\n",
      "Reading: 190273290.txt\n",
      "Reading: 190273291.txt\n",
      "Reading: 149977338.txt\n",
      "Reading: 149977873.txt\n",
      "Reading: 149978642.txt\n",
      "Reading: 149979156.txt\n",
      "Reading: 149979622.txt\n",
      "Reading: 149981189.txt\n",
      "Reading: 149981670.txt\n",
      "Reading: 149982181.txt\n",
      "Reading: 149982692.txt\n",
      "Reading: 149983206.txt\n",
      "Reading: 190273372.txt\n",
      "Reading: 191253798.txt\n",
      "Reading: 192200061.txt\n",
      "Reading: 191253799.txt\n",
      "Reading: 191319917.txt\n",
      "Reading: 191253800.txt\n",
      "Reading: 191253817.txt\n",
      "Reading: 191253818.txt\n",
      "Reading: 191253819.txt\n",
      "Reading: 192545783.txt\n",
      "Reading: 192545784.txt\n",
      "Reading: 191809865.txt\n",
      "Reading: 191809866.txt\n",
      "Reading: 191253825.txt\n",
      "Reading: 191253826.txt\n",
      "Reading: 191320556.txt\n",
      "Reading: 191320557.txt\n",
      "Reading: 192547776.txt\n",
      "Reading: 192547777.txt\n",
      "Reading: 192692191.txt\n",
      "Reading: 192692190.txt\n",
      "Reading: 191320560.txt\n",
      "Reading: 191320561.txt\n",
      "Reading: 193109110.txt\n",
      "Reading: 193109111.txt\n",
      "Reading: 192692192.txt\n",
      "Reading: 192692193.txt\n",
      "Reading: 191679019.txt\n",
      "Reading: 191679020.txt\n",
      "Reading: 192545785.txt\n",
      "Reading: 192545786.txt\n",
      "Reading: 191678902.txt\n",
      "Reading: 191678903.txt\n",
      "Reading: 191253838.txt\n",
      "Reading: 191253839.txt\n",
      "Reading: 191253836.txt\n",
      "Reading: 191253837.txt\n",
      "Reading: 191689060.txt\n",
      "Reading: 191689061.txt\n",
      "Reading: 191320559.txt\n",
      "Reading: 191320558.txt\n",
      "Reading: 192692194.txt\n",
      "Reading: 192692195.txt\n",
      "Reading: 193108316.txt\n",
      "Reading: 193108317.txt\n",
      "Reading: 191678900.txt\n",
      "Reading: 191678901.txt\n",
      "Reading: 192016229.txt\n",
      "Reading: 191689063.txt\n",
      "Reading: 193108318.txt\n",
      "Reading: 191679033.txt\n",
      "Reading: 192984254.txt\n",
      "Reading: 192984255.txt\n",
      "Reading: 191678897.txt\n",
      "Reading: 191678898.txt\n",
      "Reading: 193109108.txt\n",
      "Reading: 193109109.txt\n",
      "Reading: 192547785.txt\n",
      "Reading: 192200901.txt\n",
      "Reading: 192200898.txt\n",
      "Reading: 192200900.txt\n",
      "Reading: 192200897.txt\n",
      "Reading: 192692638.txt\n",
      "Reading: 191689062.txt\n",
      "Reading: 192984256.txt\n",
      "Reading: 192200899.txt\n",
      "Reading: 191678899.txt\n",
      "Reading: 192547781.txt\n",
      "Reading: 192015835.txt\n",
      "Reading: 193696080.txt\n",
      "Reading: 192200662.txt\n",
      "Reading: 192692756.txt\n",
      "Reading: 192200322.txt\n",
      "Reading: 192015838.txt\n",
      "Reading: 192015836.txt\n",
      "Reading: 192547782.txt\n",
      "Reading: 191679036.txt\n",
      "Reading: 192984257.txt\n",
      "Reading: 191689064.txt\n",
      "Reading: 192200323.txt\n",
      "Reading: 191689065.txt\n",
      "Reading: 192015837.txt\n",
      "Reading: 192547783.txt\n",
      "Reading: 192547784.txt\n",
      "Reading: 192015834.txt\n",
      "Reading: 193057497.txt\n",
      "Reading: 193696081.txt\n",
      "Reading: 192984259.txt\n",
      "Reading: 193057500.txt\n",
      "Reading: 193108322.txt\n",
      "Reading: 193696083.txt\n",
      "Reading: 193322690.txt\n",
      "Reading: 193819043.txt\n",
      "Reading: 193322688.txt\n",
      "Reading: 193696084.txt\n",
      "Reading: 193469090.txt\n",
      "Reading: 193638940.txt\n",
      "Reading: 192693199.txt\n",
      "Reading: 193108323.txt\n",
      "Reading: 193322689.txt\n",
      "Reading: 193819044.txt\n",
      "Reading: 194474782.txt\n",
      "Reading: 193469091.txt\n",
      "Reading: 193469092.txt\n",
      "Reading: 193057501.txt\n",
      "Reading: 193913444.txt\n",
      "Reading: 193819045.txt\n",
      "Reading: 192984260.txt\n",
      "Reading: 193322698.txt\n",
      "Reading: 193696085.txt\n",
      "Reading: 193696086.txt\n",
      "Reading: 193108324.txt\n",
      "Reading: 193109113.txt\n",
      "Reading: 193109114.txt\n",
      "Reading: 193108325.txt\n",
      "Reading: 193322700.txt\n",
      "Reading: 193109115.txt\n",
      "Reading: 193469392.txt\n",
      "Reading: 193696087.txt\n",
      "Reading: 193916150.txt\n",
      "Reading: 193696088.txt\n",
      "Reading: 193592632.txt\n",
      "Reading: 193322699.txt\n",
      "Reading: 193819046.txt\n",
      "Reading: 193108326.txt\n",
      "Reading: 193322701.txt\n",
      "Reading: 193469393.txt\n",
      "Reading: 193819047.txt\n"
     ]
    },
    {
     "data": {
      "text/html": [
       "<div>\n",
       "<style scoped>\n",
       "    .dataframe tbody tr th:only-of-type {\n",
       "        vertical-align: middle;\n",
       "    }\n",
       "\n",
       "    .dataframe tbody tr th {\n",
       "        vertical-align: top;\n",
       "    }\n",
       "\n",
       "    .dataframe thead th {\n",
       "        text-align: right;\n",
       "    }\n",
       "</style>\n",
       "<table border=\"1\" class=\"dataframe\">\n",
       "  <thead>\n",
       "    <tr style=\"text-align: right;\">\n",
       "      <th></th>\n",
       "      <th>volumes</th>\n",
       "      <th>length_chars</th>\n",
       "      <th>length_words</th>\n",
       "    </tr>\n",
       "  </thead>\n",
       "  <tbody>\n",
       "    <tr>\n",
       "      <th>0</th>\n",
       "      <td>3</td>\n",
       "      <td>14191040</td>\n",
       "      <td>2567260</td>\n",
       "    </tr>\n",
       "    <tr>\n",
       "      <th>1</th>\n",
       "      <td>10</td>\n",
       "      <td>56733498</td>\n",
       "      <td>10172846</td>\n",
       "    </tr>\n",
       "    <tr>\n",
       "      <th>2</th>\n",
       "      <td>18</td>\n",
       "      <td>96884019</td>\n",
       "      <td>17414509</td>\n",
       "    </tr>\n",
       "    <tr>\n",
       "      <th>3</th>\n",
       "      <td>40</td>\n",
       "      <td>103931985</td>\n",
       "      <td>18672098</td>\n",
       "    </tr>\n",
       "    <tr>\n",
       "      <th>4</th>\n",
       "      <td>20</td>\n",
       "      <td>103686840</td>\n",
       "      <td>18617826</td>\n",
       "    </tr>\n",
       "    <tr>\n",
       "      <th>5</th>\n",
       "      <td>20</td>\n",
       "      <td>103513075</td>\n",
       "      <td>18597305</td>\n",
       "    </tr>\n",
       "    <tr>\n",
       "      <th>6</th>\n",
       "      <td>20</td>\n",
       "      <td>119701529</td>\n",
       "      <td>21056156</td>\n",
       "    </tr>\n",
       "    <tr>\n",
       "      <th>7</th>\n",
       "      <td>21</td>\n",
       "      <td>131624089</td>\n",
       "      <td>22878318</td>\n",
       "    </tr>\n",
       "  </tbody>\n",
       "</table>\n",
       "</div>"
      ],
      "text/plain": [
       "   volumes  length_chars  length_words\n",
       "0        3      14191040       2567260\n",
       "1       10      56733498      10172846\n",
       "2       18      96884019      17414509\n",
       "3       40     103931985      18672098\n",
       "4       20     103686840      18617826\n",
       "5       20     103513075      18597305\n",
       "6       20     119701529      21056156\n",
       "7       21     131624089      22878318"
      ]
     },
     "execution_count": 231,
     "metadata": {},
     "output_type": "execute_result"
    }
   ],
   "source": [
    "basic_df = basic_data(all_editions)\n",
    "basic_df"
   ]
  },
  {
   "cell_type": "code",
   "execution_count": 232,
   "metadata": {},
   "outputs": [],
   "source": [
    "basic_df.to_csv('csv/basic_data.csv')"
   ]
  },
  {
   "cell_type": "code",
   "execution_count": 234,
   "metadata": {},
   "outputs": [
    {
     "name": "stdout",
     "output_type": "stream",
     "text": [
      "   Unnamed: 0  volumes  length_chars  length_words\n",
      "0           0        3      14191040       2567260\n",
      "1           1       10      56733498      10172846\n",
      "2           2       18      96884019      17414509\n",
      "3           3       40     103931985      18672098\n",
      "4           4       20     103686840      18617826\n",
      "5           5       20     103513075      18597305\n",
      "6           6       20     119701529      21056156\n",
      "7           7       21     131624089      22878318\n"
     ]
    }
   ],
   "source": [
    "basic_reimport = pd.read_csv('csv/basic_data.csv')\n",
    "print(basic_reimport) # edition 4 is actually 20 volumes because text files separate it into part 1 & 2"
   ]
  },
  {
   "cell_type": "markdown",
   "metadata": {},
   "source": [
    "## Most referenced topics"
   ]
  },
  {
   "cell_type": "markdown",
   "metadata": {},
   "source": [
    "### Helper functions"
   ]
  },
  {
   "cell_type": "markdown",
   "metadata": {},
   "source": [
    "#### For cleanup"
   ]
  },
  {
   "cell_type": "code",
   "execution_count": 57,
   "metadata": {},
   "outputs": [],
   "source": [
    "def replace_by(s, a, b):\n",
    "    \"\"\" perform a regex replacement, prints number of occurrences found and returns a string.\n",
    "    s: string to make changes in\n",
    "    a: string to remove \n",
    "    b: string to add\n",
    "    returns: a string\"\"\"\n",
    "    \n",
    "    # print(\"Replacing \\\"\" + a + \"\\\" by \\\"\" + b + \"\\\", found \" + str(len(re.findall(a, s))) + \"...\")\n",
    "    new = re.sub(a, b, s)\n",
    "    \n",
    "    return new"
   ]
  },
  {
   "cell_type": "code",
   "execution_count": 58,
   "metadata": {},
   "outputs": [],
   "source": [
    "# Using regex cleanup ideas from: https://sites.temple.edu/tudsc/2014/08/12/text-scrubbing-hacks-cleaning-your-ocred-text/\n",
    "\n",
    "# Further resources: https://programminghistorian.org/en/lessons/cleaning-ocrd-text-with-regular-expressions\n",
    "# https://datascience.stackexchange.com/questions/20536/how-to-improve-ocr-scanning-results\n",
    "\n",
    "def clean_up(s):\n",
    "    \"\"\" Does a minimal cleanup of a string of text\n",
    "    returns: a string\n",
    "    \"\"\"\n",
    "    # print(\"Initial length: \" + str(len(s)))\n",
    "    s2 = replace_by(s, 'tbe', 'the')\n",
    "    s3 = replace_by(s2, 'tiie', 'the')\n",
    "    s4 = replace_by(s3, 'liis', 'his')\n",
    "    s5 = replace_by(s4, 'bis', 'his')\n",
    "    s6 = replace_by(s5, '■', '')\n",
    "    s7 = replace_by(s6, 'ib','in') # was noticed by Ava in .txt files\n",
    "    s8 = replace_by(s7, '¬','')\n",
    "    s9 = replace_by(s8, '.(\\.\\.+)', '') # multiple periods; what about ellipsis though?\n",
    "    # print(\"Clean up done!\")\n",
    "    return s9 # CAREFUL to always pass the right one to next, and return"
   ]
  },
  {
   "cell_type": "code",
   "execution_count": 59,
   "metadata": {},
   "outputs": [],
   "source": [
    "# This uses the list of header/definition/refs dataframes for each edition\n",
    "# Check that this doesn't just do a reference replace, actually changes editions that are passed to it\n",
    "\n",
    "def clean_up_definitions(editions):\n",
    "    editions_cleaned = []\n",
    "    for ed in editions:\n",
    "        # realistically, a definition can't be shorter than 5 letters, even if it is simply a redirection of the form of \"See x\"\n",
    "        ed = ed.loc[ed['def_length'] > 5]\n",
    "        # remove headers with two letters as they are probably mostly noise\n",
    "        ed = ed.loc[ed['header_length'] > 2]\n",
    "        # remove headers longer than 40 characters, as these are likely to be noise\n",
    "        ed = ed.loc[ed['header_length'] < 40]\n",
    "        \n",
    "        # We might also want to drop header duplicates, as each entry is only defined once\n",
    "        # A good portion of these duplicates are probably noise (such as annotations in roman numerals)\n",
    "        # We're not selecting the correct definition out of the duplicates here, just dropping them for the sake of simplicity\n",
    "        ed.drop_duplicates(subset =\"headers\", keep = False, inplace = True)\n",
    "        \n",
    "        editions_cleaned.append(ed)\n",
    "        \n",
    "    return editions_cleaned"
   ]
  },
  {
   "cell_type": "markdown",
   "metadata": {},
   "source": [
    "#### For extracting words and their definitions, and references (\"See x\")"
   ]
  },
  {
   "cell_type": "code",
   "execution_count": 60,
   "metadata": {},
   "outputs": [],
   "source": [
    "# Uses RegEx to identify the definition of a word as being the content between the uppercase word and the next uppercase word\n",
    "\n",
    "def find_definition(word, volume):\n",
    "    start = re.search(word, volume).start()\n",
    "    start_next = re.search(word, volume).end()\n",
    "    \n",
    "    second_word = re.search(\"[A-Z][A-Z]+\", volume[start_next:])\n",
    "    \n",
    "    if second_word: # checking that second capitalised word exists (prevents NoneType exception)\n",
    "        end = re.search(\"[A-Z][A-Z]+\", volume[start_next:]).start()\n",
    "        return volume[start_next+2:start_next+end] # +2 to ignore comma and space before a definition\n",
    "    else:\n",
    "        return \"\""
   ]
  },
  {
   "cell_type": "code",
   "execution_count": 61,
   "metadata": {},
   "outputs": [],
   "source": [
    "# Extracts entries (headers), their definitions, their respective lengths, and all references (\"See x\") from an edition\n",
    "\n",
    "def extract_info(edition):\n",
    "    \n",
    "    headers = []\n",
    "    definitions = []\n",
    "    refs = [] # for counting up all instances of \"See x\" in volumes  \n",
    "    \n",
    "    for index, row in edition.iterrows():\n",
    "        current_headers = []\n",
    "        \n",
    "        print(\"Reading: \" + row['file'])\n",
    "        f = open('text/' + row['file'], 'r', encoding=\"utf8\")\n",
    "        content = f.read()\n",
    "        content = clean_up(content) # check cleanup does something\n",
    "        # using https://stackoverflow.com/questions/9525993/get-consecutive-capitalized-words-using-regex\n",
    "        # note: this ReGex is not entirely correct, as the first will select \"MARTIAL\" and \"LAW\"\n",
    "        # \"MARTIAL\" will be cleaned out later due to having an empty definition, but \"LAW\" will have duplicates\n",
    "        \n",
    "        current_headers = re.findall('[A-Z][A-Z]+', content) # at least two uppercase letters following each other\n",
    "        current_headers += re.findall('([A-Z][A-Z]+(?=\\s[A-Z])(?:\\s[A-Z][A-Z]+)+)', content) # two or more uppercase words\n",
    "        refs += re.findall('See [^,\\.]*', content) # matches \"See x\" until a comma or a period\n",
    "        \n",
    "        for word in current_headers:\n",
    "            definitions.append(find_definition(word, content))\n",
    "            \n",
    "        headers = headers + current_headers\n",
    "        \n",
    "        f.close()\n",
    "\n",
    "    data = pd.DataFrame(headers, columns =['headers'])\n",
    "    data['definition'] = definitions\n",
    "    data['header_length']  = data['headers'].str.len()\n",
    "    data['def_length']  = data['definition'].str.len()\n",
    "    return data, refs"
   ]
  },
  {
   "cell_type": "code",
   "execution_count": 62,
   "metadata": {},
   "outputs": [],
   "source": [
    "# Generates a list of dataframes with words and their definitions for each edition\n",
    "\n",
    "def words_and_definitions(editions):\n",
    "    \n",
    "    all_edition_data = []\n",
    "    all_references = []\n",
    "    \n",
    "    for ed in editions:\n",
    "        edition_data, references = extract_info(ed)\n",
    "        all_edition_data.append(edition_data)\n",
    "        all_references.append(references)\n",
    "    return all_edition_data, all_references"
   ]
  },
  {
   "cell_type": "markdown",
   "metadata": {},
   "source": [
    "### Generating headers, definitions and references for all editions and saving to CSV"
   ]
  },
  {
   "cell_type": "code",
   "execution_count": 14,
   "metadata": {},
   "outputs": [
    {
     "name": "stdout",
     "output_type": "stream",
     "text": [
      "Reading: 192984259.txt\n",
      "Reading: 193057500.txt\n",
      "Reading: 193108322.txt\n",
      "Reading: 193696083.txt\n",
      "Reading: 193322690.txt\n",
      "Reading: 193819043.txt\n",
      "Reading: 193322688.txt\n",
      "Reading: 193696084.txt\n",
      "Reading: 193469090.txt\n",
      "Reading: 193638940.txt\n",
      "Reading: 192693199.txt\n",
      "Reading: 193108323.txt\n",
      "Reading: 193322689.txt\n",
      "Reading: 193819044.txt\n",
      "Reading: 194474782.txt\n",
      "Reading: 193469091.txt\n",
      "Reading: 193469092.txt\n",
      "Reading: 193057501.txt\n",
      "Reading: 193913444.txt\n",
      "Reading: 193819045.txt\n",
      "Reading: 192984260.txt\n",
      "Reading: 193322698.txt\n",
      "Reading: 193696085.txt\n",
      "Reading: 193696086.txt\n",
      "Reading: 193108324.txt\n",
      "Reading: 193109113.txt\n",
      "Reading: 193109114.txt\n",
      "Reading: 193108325.txt\n",
      "Reading: 193322700.txt\n",
      "Reading: 193109115.txt\n",
      "Reading: 193469392.txt\n",
      "Reading: 193696087.txt\n",
      "Reading: 193916150.txt\n",
      "Reading: 193696088.txt\n",
      "Reading: 193592632.txt\n",
      "Reading: 193322699.txt\n",
      "Reading: 193819046.txt\n",
      "Reading: 193108326.txt\n",
      "Reading: 193322701.txt\n",
      "Reading: 193469393.txt\n",
      "Reading: 193819047.txt\n"
     ]
    }
   ],
   "source": [
    "# generate two editions by two editions, and save as CSV.\n",
    "# function takes in a list of editions\n",
    "seventh_eighth_data, seventh_eighth_refs = words_and_definitions([seventh_ed, eighth_ed])"
   ]
  },
  {
   "cell_type": "code",
   "execution_count": 15,
   "metadata": {},
   "outputs": [
    {
     "data": {
      "text/html": [
       "<div>\n",
       "<style scoped>\n",
       "    .dataframe tbody tr th:only-of-type {\n",
       "        vertical-align: middle;\n",
       "    }\n",
       "\n",
       "    .dataframe tbody tr th {\n",
       "        vertical-align: top;\n",
       "    }\n",
       "\n",
       "    .dataframe thead th {\n",
       "        text-align: right;\n",
       "    }\n",
       "</style>\n",
       "<table border=\"1\" class=\"dataframe\">\n",
       "  <thead>\n",
       "    <tr style=\"text-align: right;\">\n",
       "      <th></th>\n",
       "      <th>headers</th>\n",
       "      <th>definition</th>\n",
       "      <th>header_length</th>\n",
       "      <th>def_length</th>\n",
       "    </tr>\n",
       "  </thead>\n",
       "  <tbody>\n",
       "    <tr>\n",
       "      <th>55</th>\n",
       "      <td>AAHUS</td>\n",
       "      <td>a little town of Germany, in the circle of\\nWe...</td>\n",
       "      <td>5</td>\n",
       "      <td>210</td>\n",
       "    </tr>\n",
       "    <tr>\n",
       "      <th>56</th>\n",
       "      <td>AALBORG</td>\n",
       "      <td>one of the four sees (stiffs) into which\\nthe ...</td>\n",
       "      <td>7</td>\n",
       "      <td>2275</td>\n",
       "    </tr>\n",
       "    <tr>\n",
       "      <th>58</th>\n",
       "      <td>AALEN</td>\n",
       "      <td>a bailiwick in the circle of Jaxt, in the king...</td>\n",
       "      <td>5</td>\n",
       "      <td>773</td>\n",
       "    </tr>\n",
       "    <tr>\n",
       "      <th>59</th>\n",
       "      <td>AALSMEER</td>\n",
       "      <td>a town in the arrondissement of Am\\nsterdam, i...</td>\n",
       "      <td>8</td>\n",
       "      <td>205</td>\n",
       "    </tr>\n",
       "    <tr>\n",
       "      <th>60</th>\n",
       "      <td>AALTEN</td>\n",
       "      <td>a town in the arrondissement of Zutphen,\\nand ...</td>\n",
       "      <td>6</td>\n",
       "      <td>119</td>\n",
       "    </tr>\n",
       "    <tr>\n",
       "      <th>...</th>\n",
       "      <td>...</td>\n",
       "      <td>...</td>\n",
       "      <td>...</td>\n",
       "      <td>...</td>\n",
       "    </tr>\n",
       "    <tr>\n",
       "      <th>123231</th>\n",
       "      <td>PLATE CCCCXCV</td>\n",
       "      <td>Fin. 17.\\n</td>\n",
       "      <td>13</td>\n",
       "      <td>9</td>\n",
       "    </tr>\n",
       "    <tr>\n",
       "      <th>123232</th>\n",
       "      <td>PLATE CCCCXCVH</td>\n",
       "      <td>4\\nn „ - .\\nI .\\nh\\n———\\n©</td>\n",
       "      <td>14</td>\n",
       "      <td>21</td>\n",
       "    </tr>\n",
       "    <tr>\n",
       "      <th>123233</th>\n",
       "      <td>OTMISIEM IPAIM\\nJPJLATE</td>\n",
       "      <td>cccxcix.\\nSf Bloomsbrn^\\n</td>\n",
       "      <td>22</td>\n",
       "      <td>23</td>\n",
       "    </tr>\n",
       "    <tr>\n",
       "      <th>123234</th>\n",
       "      <td>ZOOPHYTES\\nPLATE</td>\n",
       "      <td>)11.\\nAsatrLs hunbricoicUis.\\nTetjurhynckus Un...</td>\n",
       "      <td>15</td>\n",
       "      <td>216</td>\n",
       "    </tr>\n",
       "    <tr>\n",
       "      <th>123237</th>\n",
       "      <td>PLATE DIV</td>\n",
       "      <td>Holothuna papiUosa.\\nPhpscdus pelcujica.\\nHolo...</td>\n",
       "      <td>9</td>\n",
       "      <td>82</td>\n",
       "    </tr>\n",
       "  </tbody>\n",
       "</table>\n",
       "<p>24072 rows × 4 columns</p>\n",
       "</div>"
      ],
      "text/plain": [
       "                        headers  \\\n",
       "55                        AAHUS   \n",
       "56                      AALBORG   \n",
       "58                        AALEN   \n",
       "59                     AALSMEER   \n",
       "60                       AALTEN   \n",
       "...                         ...   \n",
       "123231            PLATE CCCCXCV   \n",
       "123232           PLATE CCCCXCVH   \n",
       "123233  OTMISIEM IPAIM\\nJPJLATE   \n",
       "123234         ZOOPHYTES\\nPLATE   \n",
       "123237                PLATE DIV   \n",
       "\n",
       "                                               definition  header_length  \\\n",
       "55      a little town of Germany, in the circle of\\nWe...              5   \n",
       "56      one of the four sees (stiffs) into which\\nthe ...              7   \n",
       "58      a bailiwick in the circle of Jaxt, in the king...              5   \n",
       "59      a town in the arrondissement of Am\\nsterdam, i...              8   \n",
       "60      a town in the arrondissement of Zutphen,\\nand ...              6   \n",
       "...                                                   ...            ...   \n",
       "123231                                         Fin. 17.\\n             13   \n",
       "123232                         4\\nn „ - .\\nI .\\nh\\n———\\n©             14   \n",
       "123233                          cccxcix.\\nSf Bloomsbrn^\\n             22   \n",
       "123234  )11.\\nAsatrLs hunbricoicUis.\\nTetjurhynckus Un...             15   \n",
       "123237  Holothuna papiUosa.\\nPhpscdus pelcujica.\\nHolo...              9   \n",
       "\n",
       "        def_length  \n",
       "55             210  \n",
       "56            2275  \n",
       "58             773  \n",
       "59             205  \n",
       "60             119  \n",
       "...            ...  \n",
       "123231           9  \n",
       "123232          21  \n",
       "123233          23  \n",
       "123234         216  \n",
       "123237          82  \n",
       "\n",
       "[24072 rows x 4 columns]"
      ]
     },
     "execution_count": 15,
     "metadata": {},
     "output_type": "execute_result"
    }
   ],
   "source": [
    "seventh_eighth_cleaned = clean_up_definitions(seventh_eighth_data)\n",
    "seventh_eighth_cleaned[0]"
   ]
  },
  {
   "cell_type": "code",
   "execution_count": 16,
   "metadata": {},
   "outputs": [],
   "source": [
    "seventh_eighth_cleaned[0].to_csv('csv/seventh_ed_data.csv')\n",
    "seventh_eighth_cleaned[1].to_csv('csv/eighth_ed_data.csv')"
   ]
  },
  {
   "cell_type": "code",
   "execution_count": 63,
   "metadata": {},
   "outputs": [],
   "source": [
    "def generate_ref_counts(refs):\n",
    "    \n",
    "    all_ref_counts = []\n",
    "    \n",
    "    for ref in refs:\n",
    "        # Converting unique counts to a DataFrame for easy visualisation\n",
    "        ref_df = pd.DataFrame(ref)\n",
    "        ref_counts = ref_df[0].value_counts()\n",
    "        ref_counts = pd.DataFrame(ref_counts)\n",
    "        ref_counts['references'] = ref_counts.index\n",
    "        ref_counts.columns = ['count', 'references']\n",
    "#         ref_counts = ref_counts.reset_index(True)\n",
    "\n",
    "        # cleaning ref counts (removing non-topics such as \"See the next article\")\n",
    "        ref_counts = ref_counts.loc[ref_counts['references'] != \"See the next article\"]\n",
    "        ref_counts = ref_counts.loc[ref_counts['references'] != \"See there\"]\n",
    "        ref_counts = ref_counts.loc[ref_counts['references'] != \"See thefe articles\"]\n",
    "        ref_counts = ref_counts.loc[ref_counts['references'] != \"See these articles\"]\n",
    "        ref_counts = ref_counts.loc[ref_counts['references'] != \"See Vol\"]\n",
    "        ref_counts = ref_counts.loc[ref_counts['references'] != \"See p\"]\n",
    "        ref_counts = ref_counts.loc[ref_counts['references'] != \"See fig\"]\n",
    "        ref_counts = ref_counts.loc[ref_counts['references'] != \"See that article\"]\n",
    "        ref_counts = ref_counts.loc[ref_counts['references'] != \"See the preceding article\"]\n",
    "        ref_counts = ref_counts.loc[ref_counts['references'] != \"See Supplement\"]\n",
    "        ref_counts = ref_counts.loc[ref_counts['references'] != \"See SUPPLEMENT\"]\n",
    "        ref_counts = ref_counts.loc[~ref_counts['references'].str.contains(\"Plate\")]\n",
    "        ref_counts = ref_counts.loc[~ref_counts['references'].str.contains(\"plate\")]\n",
    "        ref_counts = ref_counts.loc[~ref_counts['references'].str.contains(\"Index\")]\n",
    "        ref_counts = ref_counts.loc[~ref_counts['references'].str.contains(\"In\\ndex\")]\n",
    "        ref_counts = ref_counts.loc[~ref_counts['references'].str.contains(\"index\")]\n",
    "        \n",
    "        # Change formatting to not have \"See\" in topic name\n",
    "        ref_counts['references'] = ref_counts['references'].str.replace(r'See ', '')\n",
    "        \n",
    "        all_ref_counts.append(ref_counts)\n",
    "    \n",
    "        \n",
    "    \n",
    "    return all_ref_counts"
   ]
  },
  {
   "cell_type": "code",
   "execution_count": 24,
   "metadata": {
    "scrolled": true
   },
   "outputs": [
    {
     "data": {
      "text/html": [
       "<div>\n",
       "<style scoped>\n",
       "    .dataframe tbody tr th:only-of-type {\n",
       "        vertical-align: middle;\n",
       "    }\n",
       "\n",
       "    .dataframe tbody tr th {\n",
       "        vertical-align: top;\n",
       "    }\n",
       "\n",
       "    .dataframe thead th {\n",
       "        text-align: right;\n",
       "    }\n",
       "</style>\n",
       "<table border=\"1\" class=\"dataframe\">\n",
       "  <thead>\n",
       "    <tr style=\"text-align: right;\">\n",
       "      <th></th>\n",
       "      <th>count</th>\n",
       "      <th>references</th>\n",
       "    </tr>\n",
       "  </thead>\n",
       "  <tbody>\n",
       "    <tr>\n",
       "      <th>See Ornithology</th>\n",
       "      <td>43</td>\n",
       "      <td>Ornithology</td>\n",
       "    </tr>\n",
       "    <tr>\n",
       "      <th>See Mammalia</th>\n",
       "      <td>35</td>\n",
       "      <td>Mammalia</td>\n",
       "    </tr>\n",
       "    <tr>\n",
       "      <th>See Music</th>\n",
       "      <td>31</td>\n",
       "      <td>Music</td>\n",
       "    </tr>\n",
       "    <tr>\n",
       "      <th>See Metaphysics</th>\n",
       "      <td>27</td>\n",
       "      <td>Metaphysics</td>\n",
       "    </tr>\n",
       "    <tr>\n",
       "      <th>See Anatomy</th>\n",
       "      <td>26</td>\n",
       "      <td>Anatomy</td>\n",
       "    </tr>\n",
       "    <tr>\n",
       "      <th>...</th>\n",
       "      <td>...</td>\n",
       "      <td>...</td>\n",
       "    </tr>\n",
       "    <tr>\n",
       "      <th>See Chemist^\\nZINZENDORF</th>\n",
       "      <td>1</td>\n",
       "      <td>Chemist^\\nZINZENDORF</td>\n",
       "    </tr>\n",
       "    <tr>\n",
       "      <th>See the article Arabia</th>\n",
       "      <td>1</td>\n",
       "      <td>the article Arabia</td>\n",
       "    </tr>\n",
       "    <tr>\n",
       "      <th>See Hales’\\nChronology</th>\n",
       "      <td>1</td>\n",
       "      <td>Hales’\\nChronology</td>\n",
       "    </tr>\n",
       "    <tr>\n",
       "      <th>See the I ransia\\ntion of Bayle’s Dictionary</th>\n",
       "      <td>1</td>\n",
       "      <td>the I ransia\\ntion of Bayle’s Dictionary</td>\n",
       "    </tr>\n",
       "    <tr>\n",
       "      <th>See Saxii Onomasticon ; Biographic Universelle;\\nGesner’s Isagoge</th>\n",
       "      <td>1</td>\n",
       "      <td>Saxii Onomasticon ; Biographic Universelle;\\nG...</td>\n",
       "    </tr>\n",
       "  </tbody>\n",
       "</table>\n",
       "<p>2657 rows × 2 columns</p>\n",
       "</div>"
      ],
      "text/plain": [
       "                                                    count  \\\n",
       "See Ornithology                                        43   \n",
       "See Mammalia                                           35   \n",
       "See Music                                              31   \n",
       "See Metaphysics                                        27   \n",
       "See Anatomy                                            26   \n",
       "...                                                   ...   \n",
       "See Chemist^\\nZINZENDORF                                1   \n",
       "See the article Arabia                                  1   \n",
       "See Hales’\\nChronology                                  1   \n",
       "See the I ransia\\ntion of Bayle’s Dictionary            1   \n",
       "See Saxii Onomasticon ; Biographic Universelle;...      1   \n",
       "\n",
       "                                                                                           references  \n",
       "See Ornithology                                                                           Ornithology  \n",
       "See Mammalia                                                                                 Mammalia  \n",
       "See Music                                                                                       Music  \n",
       "See Metaphysics                                                                           Metaphysics  \n",
       "See Anatomy                                                                                   Anatomy  \n",
       "...                                                                                               ...  \n",
       "See Chemist^\\nZINZENDORF                                                         Chemist^\\nZINZENDORF  \n",
       "See the article Arabia                                                             the article Arabia  \n",
       "See Hales’\\nChronology                                                             Hales’\\nChronology  \n",
       "See the I ransia\\ntion of Bayle’s Dictionary                 the I ransia\\ntion of Bayle’s Dictionary  \n",
       "See Saxii Onomasticon ; Biographic Universelle;...  Saxii Onomasticon ; Biographic Universelle;\\nG...  \n",
       "\n",
       "[2657 rows x 2 columns]"
      ]
     },
     "execution_count": 24,
     "metadata": {},
     "output_type": "execute_result"
    }
   ],
   "source": [
    "seventh_eighth_refs_counts = generate_ref_counts(seventh_eighth_refs)\n",
    "seventh_eighth_refs_counts[0]"
   ]
  },
  {
   "cell_type": "code",
   "execution_count": 25,
   "metadata": {},
   "outputs": [],
   "source": [
    "seventh_eighth_refs_counts[0].to_csv('csv/seventh_ed_refs.csv')\n",
    "seventh_eighth_refs_counts[1].to_csv('csv/eighth_ed_refs.csv')"
   ]
  },
  {
   "cell_type": "code",
   "execution_count": 57,
   "metadata": {},
   "outputs": [
    {
     "data": {
      "text/html": [
       "<div>\n",
       "<style scoped>\n",
       "    .dataframe tbody tr th:only-of-type {\n",
       "        vertical-align: middle;\n",
       "    }\n",
       "\n",
       "    .dataframe tbody tr th {\n",
       "        vertical-align: top;\n",
       "    }\n",
       "\n",
       "    .dataframe thead th {\n",
       "        text-align: right;\n",
       "    }\n",
       "</style>\n",
       "<table border=\"1\" class=\"dataframe\">\n",
       "  <thead>\n",
       "    <tr style=\"text-align: right;\">\n",
       "      <th></th>\n",
       "      <th>Unnamed: 0</th>\n",
       "      <th>count</th>\n",
       "      <th>references</th>\n",
       "    </tr>\n",
       "  </thead>\n",
       "  <tbody>\n",
       "  </tbody>\n",
       "</table>\n",
       "</div>"
      ],
      "text/plain": [
       "Empty DataFrame\n",
       "Columns: [Unnamed: 0, count, references]\n",
       "Index: []"
      ]
     },
     "execution_count": 57,
     "metadata": {},
     "output_type": "execute_result"
    }
   ],
   "source": [
    "seventh_eighth_refs_counts[0].loc[seventh_eighth_refs_counts[0].references == \"the article Optics\"]"
   ]
  },
  {
   "cell_type": "code",
   "execution_count": 55,
   "metadata": {},
   "outputs": [
    {
     "data": {
      "text/html": [
       "<div>\n",
       "<style scoped>\n",
       "    .dataframe tbody tr th:only-of-type {\n",
       "        vertical-align: middle;\n",
       "    }\n",
       "\n",
       "    .dataframe tbody tr th {\n",
       "        vertical-align: top;\n",
       "    }\n",
       "\n",
       "    .dataframe thead th {\n",
       "        text-align: right;\n",
       "    }\n",
       "</style>\n",
       "<table border=\"1\" class=\"dataframe\">\n",
       "  <thead>\n",
       "    <tr style=\"text-align: right;\">\n",
       "      <th></th>\n",
       "      <th>Unnamed: 0</th>\n",
       "      <th>count</th>\n",
       "      <th>references</th>\n",
       "    </tr>\n",
       "  </thead>\n",
       "  <tbody>\n",
       "    <tr>\n",
       "      <th>17</th>\n",
       "      <td>See Optics</td>\n",
       "      <td>23</td>\n",
       "      <td>Optics</td>\n",
       "    </tr>\n",
       "  </tbody>\n",
       "</table>\n",
       "</div>"
      ],
      "text/plain": [
       "    Unnamed: 0  count references\n",
       "17  See Optics     23     Optics"
      ]
     },
     "execution_count": 55,
     "metadata": {},
     "output_type": "execute_result"
    }
   ],
   "source": [
    "seventh_eighth_refs_counts[0].loc[seventh_eighth_refs_counts[0].references == \"Optics\"]"
   ]
  },
  {
   "cell_type": "code",
   "execution_count": 54,
   "metadata": {},
   "outputs": [],
   "source": [
    "seventh_eighth_refs_counts[0].loc[seventh_eighth_refs_counts[0].references == \"Optics\", \"count\"] = 11 + 12"
   ]
  },
  {
   "cell_type": "code",
   "execution_count": 56,
   "metadata": {},
   "outputs": [],
   "source": [
    "seventh_eighth_refs_counts[0] = seventh_eighth_refs_counts[0].loc[seventh_eighth_refs_counts[0].references != \"the article Optics\"]"
   ]
  },
  {
   "cell_type": "code",
   "execution_count": 62,
   "metadata": {},
   "outputs": [],
   "source": [
    "seventh_eighth_refs_counts[0] = seventh_eighth_refs_counts[0].sort_values(by=['count'], ascending=False)"
   ]
  },
  {
   "cell_type": "code",
   "execution_count": 58,
   "metadata": {},
   "outputs": [],
   "source": [
    "seventh_eighth_refs_counts[0].to_csv('csv/seventh_ed_refs_fixed.csv')"
   ]
  },
  {
   "cell_type": "code",
   "execution_count": 39,
   "metadata": {},
   "outputs": [],
   "source": [
    "seventh_eighth_refs_counts[0] = pd.read_csv('csv/seventh_ed_refs.csv')"
   ]
  },
  {
   "cell_type": "code",
   "execution_count": 64,
   "metadata": {},
   "outputs": [
    {
     "data": {
      "text/plain": [
       "<seaborn.axisgrid.FacetGrid at 0x1e61a890>"
      ]
     },
     "execution_count": 64,
     "metadata": {},
     "output_type": "execute_result"
    },
    {
     "data": {
      "image/png": "[encoded data removed]",
      "text/plain": [
       "<Figure size 1440x720 with 1 Axes>"
      ]
     },
     "metadata": {},
     "output_type": "display_data"
    }
   ],
   "source": [
    "sns.set(font_scale=1.5)\n",
    "sns.set_style(\"whitegrid\")\n",
    "ax = sns.catplot(x='count', y='references', data=seventh_eighth_refs_counts[0].head(20), kind='bar', height=10, aspect=2, color=\"#cfbd93\")\n",
    "ax.fig.suptitle(\"Top 20 most referenced topics in seventh edition\", y=1)\n",
    "ax.set_axis_labels('counts of references', 'topic')"
   ]
  },
  {
   "cell_type": "markdown",
   "metadata": {},
   "source": [
    "### Overall number of references in each edition"
   ]
  },
  {
   "cell_type": "code",
   "execution_count": 5,
   "metadata": {},
   "outputs": [
    {
     "data": {
      "text/plain": [
       "8"
      ]
     },
     "execution_count": 5,
     "metadata": {},
     "output_type": "execute_result"
    }
   ],
   "source": [
    "references = []\n",
    "references.append(pd.read_csv('csv/first_ed_refs.csv'))\n",
    "references.append(pd.read_csv('csv/second_ed_refs.csv'))\n",
    "references.append(pd.read_csv('csv/third_ed_refs.csv'))\n",
    "references.append(pd.read_csv('csv/fourth_ed_refs.csv'))\n",
    "references.append(pd.read_csv('csv/fifth_ed_refs.csv'))\n",
    "references.append(pd.read_csv('csv/sixth_ed_refs.csv'))\n",
    "references.append(pd.read_csv('csv/seventh_ed_refs.csv'))\n",
    "references.append(pd.read_csv('csv/eighth_ed_refs.csv'))\n",
    "len(references)"
   ]
  },
  {
   "cell_type": "code",
   "execution_count": 9,
   "metadata": {},
   "outputs": [
    {
     "data": {
      "text/plain": [
       "[4909, 7020, 9363, 8811, 8687, 8895, 3489, 6032]"
      ]
     },
     "execution_count": 9,
     "metadata": {},
     "output_type": "execute_result"
    }
   ],
   "source": [
    "sum_refs = []\n",
    "for refs in references:\n",
    "    sum_refs.append(refs['count'].sum())\n",
    "sum_refs"
   ]
  },
  {
   "cell_type": "code",
   "execution_count": 80,
   "metadata": {},
   "outputs": [],
   "source": [
    "# dip might be due to different formatting of referencing?\n",
    "# more longform articles rather than entries with references to main topic?"
   ]
  },
  {
   "cell_type": "code",
   "execution_count": 55,
   "metadata": {},
   "outputs": [
    {
     "data": {
      "text/plain": [
       "Text(0, 0.5, 'counts of references')"
      ]
     },
     "execution_count": 55,
     "metadata": {},
     "output_type": "execute_result"
    },
    {
     "data": {
      "image/png": "[encoded data removed]",
      "text/plain": [
       "<Figure size 432x288 with 1 Axes>"
      ]
     },
     "metadata": {},
     "output_type": "display_data"
    }
   ],
   "source": [
    "ed_count = list(range(1, 9))\n",
    "sns.set_style(\"whitegrid\")\n",
    "ax = sns.barplot(x= ed_count, y=sum_refs, color=\"#cfbd93\")\n",
    "ax.set_title('Total number of references in each edition', fontsize=16)\n",
    "ax.set_xlabel('editions', fontsize=14)\n",
    "ax.set_ylabel('counts of references', fontsize=14)"
   ]
  },
  {
   "cell_type": "markdown",
   "metadata": {},
   "source": [
    "### One of the longest words in each edition"
   ]
  },
  {
   "cell_type": "code",
   "execution_count": 6,
   "metadata": {},
   "outputs": [
    {
     "data": {
      "text/plain": [
       "8"
      ]
     },
     "execution_count": 6,
     "metadata": {},
     "output_type": "execute_result"
    }
   ],
   "source": [
    "headers = []\n",
    "headers.append(pd.read_csv('csv/first_ed_data.csv'))\n",
    "headers.append(pd.read_csv('csv/second_ed_data.csv'))\n",
    "headers.append(pd.read_csv('csv/third_ed_data.csv'))\n",
    "headers.append(pd.read_csv('csv/fourth_ed_data.csv'))\n",
    "headers.append(pd.read_csv('csv/fifth_ed_data.csv'))\n",
    "headers.append(pd.read_csv('csv/sixth_ed_data.csv'))\n",
    "headers.append(pd.read_csv('csv/seventh_ed_data.csv'))\n",
    "headers.append(pd.read_csv('csv/eighth_ed_data.csv'))\n",
    "len(headers)"
   ]
  },
  {
   "cell_type": "code",
   "execution_count": 41,
   "metadata": {},
   "outputs": [],
   "source": [
    "# this is mostly manual inspection, as the longest headers are often errors\n",
    "# selected not necessarily the longest valid word, but one of the longest ones that has a more readable/identifiable description"
   ]
  },
  {
   "cell_type": "code",
   "execution_count": 84,
   "metadata": {},
   "outputs": [
    {
     "data": {
      "text/html": [
       "<div>\n",
       "<style scoped>\n",
       "    .dataframe tbody tr th:only-of-type {\n",
       "        vertical-align: middle;\n",
       "    }\n",
       "\n",
       "    .dataframe tbody tr th {\n",
       "        vertical-align: top;\n",
       "    }\n",
       "\n",
       "    .dataframe thead th {\n",
       "        text-align: right;\n",
       "    }\n",
       "</style>\n",
       "<table border=\"1\" class=\"dataframe\">\n",
       "  <thead>\n",
       "    <tr style=\"text-align: right;\">\n",
       "      <th></th>\n",
       "      <th>Unnamed: 0</th>\n",
       "      <th>headers</th>\n",
       "      <th>definition</th>\n",
       "      <th>header_length</th>\n",
       "      <th>def_length</th>\n",
       "    </tr>\n",
       "  </thead>\n",
       "  <tbody>\n",
       "    <tr>\n",
       "      <th>4419</th>\n",
       "      <td>7779</td>\n",
       "      <td>EXTENSOR MINIMI DIGITI PROPRIUS</td>\n",
       "      <td>This is a kind of collateral or auxiliary mufc...</td>\n",
       "      <td>31</td>\n",
       "      <td>383</td>\n",
       "    </tr>\n",
       "    <tr>\n",
       "      <th>4483</th>\n",
       "      <td>7861</td>\n",
       "      <td>THE PARTS OF GENERATION IN\\nMALES</td>\n",
       "      <td>The fpermatic arteries go out moft commonly fr...</td>\n",
       "      <td>32</td>\n",
       "      <td>4066</td>\n",
       "    </tr>\n",
       "    <tr>\n",
       "      <th>15803</th>\n",
       "      <td>29601</td>\n",
       "      <td>ENCYCLOPAEDIA BRITANNICA\\nVOLUME</td>\n",
       "      <td>he T H I R D,\\nEncyclopaedia Britannica;\\nO R,...</td>\n",
       "      <td>31</td>\n",
       "      <td>47</td>\n",
       "    </tr>\n",
       "  </tbody>\n",
       "</table>\n",
       "</div>"
      ],
      "text/plain": [
       "       Unnamed: 0                            headers  \\\n",
       "4419         7779    EXTENSOR MINIMI DIGITI PROPRIUS   \n",
       "4483         7861  THE PARTS OF GENERATION IN\\nMALES   \n",
       "15803       29601   ENCYCLOPAEDIA BRITANNICA\\nVOLUME   \n",
       "\n",
       "                                              definition  header_length  \\\n",
       "4419   This is a kind of collateral or auxiliary mufc...             31   \n",
       "4483   The fpermatic arteries go out moft commonly fr...             32   \n",
       "15803  he T H I R D,\\nEncyclopaedia Britannica;\\nO R,...             31   \n",
       "\n",
       "       def_length  \n",
       "4419          383  \n",
       "4483         4066  \n",
       "15803          47  "
      ]
     },
     "execution_count": 84,
     "metadata": {},
     "output_type": "execute_result"
    }
   ],
   "source": [
    "headers[0].loc[headers[0]['header_length'] > 30]"
   ]
  },
  {
   "cell_type": "code",
   "execution_count": 85,
   "metadata": {},
   "outputs": [
    {
     "data": {
      "text/plain": [
       "'This is a kind of collateral or auxiliary mufcle of the extenfor communis, of which it appears almoit al ways to be more or lefs a portion. It is fixed along the fuperior external half of the ul na, from whence its long fmall tendon runs down in company with the fourth tendon of the extenfor commu nis, all the way to the little finger, where it joins it, and is infer ted with it. '"
      ]
     },
     "execution_count": 85,
     "metadata": {},
     "output_type": "execute_result"
    }
   ],
   "source": [
    "re.sub(\"\\n\", \" \", headers[0].iloc[4419].definition) # remove \\n for simpler formatting"
   ]
  },
  {
   "cell_type": "markdown",
   "metadata": {},
   "source": [
    "### Words that reference a specific topic"
   ]
  },
  {
   "cell_type": "code",
   "execution_count": 13,
   "metadata": {},
   "outputs": [],
   "source": [
    "# again, requires manual inspection of what definitions are not just references to the main article\n",
    "# as well as having concise and fairly clean defs"
   ]
  },
  {
   "cell_type": "code",
   "execution_count": 102,
   "metadata": {},
   "outputs": [
    {
     "name": "stdout",
     "output_type": "stream",
     "text": [
      "['in medicine, a fpecies or degree of\\nalthma, where there is fuch a difficulty of refpiration,\\nthat the patient is obliged to fit or ftand upright, to be\\n•able to breathe. See Medicine.\\n']\n",
      "['a fpecies or degree of.afthma,\\nwhere there is fuch a difficulty of refpiration, that the\\npatient is obliged to fit or ftand upright, in order to\\nbe able to breathe. See Medicine, n° 396.\\n']\n",
      "['a fpecies or degree of aflhma,\\nwhere there is fuch a difficulty of refpiration that the\\npatient is obliged to lit or Hand upright in older to\\nbe able to breathe. See Medicine, n° 291.\\n']\n",
      "[\"a fpecies or degree of afthma\\nvyhere.there.is fuch a difticulty of refpiration that the pa*\\ntient is obliged to fit or Hand uptight in order to be\\nable to breathe. See Medicine Index. '\\n\"]\n",
      "['a fpecies or degree of afthma,\\nwhere there is fuch a difficulty of refpiration that the\\npatient is obliged to fit or Hand upright in order to be\\nable to breathe. See Medicine Index,\\n']\n",
      "['a species or degree of asthma,\\nwhere there is such a difficulty of respiration that the\\npatient is obliged to sit or stand upright in order to be\\nable to breathe. See Medicine Index.\\n0']\n",
      "[]\n",
      "[]\n"
     ]
    }
   ],
   "source": [
    "for i in range(0, len(headers)):\n",
    "    print(list(headers[i].loc[headers[i]['headers'].str.match(\"ORTHOPNOEA\")].definition))"
   ]
  },
  {
   "cell_type": "code",
   "execution_count": 38,
   "metadata": {},
   "outputs": [
    {
     "data": {
      "text/plain": [
       "['or Entablement, in Archi\\ntecture, is that part of an order of a column which is\\nover the capital, and comprehends the architrave, frize,\\nand corniche. See Architecture, chap. i.\\n']"
      ]
     },
     "execution_count": 38,
     "metadata": {},
     "output_type": "execute_result"
    }
   ],
   "source": [
    "list(headers[5].loc[headers[5]['headers'].str.contains(\"ENTABLATURE\")].definition)"
   ]
  },
  {
   "cell_type": "code",
   "execution_count": 21,
   "metadata": {},
   "outputs": [
    {
     "data": {
      "text/html": [
       "<div>\n",
       "<style scoped>\n",
       "    .dataframe tbody tr th:only-of-type {\n",
       "        vertical-align: middle;\n",
       "    }\n",
       "\n",
       "    .dataframe tbody tr th {\n",
       "        vertical-align: top;\n",
       "    }\n",
       "\n",
       "    .dataframe thead th {\n",
       "        text-align: right;\n",
       "    }\n",
       "</style>\n",
       "<table border=\"1\" class=\"dataframe\">\n",
       "  <thead>\n",
       "    <tr style=\"text-align: right;\">\n",
       "      <th></th>\n",
       "      <th>Unnamed: 0</th>\n",
       "      <th>headers</th>\n",
       "      <th>definition</th>\n",
       "      <th>header_length</th>\n",
       "      <th>def_length</th>\n",
       "    </tr>\n",
       "  </thead>\n",
       "  <tbody>\n",
       "    <tr>\n",
       "      <th>10870</th>\n",
       "      <td>20411</td>\n",
       "      <td>TALS</td>\n",
       "      <td>in natural biftory, are defined to be foffile\\...</td>\n",
       "      <td>4</td>\n",
       "      <td>180</td>\n",
       "    </tr>\n",
       "    <tr>\n",
       "      <th>10967</th>\n",
       "      <td>20831</td>\n",
       "      <td>MINIUM</td>\n",
       "      <td>or red-lead. See Chemistry, p. 84.\\nand 136.\\n</td>\n",
       "      <td>6</td>\n",
       "      <td>44</td>\n",
       "    </tr>\n",
       "    <tr>\n",
       "      <th>10998</th>\n",
       "      <td>20871</td>\n",
       "      <td>MIXTURE</td>\n",
       "      <td>a compound, or affemblage of feveral dif\\nfere...</td>\n",
       "      <td>7</td>\n",
       "      <td>88</td>\n",
       "    </tr>\n",
       "    <tr>\n",
       "      <th>11149</th>\n",
       "      <td>21172</td>\n",
       "      <td>MUFFLE</td>\n",
       "      <td>in Chemittry. See Chemistry, p. 109.\\n</td>\n",
       "      <td>6</td>\n",
       "      <td>37</td>\n",
       "    </tr>\n",
       "    <tr>\n",
       "      <th>11462</th>\n",
       "      <td>22446</td>\n",
       "      <td>NOCTILUCA</td>\n",
       "      <td>a fpecies of phofphorus, fo called be-\\ncaufe ...</td>\n",
       "      <td>9</td>\n",
       "      <td>170</td>\n",
       "    </tr>\n",
       "    <tr>\n",
       "      <th>12501</th>\n",
       "      <td>24221</td>\n",
       "      <td>PLUMBUM</td>\n",
       "      <td>lead See Chemistry, p. 84.\\nPlume, in botany S...</td>\n",
       "      <td>7</td>\n",
       "      <td>68</td>\n",
       "    </tr>\n",
       "    <tr>\n",
       "      <th>12657</th>\n",
       "      <td>24520</td>\n",
       "      <td>PRECIPITANT</td>\n",
       "      <td>in chemiftry, is applied to any liquor,\\nwhich...</td>\n",
       "      <td>11</td>\n",
       "      <td>364</td>\n",
       "    </tr>\n",
       "    <tr>\n",
       "      <th>12895</th>\n",
       "      <td>24816</td>\n",
       "      <td>PYROTECHNY</td>\n",
       "      <td>the art of fire, or afcience which teaches\\nth...</td>\n",
       "      <td>10</td>\n",
       "      <td>121</td>\n",
       "    </tr>\n",
       "    <tr>\n",
       "      <th>12928</th>\n",
       "      <td>24862</td>\n",
       "      <td>QUARTATION</td>\n",
       "      <td>a method of purifying gold by melting\\nthree p...</td>\n",
       "      <td>10</td>\n",
       "      <td>149</td>\n",
       "    </tr>\n",
       "    <tr>\n",
       "      <th>12944</th>\n",
       "      <td>24881</td>\n",
       "      <td>QUINQUATRIA</td>\n",
       "      <td>in Roman antiquity, feftivals celebra-\\nyoung ...</td>\n",
       "      <td>11</td>\n",
       "      <td>249</td>\n",
       "    </tr>\n",
       "    <tr>\n",
       "      <th>13103</th>\n",
       "      <td>25096</td>\n",
       "      <td>REFINING</td>\n",
       "      <td>in general, is the art of purifying a thing;\\n...</td>\n",
       "      <td>8</td>\n",
       "      <td>207</td>\n",
       "    </tr>\n",
       "    <tr>\n",
       "      <th>13201</th>\n",
       "      <td>25336</td>\n",
       "      <td>RESOLUTION</td>\n",
       "      <td>in chemiHry, &amp;c. the reduftion of a\\nmixed bod...</td>\n",
       "      <td>10</td>\n",
       "      <td>448</td>\n",
       "    </tr>\n",
       "    <tr>\n",
       "      <th>13236</th>\n",
       "      <td>25381</td>\n",
       "      <td>RETORT</td>\n",
       "      <td>in cbemiftry. See Chemistry, p. 110.\\n</td>\n",
       "      <td>6</td>\n",
       "      <td>37</td>\n",
       "    </tr>\n",
       "    <tr>\n",
       "      <th>13583</th>\n",
       "      <td>25840</td>\n",
       "      <td>SATURN</td>\n",
       "      <td>in aftronomy. See Astronomy, p. 442.\\nSaturn,\\...</td>\n",
       "      <td>6</td>\n",
       "      <td>247</td>\n",
       "    </tr>\n",
       "    <tr>\n",
       "      <th>14040</th>\n",
       "      <td>26672</td>\n",
       "      <td>SMALT</td>\n",
       "      <td>a preparation of arfenic. See Chemistry, p;\\n1...</td>\n",
       "      <td>5</td>\n",
       "      <td>49</td>\n",
       "    </tr>\n",
       "    <tr>\n",
       "      <th>14064</th>\n",
       "      <td>26726</td>\n",
       "      <td>SOAP</td>\n",
       "      <td>a kind of pafte, fometimes hard and dry, and\\n...</td>\n",
       "      <td>4</td>\n",
       "      <td>1139</td>\n",
       "    </tr>\n",
       "    <tr>\n",
       "      <th>14107</th>\n",
       "      <td>26780</td>\n",
       "      <td>SOLUTION</td>\n",
       "      <td>in chemiHry, &amp;c. the reduftion of a\\nmixed bod...</td>\n",
       "      <td>8</td>\n",
       "      <td>448</td>\n",
       "    </tr>\n",
       "    <tr>\n",
       "      <th>14354</th>\n",
       "      <td>27089</td>\n",
       "      <td>STIBIUM</td>\n",
       "      <td>or Antimony. See Chemistry, p. 87, 139.\\n</td>\n",
       "      <td>7</td>\n",
       "      <td>40</td>\n",
       "    </tr>\n",
       "    <tr>\n",
       "      <th>15361</th>\n",
       "      <td>29001</td>\n",
       "      <td>VITRIOL</td>\n",
       "      <td>a compound body formed of the particles of\\nme...</td>\n",
       "      <td>7</td>\n",
       "      <td>313</td>\n",
       "    </tr>\n",
       "    <tr>\n",
       "      <th>15426</th>\n",
       "      <td>29080</td>\n",
       "      <td>VOLATILE</td>\n",
       "      <td>in phyfics, is commonly ufed to denotea\\nmixed...</td>\n",
       "      <td>8</td>\n",
       "      <td>265</td>\n",
       "    </tr>\n",
       "  </tbody>\n",
       "</table>\n",
       "</div>"
      ],
      "text/plain": [
       "       Unnamed: 0      headers  \\\n",
       "10870       20411         TALS   \n",
       "10967       20831       MINIUM   \n",
       "10998       20871      MIXTURE   \n",
       "11149       21172       MUFFLE   \n",
       "11462       22446    NOCTILUCA   \n",
       "12501       24221      PLUMBUM   \n",
       "12657       24520  PRECIPITANT   \n",
       "12895       24816   PYROTECHNY   \n",
       "12928       24862   QUARTATION   \n",
       "12944       24881  QUINQUATRIA   \n",
       "13103       25096     REFINING   \n",
       "13201       25336   RESOLUTION   \n",
       "13236       25381       RETORT   \n",
       "13583       25840       SATURN   \n",
       "14040       26672        SMALT   \n",
       "14064       26726         SOAP   \n",
       "14107       26780     SOLUTION   \n",
       "14354       27089      STIBIUM   \n",
       "15361       29001      VITRIOL   \n",
       "15426       29080     VOLATILE   \n",
       "\n",
       "                                              definition  header_length  \\\n",
       "10870  in natural biftory, are defined to be foffile\\...              4   \n",
       "10967     or red-lead. See Chemistry, p. 84.\\nand 136.\\n              6   \n",
       "10998  a compound, or affemblage of feveral dif\\nfere...              7   \n",
       "11149             in Chemittry. See Chemistry, p. 109.\\n              6   \n",
       "11462  a fpecies of phofphorus, fo called be-\\ncaufe ...              9   \n",
       "12501  lead See Chemistry, p. 84.\\nPlume, in botany S...              7   \n",
       "12657  in chemiftry, is applied to any liquor,\\nwhich...             11   \n",
       "12895  the art of fire, or afcience which teaches\\nth...             10   \n",
       "12928  a method of purifying gold by melting\\nthree p...             10   \n",
       "12944  in Roman antiquity, feftivals celebra-\\nyoung ...             11   \n",
       "13103  in general, is the art of purifying a thing;\\n...              8   \n",
       "13201  in chemiHry, &c. the reduftion of a\\nmixed bod...             10   \n",
       "13236             in cbemiftry. See Chemistry, p. 110.\\n              6   \n",
       "13583  in aftronomy. See Astronomy, p. 442.\\nSaturn,\\...              6   \n",
       "14040  a preparation of arfenic. See Chemistry, p;\\n1...              5   \n",
       "14064  a kind of pafte, fometimes hard and dry, and\\n...              4   \n",
       "14107  in chemiHry, &c. the reduftion of a\\nmixed bod...              8   \n",
       "14354          or Antimony. See Chemistry, p. 87, 139.\\n              7   \n",
       "15361  a compound body formed of the particles of\\nme...              7   \n",
       "15426  in phyfics, is commonly ufed to denotea\\nmixed...              8   \n",
       "\n",
       "       def_length  \n",
       "10870         180  \n",
       "10967          44  \n",
       "10998          88  \n",
       "11149          37  \n",
       "11462         170  \n",
       "12501          68  \n",
       "12657         364  \n",
       "12895         121  \n",
       "12928         149  \n",
       "12944         249  \n",
       "13103         207  \n",
       "13201         448  \n",
       "13236          37  \n",
       "13583         247  \n",
       "14040          49  \n",
       "14064        1139  \n",
       "14107         448  \n",
       "14354          40  \n",
       "15361         313  \n",
       "15426         265  "
      ]
     },
     "execution_count": 21,
     "metadata": {},
     "output_type": "execute_result"
    }
   ],
   "source": [
    "headers[0].loc[(headers[0]['definition'].str.contains(\"See Chemistry\")) & (headers[0]['def_length'] > 35)].iloc[50:100]"
   ]
  },
  {
   "cell_type": "code",
   "execution_count": 25,
   "metadata": {},
   "outputs": [
    {
     "data": {
      "text/plain": [
       "'in chemiftry, is applied to any liquor, which, when poured on a folution, leparates why is dif- folved, and makes it precipitate, or fall to the bottom of rheveffcl. See Chemistry. The term precipitant is alfo ufed, in medicine, to de note any remedy that moderates the Heat of the blood, by feparating, as is fuppofed, any heterogeneous matter contained therein. '"
      ]
     },
     "execution_count": 25,
     "metadata": {},
     "output_type": "execute_result"
    }
   ],
   "source": [
    "re.sub(\"\\n\", \" \", headers[0].iloc[12657].definition)"
   ]
  },
  {
   "cell_type": "markdown",
   "metadata": {},
   "source": [
    "### Words with most references to other topics"
   ]
  },
  {
   "cell_type": "code",
   "execution_count": 149,
   "metadata": {},
   "outputs": [],
   "source": [
    "headers_with_refs = headers.copy()"
   ]
  },
  {
   "cell_type": "code",
   "execution_count": 150,
   "metadata": {},
   "outputs": [],
   "source": [
    "# find all references of the form of \"See x\" in definitions \n",
    "\n",
    "for ed in range(0, len(headers_with_refs)):\n",
    "    refs_in_desc = []\n",
    "    for index, row in headers_with_refs[ed].iterrows():   \n",
    "        refs_in_desc.append(len(re.findall('See [^,\\.]*', row['definition']))) # matches \"See x\" until a comma or a period\n",
    "    headers_with_refs[ed] = headers_with_refs[ed].assign(refs_in_desc=refs_in_desc)"
   ]
  },
  {
   "cell_type": "code",
   "execution_count": 152,
   "metadata": {},
   "outputs": [
    {
     "data": {
      "text/html": [
       "<div>\n",
       "<style scoped>\n",
       "    .dataframe tbody tr th:only-of-type {\n",
       "        vertical-align: middle;\n",
       "    }\n",
       "\n",
       "    .dataframe tbody tr th {\n",
       "        vertical-align: top;\n",
       "    }\n",
       "\n",
       "    .dataframe thead th {\n",
       "        text-align: right;\n",
       "    }\n",
       "</style>\n",
       "<table border=\"1\" class=\"dataframe\">\n",
       "  <thead>\n",
       "    <tr style=\"text-align: right;\">\n",
       "      <th></th>\n",
       "      <th>Unnamed: 0</th>\n",
       "      <th>header_length</th>\n",
       "      <th>def_length</th>\n",
       "      <th>refs_in_desc</th>\n",
       "    </tr>\n",
       "  </thead>\n",
       "  <tbody>\n",
       "    <tr>\n",
       "      <th>count</th>\n",
       "      <td>16012.000000</td>\n",
       "      <td>16012.000000</td>\n",
       "      <td>16012.000000</td>\n",
       "      <td>16012.000000</td>\n",
       "    </tr>\n",
       "    <tr>\n",
       "      <th>mean</th>\n",
       "      <td>14743.465838</td>\n",
       "      <td>7.662690</td>\n",
       "      <td>295.386835</td>\n",
       "      <td>0.259805</td>\n",
       "    </tr>\n",
       "    <tr>\n",
       "      <th>std</th>\n",
       "      <td>9001.624128</td>\n",
       "      <td>2.713464</td>\n",
       "      <td>821.197692</td>\n",
       "      <td>0.498402</td>\n",
       "    </tr>\n",
       "    <tr>\n",
       "      <th>min</th>\n",
       "      <td>34.000000</td>\n",
       "      <td>3.000000</td>\n",
       "      <td>6.000000</td>\n",
       "      <td>0.000000</td>\n",
       "    </tr>\n",
       "    <tr>\n",
       "      <th>25%</th>\n",
       "      <td>7203.750000</td>\n",
       "      <td>6.000000</td>\n",
       "      <td>75.000000</td>\n",
       "      <td>0.000000</td>\n",
       "    </tr>\n",
       "    <tr>\n",
       "      <th>50%</th>\n",
       "      <td>13415.500000</td>\n",
       "      <td>7.000000</td>\n",
       "      <td>137.000000</td>\n",
       "      <td>0.000000</td>\n",
       "    </tr>\n",
       "    <tr>\n",
       "      <th>75%</th>\n",
       "      <td>23454.250000</td>\n",
       "      <td>9.000000</td>\n",
       "      <td>260.000000</td>\n",
       "      <td>0.000000</td>\n",
       "    </tr>\n",
       "    <tr>\n",
       "      <th>max</th>\n",
       "      <td>29875.000000</td>\n",
       "      <td>32.000000</td>\n",
       "      <td>37810.000000</td>\n",
       "      <td>6.000000</td>\n",
       "    </tr>\n",
       "  </tbody>\n",
       "</table>\n",
       "</div>"
      ],
      "text/plain": [
       "         Unnamed: 0  header_length    def_length  refs_in_desc\n",
       "count  16012.000000   16012.000000  16012.000000  16012.000000\n",
       "mean   14743.465838       7.662690    295.386835      0.259805\n",
       "std     9001.624128       2.713464    821.197692      0.498402\n",
       "min       34.000000       3.000000      6.000000      0.000000\n",
       "25%     7203.750000       6.000000     75.000000      0.000000\n",
       "50%    13415.500000       7.000000    137.000000      0.000000\n",
       "75%    23454.250000       9.000000    260.000000      0.000000\n",
       "max    29875.000000      32.000000  37810.000000      6.000000"
      ]
     },
     "execution_count": 152,
     "metadata": {},
     "output_type": "execute_result"
    }
   ],
   "source": [
    "headers_with_refs[0].describe()"
   ]
  },
  {
   "cell_type": "code",
   "execution_count": 238,
   "metadata": {},
   "outputs": [],
   "source": [
    "# Again, the checking is manual, as some of the headers/definitions are noise that is picked up \n",
    "# (eg. a \"CCCCLXXXVIL\"-type header)"
   ]
  },
  {
   "cell_type": "code",
   "execution_count": 300,
   "metadata": {},
   "outputs": [],
   "source": [
    "def most_refs_word(ed, word, adjuster):\n",
    "    # adjuster is for easily looking at words with less references, if more referenced words are noise\n",
    "    most_refs = np.max(headers_with_refs[ed]['refs_in_desc']) - adjuster \n",
    "    longest = headers_with_refs[ed].loc[headers_with_refs[ed]['refs_in_desc'] == (most_refs)]\n",
    "    print(\"Number of words with most refs: \" + str(len(longest)) + \", with number of refs: \"\\\n",
    "          + str(most_refs) + \"\\n\")\n",
    "    print(list(longest.headers)[word])\n",
    "    print(re.sub(\"\\n\", \" \", list(longest.definition)[word]))"
   ]
  },
  {
   "cell_type": "code",
   "execution_count": 308,
   "metadata": {},
   "outputs": [
    {
     "name": "stdout",
     "output_type": "stream",
     "text": [
      "Number of words with most refs: 2, with number of refs: 5\n",
      "\n",
      "IONIC\n",
      "rder. See Architecture. Ionic Sect, The, was the oldest of the ancient schools of philosophy. It originated in Asia Minor, under Thales of Miletus, about 600 b.c. Its most famous leaders after Thales were Anaximander of Miletus, Pherecydes of Syra, Anaximenes of Miletus, Heraclitus of Ephesus, Anaxagoras and Hermotimus of Clazomenae, and Diogenes of Apollonia. From Asia Minor the spirit of the Ionic philosophy passed into Greece, at first with Anaxagoras, and afterwards with Archelaus, the master of Socrates. Thus Athens, taught from Ionia, became in turn the headquarters of philosophy, and the parent of the most celebrated Greek schools. The interval between Thales and Archelaus embraced a period of about 150 years. The philosophers of the Ionic school directed their attention principally to physics and morals. A few only of their principles and beliefs can now be ascer tained from the fragments which have come down to us. In mental philosophy Pherecydes broached the doctrine of the immortality of the soul; Heraclitus speculated on the nature of the difference between the sleeping and waking state of an intellectual being, and on the individual sense,_ as distinct from general reason, the latter being the seat of all truth, the former of all error. Anaxagoras first drew the line of distinction between spirit and matter, and drew at tention to the regulative faculty in man. In physiology the great question which the Ionic philoso- 1 Unless we take as a proof of it, that sometimes a legislator who returns home, after giving obnoxious votes, is pelted wit emon by his displeased constituents. 2 Parliamentary Papers : Ionian Islands. Despatch of Sir H. Ward, 13th December 1850. 3 See the Ionian Islands, by an Ionian, 1851, London, Ridgway; and the various works cited in it. 4 It had been one-fifth of the entire revenue, but after various abatements was fixed at L.25,000. _ too i<M) 6 Parliamentary Papers Despatch of Earl Grey to Sir H. Ward, 13th August 1819. Ionian Islands under British Protection, p. Itv, 6 The late Sir Charles J. Napier. See his work on The Colonies, 1833, London, Boone. 7 See official table in Jervis’s History of Corfu, Appendix H. low Ionium phers attempted to solve was, What is the original element Marc jf oniy one? or wjiat are the originaI elements, if more than Iowa. one’ of which the universe consists ? Thales believed in v one—water; Pherecydes in earth ; Anaximenes and Dio genes in air; and Heraclitus in fire. Archelaus believed in two—heat and cold, as represented by fire and water Those who believed in a plurality of elements, whether two or more, considered the mechanical action of these upon each other as sufficient to account for the existing state of things ; whereas those who admitted only one were obli°-ed to endow it with a principle of vitality and development to account for existing variety. The latter of these schemes is known as the dynamical theory, the former as the me chanical. Ijlut the labours of the Ionic philosophers were not confined to such speculations. Thales made such ob servations in astronomy as enabled him to calculate eclipses ; Anaximander and Anaximenes constructed sundials and maps; Heraclitus endeavoured to explain the causes of eclipses, and of the successions of the seasons ; while Anaxa goras turned his attention to the milky way, comets, winds, thunder, meteoric stones, &c. These labours of the Ionic- philosophers cleared the way for all those schools which, at a later period, undertook to explain the physical world, and served at once as a model and a starting point for Leucip pus, Democritus, Empedocles, Aristotle, and, finally, for Epicurus. In fact, most of the schools which arose in Greece, from the time of Thales to that of Socrates (b.c. 600 to b.c. 400), and constituted the first philosophic period, were in some sort so many offshoots from the Ionic philoso phy. Pythagoras, born at Samos, became the pupil of Phere cydes ; Xenophanes, the founder of the Eleatic school, was a native of Colophon ; Abdera, the birth-place of Leucip pus and Democritus, and the seat of the school which they founded, was a colony from Phocaea; and, besides, Demo critus was the pupil of Anaxagoras. In the course of its development the Ionic school was contemporary with the Abderitan and Eleatic systems, as also with that of Empe docles and Pythagoras. The first of these philosophies oc cupied itself with nearly the same questions as the thinkers of Ionia. Empedocles admitted, as the first principles of things, the elements of fire, water, earth, and air, thus at tempting to harmonize the opinions of Heraclitus, Thales, Pherecydes, Anaximenes, and Diogenes. The Pythago rean and Eleatic schools, on the other hand, were hostile°to it. They were the idealists of that early period, and, con sequently, in direct antagonism to the materialistic views of the Ionic philosophy. See Thales, Anaximander, &c. \n"
     ]
    }
   ],
   "source": [
    "most_refs_word(7, 0, 1)"
   ]
  },
  {
   "cell_type": "code",
   "execution_count": 131,
   "metadata": {},
   "outputs": [
    {
     "data": {
      "text/plain": [
       "['AXIS', 'CALCULUS']"
      ]
     },
     "execution_count": 131,
     "metadata": {},
     "output_type": "execute_result"
    }
   ],
   "source": [
    "list(headers_with_refs[0].loc[headers_with_refs[0]['refs_in_desc'] == 6].headers)"
   ]
  },
  {
   "cell_type": "code",
   "execution_count": 133,
   "metadata": {},
   "outputs": [
    {
     "data": {
      "text/plain": [
       "[]"
      ]
     },
     "execution_count": 133,
     "metadata": {},
     "output_type": "execute_result"
    }
   ],
   "source": [
    "list(headers_with_refs[0].loc[headers_with_refs[0]['refs_in_desc'] == 6].definition)"
   ]
  },
  {
   "cell_type": "code",
   "execution_count": 147,
   "metadata": {},
   "outputs": [
    {
     "data": {
      "text/plain": [
       "\"in geometry, a plane figure comprehended by a Angle curve line, called its circumference, to which right lines drawn from a point in the middle, called the centre, are equal to each other. See Geo metry. Circles of the Sphere, are fuch as cut the mundane fphere, and have their periphery either on its move- able fiirface, or in another immoveable, conterminous, and equidifiant furface. See Sphere. Hence arife two kinds of circles, moveable and immoveable. The firft, thofe whofe peripheries are in the moveable fur- face, and which therefore revolve with its diurnal mo tion ; as, the meridians, &c. The latter having Circles their periphery in the immoveable furface, do not re- c;rcoJlcel. volve ; as the ecliptic, equator, and its parallels, &c. ‘^nes. See Geography. '   Circles of Altitude, otherwife called almucantars, are circles parallel to the horizon, having their com mon pole in the zenith, and ftill diminilhing as they approach the zenith. See Almucantar. Diurnal Circles, are immoveable circles, fuppo- fed to be ddcrined by the feven ftars, and other points of the heavens, in their diurnal rotation round the earth ; or rather, in the rotation of the earth round its axis. The diurnal circles are all unequal: the equator is the biggefi. Horary Circles, in dialing, are the lines which Ihew the hours on dials ; though thefe be not drawn circular, but nearly flraight. See Dialing. Circles of Latitude, or Secondaries of the Ecliptic, are great circles parallel to the plane of the ecliptic, palling through the poles thereof, and through every ftar and planer. They are fo called, becaufe they ferve to meafure the latitude of the ftars, which is no thing but an arch of one of thefe circles intercepted between the ftar and the ecliptic. See Latitude. Circles of Longitude, are feveral lelfer circles, parallel to the ecliptic; ftill diminilhing, in proportion as they recede from it. On the arches of thefe circles, the longitude of the ftars is reckoned. Circle of perpetual Apparition, one of the Idler circles, parallel to the equator ; deferined by any point of the fphere touching the northern point of the horizon ; and carried about with the diurnal motion. All the ftars included within this circle never fet, but are ever vifinle above the horizon. Circle of perpetual Occultation, is another circle at a like diftance from the equator ; and contains all thofe ftars which never appear in our hemifphere. The ftars fituate between thefe circles, alternately rile and fet at certain times. Polar Circles, are immoveable circles, parallel to the equator, and at a diftance from the poles equal to the greateft declination of the ecliptic. That next the northern pole is called the arctic ; and that next to the fouthern one the antarctic. Fairy Circle. See YhutY-Circle. Circle, in logic, or Logical Circle, is when the fame terms are proved in orbem by the fame terms ; and the parts of the fyllogifm alternately by each other, both direiftly and indirealy. Circles of the Empire, fiich provinces and princi palities of the German empire as have a right to be prefent at diets. Maximilian I. divided the empire into fix, and fome years after into ten circles. This laft divifion was confirmed by Charles V. The circles, as they Hand in the Imperial Matricola, are as follow : Auftria, Burgundy, the Lower Rhine, Bavaria, Up per Saxony, Tranconia, Swabia, Upper Rhine, Welt- phalia, and the Lower Saxony. \""
      ]
     },
     "execution_count": 147,
     "metadata": {},
     "output_type": "execute_result"
    }
   ],
   "source": [
    "re.sub(\"\\n\", \" \", list(headers_with_refs[1].loc[headers_with_refs[1]['refs_in_desc'] == 7].definition)[0])"
   ]
  },
  {
   "cell_type": "markdown",
   "metadata": {},
   "source": [
    "### Proportional topic popularity changes"
   ]
  },
  {
   "cell_type": "code",
   "execution_count": 11,
   "metadata": {},
   "outputs": [
    {
     "data": {
      "text/plain": [
       "[4909, 7020, 9363, 8811, 8687, 8895, 3489, 6032]"
      ]
     },
     "execution_count": 11,
     "metadata": {},
     "output_type": "execute_result"
    }
   ],
   "source": [
    "sum_refs = []\n",
    "for refs in references:\n",
    "    sum_refs.append(refs['count'].sum())\n",
    "sum_refs"
   ]
  },
  {
   "cell_type": "code",
   "execution_count": 12,
   "metadata": {},
   "outputs": [
    {
     "data": {
      "text/html": [
       "<div>\n",
       "<style scoped>\n",
       "    .dataframe tbody tr th:only-of-type {\n",
       "        vertical-align: middle;\n",
       "    }\n",
       "\n",
       "    .dataframe tbody tr th {\n",
       "        vertical-align: top;\n",
       "    }\n",
       "\n",
       "    .dataframe thead th {\n",
       "        text-align: right;\n",
       "    }\n",
       "</style>\n",
       "<table border=\"1\" class=\"dataframe\">\n",
       "  <thead>\n",
       "    <tr style=\"text-align: right;\">\n",
       "      <th></th>\n",
       "      <th>Unnamed: 0</th>\n",
       "      <th>count</th>\n",
       "      <th>references</th>\n",
       "    </tr>\n",
       "  </thead>\n",
       "  <tbody>\n",
       "    <tr>\n",
       "      <th>0</th>\n",
       "      <td>See Ornithology</td>\n",
       "      <td>43</td>\n",
       "      <td>Ornithology</td>\n",
       "    </tr>\n",
       "    <tr>\n",
       "      <th>1</th>\n",
       "      <td>See Mammalia</td>\n",
       "      <td>35</td>\n",
       "      <td>Mammalia</td>\n",
       "    </tr>\n",
       "    <tr>\n",
       "      <th>2</th>\n",
       "      <td>See Music</td>\n",
       "      <td>31</td>\n",
       "      <td>Music</td>\n",
       "    </tr>\n",
       "    <tr>\n",
       "      <th>3</th>\n",
       "      <td>See Metaphysics</td>\n",
       "      <td>27</td>\n",
       "      <td>Metaphysics</td>\n",
       "    </tr>\n",
       "    <tr>\n",
       "      <th>4</th>\n",
       "      <td>See Anatomy</td>\n",
       "      <td>26</td>\n",
       "      <td>Anatomy</td>\n",
       "    </tr>\n",
       "    <tr>\n",
       "      <th>...</th>\n",
       "      <td>...</td>\n",
       "      <td>...</td>\n",
       "      <td>...</td>\n",
       "    </tr>\n",
       "    <tr>\n",
       "      <th>2652</th>\n",
       "      <td>See Chemist^\\nZINZENDORF</td>\n",
       "      <td>1</td>\n",
       "      <td>Chemist^\\nZINZENDORF</td>\n",
       "    </tr>\n",
       "    <tr>\n",
       "      <th>2653</th>\n",
       "      <td>See the article Arabia</td>\n",
       "      <td>1</td>\n",
       "      <td>the article Arabia</td>\n",
       "    </tr>\n",
       "    <tr>\n",
       "      <th>2654</th>\n",
       "      <td>See Hales’\\nChronology</td>\n",
       "      <td>1</td>\n",
       "      <td>Hales’\\nChronology</td>\n",
       "    </tr>\n",
       "    <tr>\n",
       "      <th>2655</th>\n",
       "      <td>See the I ransia\\ntion of Bayle’s Dictionary</td>\n",
       "      <td>1</td>\n",
       "      <td>the I ransia\\ntion of Bayle’s Dictionary</td>\n",
       "    </tr>\n",
       "    <tr>\n",
       "      <th>2656</th>\n",
       "      <td>See Saxii Onomasticon ; Biographic Universelle...</td>\n",
       "      <td>1</td>\n",
       "      <td>Saxii Onomasticon ; Biographic Universelle;\\nG...</td>\n",
       "    </tr>\n",
       "  </tbody>\n",
       "</table>\n",
       "<p>2657 rows × 3 columns</p>\n",
       "</div>"
      ],
      "text/plain": [
       "                                             Unnamed: 0  count  \\\n",
       "0                                       See Ornithology     43   \n",
       "1                                          See Mammalia     35   \n",
       "2                                             See Music     31   \n",
       "3                                       See Metaphysics     27   \n",
       "4                                           See Anatomy     26   \n",
       "...                                                 ...    ...   \n",
       "2652                           See Chemist^\\nZINZENDORF      1   \n",
       "2653                             See the article Arabia      1   \n",
       "2654                             See Hales’\\nChronology      1   \n",
       "2655       See the I ransia\\ntion of Bayle’s Dictionary      1   \n",
       "2656  See Saxii Onomasticon ; Biographic Universelle...      1   \n",
       "\n",
       "                                             references  \n",
       "0                                           Ornithology  \n",
       "1                                              Mammalia  \n",
       "2                                                 Music  \n",
       "3                                           Metaphysics  \n",
       "4                                               Anatomy  \n",
       "...                                                 ...  \n",
       "2652                               Chemist^\\nZINZENDORF  \n",
       "2653                                 the article Arabia  \n",
       "2654                                 Hales’\\nChronology  \n",
       "2655           the I ransia\\ntion of Bayle’s Dictionary  \n",
       "2656  Saxii Onomasticon ; Biographic Universelle;\\nG...  \n",
       "\n",
       "[2657 rows x 3 columns]"
      ]
     },
     "execution_count": 12,
     "metadata": {},
     "output_type": "execute_result"
    }
   ],
   "source": [
    "references[6]"
   ]
  },
  {
   "cell_type": "code",
   "execution_count": 13,
   "metadata": {},
   "outputs": [],
   "source": [
    "def change_in_topic_vis(topic, editions_ref_counts):\n",
    "    \n",
    "    counts = []\n",
    "    sum_refs = []\n",
    "    \n",
    "    for i in range(0, len(editions_ref_counts)):\n",
    "        try: \n",
    "            counts.append(int(editions_ref_counts[i].loc[editions_ref_counts[i].references == topic]['count']) / editions_ref_counts[i]['count'].sum())\n",
    "        except: # handle case where a topic was never referenced in early editions\n",
    "            counts.append(0) \n",
    "    # proportional popularity, by dividing count by total number of references in an edition\n",
    "    ed_count = list(range(1, 9))\n",
    "    sns.set_style(\"whitegrid\")\n",
    "    ax = sns.barplot(x= ed_count, y=counts, color=\"#cfbd93\")\n",
    "    ax.set_title('Popularity of ' + topic + ' across editions', fontsize=16)\n",
    "    ax.set_xlabel('editions', fontsize=14)\n",
    "    ax.set_ylabel('proportion of references', fontsize=14)"
   ]
  },
  {
   "cell_type": "code",
   "execution_count": 15,
   "metadata": {},
   "outputs": [
    {
     "data": {
      "image/png": "[encoded data removed]",
      "text/plain": [
       "<Figure size 432x288 with 1 Axes>"
      ]
     },
     "metadata": {},
     "output_type": "display_data"
    }
   ],
   "source": [
    "change_in_topic_vis(\"Chemistry\", references) # some interesting ones, eg. music/poetry state this doesn't mean less popular.\n",
    "# could mean it was made into a separate topic, longform-articles\n"
   ]
  },
  {
   "cell_type": "code",
   "execution_count": 39,
   "metadata": {},
   "outputs": [
    {
     "ename": "SyntaxError",
     "evalue": "invalid syntax (<ipython-input-39-5d9d1667aaa2>, line 5)",
     "output_type": "error",
     "traceback": [
      "\u001b[1;36m  File \u001b[1;32m\"<ipython-input-39-5d9d1667aaa2>\"\u001b[1;36m, line \u001b[1;32m5\u001b[0m\n\u001b[1;33m    data = pd.DataFrame({\"editions\" : [\"\"Edition 1\", \"Edition 2\", \"Edition 3\"\"],\u001b[0m\n\u001b[1;37m                                               ^\u001b[0m\n\u001b[1;31mSyntaxError\u001b[0m\u001b[1;31m:\u001b[0m invalid syntax\n"
     ]
    }
   ],
   "source": [
    "def show_change_in_topic(topic, editions_ref_counts):\n",
    "\n",
    "    counts = change_in_topic(topic, editions_ref_counts)\n",
    "    \n",
    "    data = pd.DataFrame({\"editions\" : [\"\"Edition 1\", \"Edition 2\", \"Edition 3\"\"],\n",
    "                     \"reference_count\" : counts})\n",
    "\n",
    "    plt.plot(\"editions\", \"reference_count\", data=data)\n",
    "    plt.show()"
   ]
  },
  {
   "cell_type": "code",
   "execution_count": 156,
   "metadata": {},
   "outputs": [
    {
     "data": {
      "image/png": "[encoded data removed]",
      "text/plain": [
       "<Figure size 432x288 with 1 Axes>"
      ]
     },
     "metadata": {},
     "output_type": "display_data"
    }
   ],
   "source": [
    "show_change_in_topic(\"See Anatomy\", two_edition_ref_counts)"
   ]
  },
  {
   "cell_type": "markdown",
   "metadata": {},
   "source": [
    "### Main topic analysis"
   ]
  },
  {
   "cell_type": "code",
   "execution_count": 169,
   "metadata": {},
   "outputs": [
    {
     "data": {
      "text/plain": [
       "262"
      ]
     },
     "execution_count": 169,
     "metadata": {},
     "output_type": "execute_result"
    }
   ],
   "source": [
    "len(two_data_cleaned[0].loc[two_data_cleaned[0].definition.str.contains(\"See Anatomy\")])\n",
    "# not same number, as other just checks ALL MENTIONS, not just in ref"
   ]
  },
  {
   "cell_type": "markdown",
   "metadata": {},
   "source": [
    "### Total number of references for top 20 topics for all editions"
   ]
  },
  {
   "cell_type": "code",
   "execution_count": 105,
   "metadata": {},
   "outputs": [
    {
     "data": {
      "text/html": [
       "<div>\n",
       "<style scoped>\n",
       "    .dataframe tbody tr th:only-of-type {\n",
       "        vertical-align: middle;\n",
       "    }\n",
       "\n",
       "    .dataframe tbody tr th {\n",
       "        vertical-align: top;\n",
       "    }\n",
       "\n",
       "    .dataframe thead th {\n",
       "        text-align: right;\n",
       "    }\n",
       "</style>\n",
       "<table border=\"1\" class=\"dataframe\">\n",
       "  <thead>\n",
       "    <tr style=\"text-align: right;\">\n",
       "      <th></th>\n",
       "      <th>Unnamed: 0</th>\n",
       "      <th>count</th>\n",
       "      <th>references</th>\n",
       "    </tr>\n",
       "  </thead>\n",
       "  <tbody>\n",
       "    <tr>\n",
       "      <th>0</th>\n",
       "      <td>See Anatomy</td>\n",
       "      <td>321</td>\n",
       "      <td>Anatomy</td>\n",
       "    </tr>\n",
       "    <tr>\n",
       "      <th>1</th>\n",
       "      <td>See Law</td>\n",
       "      <td>151</td>\n",
       "      <td>Law</td>\n",
       "    </tr>\n",
       "    <tr>\n",
       "      <th>2</th>\n",
       "      <td>See Medicine</td>\n",
       "      <td>131</td>\n",
       "      <td>Medicine</td>\n",
       "    </tr>\n",
       "    <tr>\n",
       "      <th>3</th>\n",
       "      <td>See Chemistry</td>\n",
       "      <td>119</td>\n",
       "      <td>Chemistry</td>\n",
       "    </tr>\n",
       "    <tr>\n",
       "      <th>4</th>\n",
       "      <td>See Astronomy</td>\n",
       "      <td>112</td>\n",
       "      <td>Astronomy</td>\n",
       "    </tr>\n",
       "    <tr>\n",
       "      <th>...</th>\n",
       "      <td>...</td>\n",
       "      <td>...</td>\n",
       "      <td>...</td>\n",
       "    </tr>\n",
       "    <tr>\n",
       "      <th>2561</th>\n",
       "      <td>See Apamea</td>\n",
       "      <td>1</td>\n",
       "      <td>Apamea</td>\n",
       "    </tr>\n",
       "    <tr>\n",
       "      <th>2562</th>\n",
       "      <td>See next article</td>\n",
       "      <td>1</td>\n",
       "      <td>next article</td>\n",
       "    </tr>\n",
       "    <tr>\n",
       "      <th>2563</th>\n",
       "      <td>See Gem</td>\n",
       "      <td>1</td>\n",
       "      <td>Gem</td>\n",
       "    </tr>\n",
       "    <tr>\n",
       "      <th>2564</th>\n",
       "      <td>See Leu-\\nCACANTHA</td>\n",
       "      <td>1</td>\n",
       "      <td>Leu-\\nCACANTHA</td>\n",
       "    </tr>\n",
       "    <tr>\n",
       "      <th>2565</th>\n",
       "      <td>See Sassafras</td>\n",
       "      <td>1</td>\n",
       "      <td>Sassafras</td>\n",
       "    </tr>\n",
       "  </tbody>\n",
       "</table>\n",
       "<p>2566 rows × 3 columns</p>\n",
       "</div>"
      ],
      "text/plain": [
       "              Unnamed: 0  count      references\n",
       "0            See Anatomy    321         Anatomy\n",
       "1                See Law    151             Law\n",
       "2           See Medicine    131        Medicine\n",
       "3          See Chemistry    119       Chemistry\n",
       "4          See Astronomy    112       Astronomy\n",
       "...                  ...    ...             ...\n",
       "2561          See Apamea      1          Apamea\n",
       "2562    See next article      1    next article\n",
       "2563             See Gem      1             Gem\n",
       "2564  See Leu-\\nCACANTHA      1  Leu-\\nCACANTHA\n",
       "2565       See Sassafras      1       Sassafras\n",
       "\n",
       "[2566 rows x 3 columns]"
      ]
     },
     "execution_count": 105,
     "metadata": {},
     "output_type": "execute_result"
    }
   ],
   "source": [
    "references[0]"
   ]
  },
  {
   "cell_type": "code",
   "execution_count": 106,
   "metadata": {},
   "outputs": [
    {
     "data": {
      "text/html": [
       "<div>\n",
       "<style scoped>\n",
       "    .dataframe tbody tr th:only-of-type {\n",
       "        vertical-align: middle;\n",
       "    }\n",
       "\n",
       "    .dataframe tbody tr th {\n",
       "        vertical-align: top;\n",
       "    }\n",
       "\n",
       "    .dataframe thead th {\n",
       "        text-align: right;\n",
       "    }\n",
       "</style>\n",
       "<table border=\"1\" class=\"dataframe\">\n",
       "  <thead>\n",
       "    <tr style=\"text-align: right;\">\n",
       "      <th></th>\n",
       "      <th>ref</th>\n",
       "      <th>count</th>\n",
       "    </tr>\n",
       "  </thead>\n",
       "  <tbody>\n",
       "  </tbody>\n",
       "</table>\n",
       "</div>"
      ],
      "text/plain": [
       "Empty DataFrame\n",
       "Columns: [ref, count]\n",
       "Index: []"
      ]
     },
     "execution_count": 106,
     "metadata": {},
     "output_type": "execute_result"
    }
   ],
   "source": [
    "total_refs = pd.DataFrame(columns=['ref', 'count'])\n",
    "total_refs"
   ]
  },
  {
   "cell_type": "code",
   "execution_count": 112,
   "metadata": {},
   "outputs": [
    {
     "name": "stdout",
     "output_type": "stream",
     "text": [
      "                 ref count\n",
      "0            Anatomy  1235\n",
      "1                Law   497\n",
      "2           Medicine   429\n",
      "3          Chemistry   608\n",
      "4          Astronomy   397\n",
      "...              ...   ...\n",
      "2561          Apamea     9\n",
      "2562    next article     7\n",
      "2563             Gem     5\n",
      "2564  Leu-\\nCACANTHA     1\n",
      "2565       Sassafras     1\n",
      "\n",
      "[2566 rows x 2 columns]\n"
     ]
    }
   ],
   "source": [
    "total_refs = pd.DataFrame(columns=['ref', 'count'])\n",
    "for index, row in references[0].iterrows():\n",
    "    count = 0\n",
    "    for ed in references:\n",
    "        try: \n",
    "            count += int(ed.loc[ed.references == row.references]['count'])\n",
    "        except: # handle case where a topic was never referenced in early editions\n",
    "            pass\n",
    "    total_refs = total_refs.append({'ref': row.references, 'count': count}, ignore_index=True)\n",
    "        \n",
    "print(total_refs)"
   ]
  },
  {
   "cell_type": "code",
   "execution_count": 116,
   "metadata": {},
   "outputs": [
    {
     "data": {
      "text/plain": [
       "True"
      ]
     },
     "execution_count": 116,
     "metadata": {},
     "output_type": "execute_result"
    }
   ],
   "source": [
    "\"Anatomydfsafsafsa\" not in total_refs.values"
   ]
  },
  {
   "cell_type": "code",
   "execution_count": 10,
   "metadata": {},
   "outputs": [
    {
     "name": "stdout",
     "output_type": "stream",
     "text": [
      "                                    ref count\n",
      "0                               Anatomy  1235\n",
      "1                                   Law   497\n",
      "2                              Medicine   429\n",
      "3                             Chemistry   608\n",
      "4                             Astronomy   397\n",
      "...                                 ...   ...\n",
      "22761       Hamilton’s edition\\nof Reid     1\n",
      "22762                            Quilon     1\n",
      "22763  the\\n(Euvres Completes de Volney     1\n",
      "22764       the historical\\npart of art     1\n",
      "22765                            Police     1\n",
      "\n",
      "[22766 rows x 2 columns]\n"
     ]
    }
   ],
   "source": [
    "total_refs = pd.DataFrame(columns=['ref', 'count'])\n",
    "\n",
    "for i in range(0, len(references)):\n",
    "    for index, row in references[i].iterrows():\n",
    "        #only process a word in an edition if it was not processed by a previous edition\n",
    "        if (row.references not in total_refs.values):          \n",
    "            count = 0\n",
    "            for ed in references[i:]:\n",
    "                try: \n",
    "                    count += int(ed.loc[ed.references == row.references]['count'])\n",
    "                except: # handle case where a topic was never referenced in early editions\n",
    "                    pass\n",
    "            total_refs = total_refs.append({'ref': row.references, 'count': count}, ignore_index=True)\n",
    "            \n",
    "print(total_refs)"
   ]
  },
  {
   "cell_type": "code",
   "execution_count": 13,
   "metadata": {},
   "outputs": [],
   "source": [
    "# sort and also, check why original code didn't return the same size as original ref"
   ]
  },
  {
   "cell_type": "code",
   "execution_count": 14,
   "metadata": {},
   "outputs": [],
   "source": [
    "total_refs = total_refs.sort_values(by=['count'], ascending=False)"
   ]
  },
  {
   "cell_type": "code",
   "execution_count": 18,
   "metadata": {},
   "outputs": [
    {
     "data": {
      "text/plain": [
       "<seaborn.axisgrid.FacetGrid at 0x152cce50>"
      ]
     },
     "execution_count": 18,
     "metadata": {},
     "output_type": "execute_result"
    },
    {
     "data": {
      "image/png": "[encoded data removed]",
      "text/plain": [
       "<Figure size 1440x720 with 1 Axes>"
      ]
     },
     "metadata": {},
     "output_type": "display_data"
    }
   ],
   "source": [
    "sns.set(font_scale=1.5)\n",
    "sns.set_style(\"whitegrid\")\n",
    "ax = sns.catplot(x='count', y='ref', data=total_refs.head(20), kind='bar', height=10, aspect=2, color=\"#cfbd93\")\n",
    "ax.fig.suptitle(\"Top 20 most referenced topics across all editions\", y=1)\n",
    "ax.set_axis_labels('counts of references', 'topic')"
   ]
  },
  {
   "cell_type": "code",
   "execution_count": null,
   "metadata": {},
   "outputs": [],
   "source": []
  }
 ],
 "metadata": {
  "kernelspec": {
   "display_name": "Python 3",
   "language": "python",
   "name": "python3"
  },
  "language_info": {
   "codemirror_mode": {
    "name": "ipython",
    "version": 3
   },
   "file_extension": ".py",
   "mimetype": "text/x-python",
   "name": "python",
   "nbconvert_exporter": "python",
   "pygments_lexer": "ipython3",
   "version": "3.6.1"
  }
 },
 "nbformat": 4,
 "nbformat_minor": 2
}
