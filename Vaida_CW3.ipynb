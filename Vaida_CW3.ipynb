{
 "cells": [
  {
   "cell_type": "code",
   "execution_count": 128,
   "metadata": {},
   "outputs": [],
   "source": [
    "# TODO\n",
    "\n",
    "# OK Make CSV separations for each edition\n",
    "# NAH Look at any EXTRA CLEANING that can be done (eg. if definition is mostly noise, for_later)\n",
    "\n",
    "# generate basic info CSV & give to Ava\n",
    "# => send to Ava, mention 40->20\n",
    "\n",
    "# Generate complex header & refs data for each edition, two-by-two and save as CSV\n",
    "\n",
    "# longest word in each edition & definition (a bit manual) \n",
    "\n",
    "# FOR 5 AVA TOPICS:\n",
    "# generate list of how many words with references to it in each edition\n",
    "\n",
    "# For TOPIC VISUALISATION:\n",
    "# change colour to plain\n",
    "# remove common outliers (\"see next article\"), etc\n",
    "# remove \"see\"\n",
    "# generate for all 8 editions\n",
    "# associate to discoveries & evolutions of specific topics, ask data holder!\n",
    "# click the word to see modern definition, contextual real-world events for why this topic is popular then\n",
    "\n",
    "# For TOPIC PROPORTIONAL CHANGE:\n",
    "# anatomy count across all editions, normalise by the count of total across editions.\n",
    "# \"less important\", \"mostly mentioned in edition x\"\n",
    "# count overall all editions: most common topics, and visualise how they evolved\n",
    "# bar chart progress rather than line chart\n",
    "# make distances between values reflect year of publication\n",
    "\n",
    "# FOR GROUPING TOPICS:\n",
    "# group top x topics into bigger topics eg. science, arts etc, and visualise horizontal bars of proportions in each edition\n",
    "\n",
    "# WEBSITE:\n",
    "# add to slider images of books to represent quantity of knowledge (each book is 100'000 words in that edition)\n",
    "# publishing the final code in a clean github repository, add profiles of us on website\n",
    "# images change as you change editions, or morphing of current/old images\n",
    "\n",
    "# PRESENTATION:\n",
    "# slides responding to benjamin's questions in email\n",
    "\n",
    "# SUBMISSION:\n",
    "# guided video\n",
    "# report\n",
    "\n",
    "# OTHER:\n",
    "# longest word, others in https://github.com/vaidap/library/issues/9?\n",
    "# how definitions change across time for select words (longest def/shortest def)\n",
    "\n",
    "# #######################\n",
    "# Ask Sarah about how editions are separated/duplicates.\n",
    "# then, make this run for all editions in parts & save into CSVs\n",
    "# Ask Sarah if we can see the real encyclopaedia?\n",
    "# Ask Alexander about proportional word frequency, how to calc: prop of all frequency?\n",
    "\n",
    "# generate data always on cleaned up versions of text\n",
    "\n",
    "# look through CW2 cleanup & code: what could be ported over\n",
    "# for_later notes eg. \\n clean\n",
    "\n",
    "# DONE\n",
    "# words/characters/volumes per edition\n",
    "# run two_data & port re-format & visualisation from CW2\n",
    "# save data in csv"
   ]
  },
  {
   "cell_type": "code",
   "execution_count": 17,
   "metadata": {},
   "outputs": [],
   "source": [
    "import pandas as pd\n",
    "import numpy as np\n",
    "import re\n",
    "import seaborn as sns\n",
    "import matplotlib.pyplot as plt\n",
    "from wordcloud import WordCloud, STOPWORDS\n",
    "import csv\n",
    "%matplotlib inline"
   ]
  },
  {
   "cell_type": "code",
   "execution_count": 18,
   "metadata": {},
   "outputs": [
    {
     "name": "stdout",
     "output_type": "stream",
     "text": [
      "\n",
      "Number of text files: 195\n"
     ]
    }
   ],
   "source": [
    "# reading in index file\n",
    "\n",
    "inventory = pd.read_csv(\"encyclopaediaBritannica-inventory.csv\", header=None)\n",
    "inventory.columns = ['file','volume']\n",
    "# print(inventory)\n",
    "print(\"\\nNumber of text files: \" + str(len(inventory)))"
   ]
  },
  {
   "cell_type": "markdown",
   "metadata": {},
   "source": [
    "## Selecting volumes for each edition"
   ]
  },
  {
   "cell_type": "code",
   "execution_count": 243,
   "metadata": {},
   "outputs": [],
   "source": [
    "# ignore supplements & index volumes\n",
    "\n",
    "first_ed = inventory[:3]\n",
    "first_ed_reprint = inventory[3:7]\n",
    "second_ed = inventory[6:16]\n",
    "third_ed = inventory[16:34]\n",
    "third_ed_reprint = inventory[34:52]\n",
    "fourth_ed = inventory[56:96]\n",
    "fifth_ed = inventory[96:116]\n",
    "sixth_ed = inventory[116:136]\n",
    "seventh_ed = inventory[152:172]\n",
    "eighth_ed = inventory[173:194]"
   ]
  },
  {
   "cell_type": "code",
   "execution_count": 244,
   "metadata": {},
   "outputs": [
    {
     "data": {
      "text/plain": [
       "['Encyclopaedia Britannica - Eighth edition, Volume 1, Dissertations - EB.16',\n",
       " 'Encyclopaedia Britannica - Eighth edition, Volume 2, A-Anatomy - EB.16',\n",
       " 'Encyclopaedia Britannica - Eighth edition, Volume 3, Anatomy-Astronomy - EB.16',\n",
       " 'Encyclopaedia Britannica - Eighth edition, Volume 4, Astronomy-BOM - EB.16',\n",
       " 'Encyclopaedia Britannica - Eighth edition, Volume 5, Bombay-BUR - EB.16',\n",
       " 'Encyclopaedia Britannica - Eighth edition, Volume 6, Burning glasses-Climate - EB.16',\n",
       " 'Encyclopaedia Britannica - Eighth edition, Volume 7, CLI-DIA - EB.16',\n",
       " 'Encyclopaedia Britannica - Eighth edition, Volume 8, Diamond-Entail - EB.16',\n",
       " 'Encyclopaedia Britannica - Eighth edition, Volume 9, Entomology-FRA - EB.16',\n",
       " 'Encyclopaedia Britannica - Eighth edition, Volume 10, France-GRA - EB.16',\n",
       " 'Encyclopaedia Britannica - Eighth edition, Volume 11, GRA-HUM - EB.16',\n",
       " 'Encyclopaedia Britannica - Eighth edition, Volume 12, Hume-JOM - EB.16',\n",
       " 'Encyclopaedia Britannica - Eighth edition, Volume 13, Jonah-MAG - EB.16',\n",
       " 'Encyclopaedia Britannica - Eighth edition, Volume 14, Magnetism-MIH - EB.16',\n",
       " 'Encyclopaedia Britannica - Eighth edition, Volume 15, Milan-NAV - EB.16',\n",
       " 'Encyclopaedia Britannica - Eighth edition, Volume 16, Navigation-Ornithology - EB.16',\n",
       " 'Encyclopaedia Britannica - Eighth edition, Volume 17, ORO-Plato - EB.16',\n",
       " 'Encyclopaedia Britannica - Eighth edition, Volume 18, PLA-REI - EB.16',\n",
       " 'Encyclopaedia Britannica - Eighth edition, Volume 19, Reid-Scythia - EB.16',\n",
       " 'Encyclopaedia Britannica - Eighth edition, Volume 20, Seamanship-SZO - EB.16',\n",
       " 'Encyclopaedia Britannica - Eighth edition, Volume 21, T-ZWO - EB.16']"
      ]
     },
     "execution_count": 244,
     "metadata": {},
     "output_type": "execute_result"
    }
   ],
   "source": [
    "eighth_ed = inventory[173:194]\n",
    "list(eighth_ed['volume']) # list() to print whole text"
   ]
  },
  {
   "cell_type": "code",
   "execution_count": 228,
   "metadata": {},
   "outputs": [],
   "source": [
    "# doesn't include reprints \n",
    "all_editions = [first_ed, second_ed, third_ed, fourth_ed, fifth_ed, sixth_ed, seventh_ed, eighth_ed]"
   ]
  },
  {
   "cell_type": "code",
   "execution_count": 229,
   "metadata": {},
   "outputs": [],
   "source": [
    "# for testing\n",
    "two_editions = [first_ed, second_ed]"
   ]
  },
  {
   "cell_type": "markdown",
   "metadata": {},
   "source": [
    "## Basic statistics"
   ]
  },
  {
   "cell_type": "code",
   "execution_count": 230,
   "metadata": {},
   "outputs": [],
   "source": [
    "# Reading in text files and generate volume, word and length counts\n",
    "\n",
    "def basic_data(editions):\n",
    "    \n",
    "    data = []\n",
    "    \n",
    "    for ed in editions: \n",
    "        length = 0\n",
    "        words = 0\n",
    "        volumes = 0\n",
    "\n",
    "        for index, row in ed.iterrows():\n",
    "            print(\"Reading: \" + row['file'])\n",
    "\n",
    "            f = open('text/' + row['file'], 'r', encoding=\"utf8\")\n",
    "            content = f.read()\n",
    "            content = clean_up(content)\n",
    "            length += len(content)\n",
    "            volumes += 1\n",
    "\n",
    "            words += len(content.split())\n",
    "\n",
    "            f.close()\n",
    "            \n",
    "        data.append([volumes, length, words])\n",
    "        data_df=pd.DataFrame(data,columns=['volumes', 'length_chars','length_words'])\n",
    "    return data_df"
   ]
  },
  {
   "cell_type": "code",
   "execution_count": 231,
   "metadata": {
    "scrolled": true
   },
   "outputs": [
    {
     "name": "stdout",
     "output_type": "stream",
     "text": [
      "Reading: 144133901.txt\n",
      "Reading: 144133902.txt\n",
      "Reading: 144133903.txt\n",
      "Reading: 144850370.txt\n",
      "Reading: 144850373.txt\n",
      "Reading: 144850374.txt\n",
      "Reading: 144850375.txt\n",
      "Reading: 144850376.txt\n",
      "Reading: 144850377.txt\n",
      "Reading: 144850378.txt\n",
      "Reading: 144850379.txt\n",
      "Reading: 190273289.txt\n",
      "Reading: 190273290.txt\n",
      "Reading: 190273291.txt\n",
      "Reading: 149977338.txt\n",
      "Reading: 149977873.txt\n",
      "Reading: 149978642.txt\n",
      "Reading: 149979156.txt\n",
      "Reading: 149979622.txt\n",
      "Reading: 149981189.txt\n",
      "Reading: 149981670.txt\n",
      "Reading: 149982181.txt\n",
      "Reading: 149982692.txt\n",
      "Reading: 149983206.txt\n",
      "Reading: 190273372.txt\n",
      "Reading: 191253798.txt\n",
      "Reading: 192200061.txt\n",
      "Reading: 191253799.txt\n",
      "Reading: 191319917.txt\n",
      "Reading: 191253800.txt\n",
      "Reading: 191253817.txt\n",
      "Reading: 191253818.txt\n",
      "Reading: 191253819.txt\n",
      "Reading: 192545783.txt\n",
      "Reading: 192545784.txt\n",
      "Reading: 191809865.txt\n",
      "Reading: 191809866.txt\n",
      "Reading: 191253825.txt\n",
      "Reading: 191253826.txt\n",
      "Reading: 191320556.txt\n",
      "Reading: 191320557.txt\n",
      "Reading: 192547776.txt\n",
      "Reading: 192547777.txt\n",
      "Reading: 192692191.txt\n",
      "Reading: 192692190.txt\n",
      "Reading: 191320560.txt\n",
      "Reading: 191320561.txt\n",
      "Reading: 193109110.txt\n",
      "Reading: 193109111.txt\n",
      "Reading: 192692192.txt\n",
      "Reading: 192692193.txt\n",
      "Reading: 191679019.txt\n",
      "Reading: 191679020.txt\n",
      "Reading: 192545785.txt\n",
      "Reading: 192545786.txt\n",
      "Reading: 191678902.txt\n",
      "Reading: 191678903.txt\n",
      "Reading: 191253838.txt\n",
      "Reading: 191253839.txt\n",
      "Reading: 191253836.txt\n",
      "Reading: 191253837.txt\n",
      "Reading: 191689060.txt\n",
      "Reading: 191689061.txt\n",
      "Reading: 191320559.txt\n",
      "Reading: 191320558.txt\n",
      "Reading: 192692194.txt\n",
      "Reading: 192692195.txt\n",
      "Reading: 193108316.txt\n",
      "Reading: 193108317.txt\n",
      "Reading: 191678900.txt\n",
      "Reading: 191678901.txt\n",
      "Reading: 192016229.txt\n",
      "Reading: 191689063.txt\n",
      "Reading: 193108318.txt\n",
      "Reading: 191679033.txt\n",
      "Reading: 192984254.txt\n",
      "Reading: 192984255.txt\n",
      "Reading: 191678897.txt\n",
      "Reading: 191678898.txt\n",
      "Reading: 193109108.txt\n",
      "Reading: 193109109.txt\n",
      "Reading: 192547785.txt\n",
      "Reading: 192200901.txt\n",
      "Reading: 192200898.txt\n",
      "Reading: 192200900.txt\n",
      "Reading: 192200897.txt\n",
      "Reading: 192692638.txt\n",
      "Reading: 191689062.txt\n",
      "Reading: 192984256.txt\n",
      "Reading: 192200899.txt\n",
      "Reading: 191678899.txt\n",
      "Reading: 192547781.txt\n",
      "Reading: 192015835.txt\n",
      "Reading: 193696080.txt\n",
      "Reading: 192200662.txt\n",
      "Reading: 192692756.txt\n",
      "Reading: 192200322.txt\n",
      "Reading: 192015838.txt\n",
      "Reading: 192015836.txt\n",
      "Reading: 192547782.txt\n",
      "Reading: 191679036.txt\n",
      "Reading: 192984257.txt\n",
      "Reading: 191689064.txt\n",
      "Reading: 192200323.txt\n",
      "Reading: 191689065.txt\n",
      "Reading: 192015837.txt\n",
      "Reading: 192547783.txt\n",
      "Reading: 192547784.txt\n",
      "Reading: 192015834.txt\n",
      "Reading: 193057497.txt\n",
      "Reading: 193696081.txt\n",
      "Reading: 192984259.txt\n",
      "Reading: 193057500.txt\n",
      "Reading: 193108322.txt\n",
      "Reading: 193696083.txt\n",
      "Reading: 193322690.txt\n",
      "Reading: 193819043.txt\n",
      "Reading: 193322688.txt\n",
      "Reading: 193696084.txt\n",
      "Reading: 193469090.txt\n",
      "Reading: 193638940.txt\n",
      "Reading: 192693199.txt\n",
      "Reading: 193108323.txt\n",
      "Reading: 193322689.txt\n",
      "Reading: 193819044.txt\n",
      "Reading: 194474782.txt\n",
      "Reading: 193469091.txt\n",
      "Reading: 193469092.txt\n",
      "Reading: 193057501.txt\n",
      "Reading: 193913444.txt\n",
      "Reading: 193819045.txt\n",
      "Reading: 192984260.txt\n",
      "Reading: 193322698.txt\n",
      "Reading: 193696085.txt\n",
      "Reading: 193696086.txt\n",
      "Reading: 193108324.txt\n",
      "Reading: 193109113.txt\n",
      "Reading: 193109114.txt\n",
      "Reading: 193108325.txt\n",
      "Reading: 193322700.txt\n",
      "Reading: 193109115.txt\n",
      "Reading: 193469392.txt\n",
      "Reading: 193696087.txt\n",
      "Reading: 193916150.txt\n",
      "Reading: 193696088.txt\n",
      "Reading: 193592632.txt\n",
      "Reading: 193322699.txt\n",
      "Reading: 193819046.txt\n",
      "Reading: 193108326.txt\n",
      "Reading: 193322701.txt\n",
      "Reading: 193469393.txt\n",
      "Reading: 193819047.txt\n"
     ]
    },
    {
     "data": {
      "text/html": [
       "<div>\n",
       "<style scoped>\n",
       "    .dataframe tbody tr th:only-of-type {\n",
       "        vertical-align: middle;\n",
       "    }\n",
       "\n",
       "    .dataframe tbody tr th {\n",
       "        vertical-align: top;\n",
       "    }\n",
       "\n",
       "    .dataframe thead th {\n",
       "        text-align: right;\n",
       "    }\n",
       "</style>\n",
       "<table border=\"1\" class=\"dataframe\">\n",
       "  <thead>\n",
       "    <tr style=\"text-align: right;\">\n",
       "      <th></th>\n",
       "      <th>volumes</th>\n",
       "      <th>length_chars</th>\n",
       "      <th>length_words</th>\n",
       "    </tr>\n",
       "  </thead>\n",
       "  <tbody>\n",
       "    <tr>\n",
       "      <th>0</th>\n",
       "      <td>3</td>\n",
       "      <td>14191040</td>\n",
       "      <td>2567260</td>\n",
       "    </tr>\n",
       "    <tr>\n",
       "      <th>1</th>\n",
       "      <td>10</td>\n",
       "      <td>56733498</td>\n",
       "      <td>10172846</td>\n",
       "    </tr>\n",
       "    <tr>\n",
       "      <th>2</th>\n",
       "      <td>18</td>\n",
       "      <td>96884019</td>\n",
       "      <td>17414509</td>\n",
       "    </tr>\n",
       "    <tr>\n",
       "      <th>3</th>\n",
       "      <td>40</td>\n",
       "      <td>103931985</td>\n",
       "      <td>18672098</td>\n",
       "    </tr>\n",
       "    <tr>\n",
       "      <th>4</th>\n",
       "      <td>20</td>\n",
       "      <td>103686840</td>\n",
       "      <td>18617826</td>\n",
       "    </tr>\n",
       "    <tr>\n",
       "      <th>5</th>\n",
       "      <td>20</td>\n",
       "      <td>103513075</td>\n",
       "      <td>18597305</td>\n",
       "    </tr>\n",
       "    <tr>\n",
       "      <th>6</th>\n",
       "      <td>20</td>\n",
       "      <td>119701529</td>\n",
       "      <td>21056156</td>\n",
       "    </tr>\n",
       "    <tr>\n",
       "      <th>7</th>\n",
       "      <td>21</td>\n",
       "      <td>131624089</td>\n",
       "      <td>22878318</td>\n",
       "    </tr>\n",
       "  </tbody>\n",
       "</table>\n",
       "</div>"
      ],
      "text/plain": [
       "   volumes  length_chars  length_words\n",
       "0        3      14191040       2567260\n",
       "1       10      56733498      10172846\n",
       "2       18      96884019      17414509\n",
       "3       40     103931985      18672098\n",
       "4       20     103686840      18617826\n",
       "5       20     103513075      18597305\n",
       "6       20     119701529      21056156\n",
       "7       21     131624089      22878318"
      ]
     },
     "execution_count": 231,
     "metadata": {},
     "output_type": "execute_result"
    }
   ],
   "source": [
    "basic_df = basic_data(all_editions)\n",
    "basic_df"
   ]
  },
  {
   "cell_type": "code",
   "execution_count": 232,
   "metadata": {},
   "outputs": [],
   "source": [
    "basic_df.to_csv('csv/basic_data.csv')"
   ]
  },
  {
   "cell_type": "code",
   "execution_count": 234,
   "metadata": {},
   "outputs": [
    {
     "name": "stdout",
     "output_type": "stream",
     "text": [
      "   Unnamed: 0  volumes  length_chars  length_words\n",
      "0           0        3      14191040       2567260\n",
      "1           1       10      56733498      10172846\n",
      "2           2       18      96884019      17414509\n",
      "3           3       40     103931985      18672098\n",
      "4           4       20     103686840      18617826\n",
      "5           5       20     103513075      18597305\n",
      "6           6       20     119701529      21056156\n",
      "7           7       21     131624089      22878318\n"
     ]
    }
   ],
   "source": [
    "basic_reimport = pd.read_csv('csv/basic_data.csv')\n",
    "print(basic_reimport) # edition 4 is actually 20 volumes because text files separate it into part 1 & 2"
   ]
  },
  {
   "cell_type": "markdown",
   "metadata": {},
   "source": [
    "## Most referenced topics"
   ]
  },
  {
   "cell_type": "markdown",
   "metadata": {},
   "source": [
    "### Helper functions"
   ]
  },
  {
   "cell_type": "markdown",
   "metadata": {},
   "source": [
    "#### For cleanup"
   ]
  },
  {
   "cell_type": "code",
   "execution_count": 235,
   "metadata": {},
   "outputs": [],
   "source": [
    "def replace_by(s, a, b):\n",
    "    \"\"\" perform a regex replacement, prints number of occurrences found and returns a string.\n",
    "    s: string to make changes in\n",
    "    a: string to remove \n",
    "    b: string to add\n",
    "    returns: a string\"\"\"\n",
    "    \n",
    "    # print(\"Replacing \\\"\" + a + \"\\\" by \\\"\" + b + \"\\\", found \" + str(len(re.findall(a, s))) + \"...\")\n",
    "    new = re.sub(a, b, s)\n",
    "    \n",
    "    return new"
   ]
  },
  {
   "cell_type": "code",
   "execution_count": 236,
   "metadata": {},
   "outputs": [],
   "source": [
    "# Using regex cleanup ideas from: https://sites.temple.edu/tudsc/2014/08/12/text-scrubbing-hacks-cleaning-your-ocred-text/\n",
    "\n",
    "# Further resources: https://programminghistorian.org/en/lessons/cleaning-ocrd-text-with-regular-expressions\n",
    "# https://datascience.stackexchange.com/questions/20536/how-to-improve-ocr-scanning-results\n",
    "\n",
    "def clean_up(s):\n",
    "    \"\"\" Does a minimal cleanup of a string of text\n",
    "    returns: a string\n",
    "    \"\"\"\n",
    "    # print(\"Initial length: \" + str(len(s)))\n",
    "    s2 = replace_by(s, 'tbe', 'the')\n",
    "    s3 = replace_by(s2, 'tiie', 'the')\n",
    "    s4 = replace_by(s3, 'liis', 'his')\n",
    "    s5 = replace_by(s4, 'bis', 'his')\n",
    "    s6 = replace_by(s5, '■', '')\n",
    "    s7 = replace_by(s6, 'ib','in') # was noticed by Ava in .txt files\n",
    "    s8 = replace_by(s7, '¬','')\n",
    "    s9 = replace_by(s8, '.(\\.\\.+)', '') # multiple periods; what about ellipsis though?\n",
    "    # print(\"Clean up done!\")\n",
    "    return s9 # CAREFUL to always pass the right one to next, and return"
   ]
  },
  {
   "cell_type": "code",
   "execution_count": 237,
   "metadata": {},
   "outputs": [],
   "source": [
    "# This uses the list of header/definition/refs dataframes for each edition\n",
    "# Check that this doesn't just do a reference replace, actually changes editions that are passed to it\n",
    "\n",
    "def clean_up_definitions(editions):\n",
    "    editions_cleaned = []\n",
    "    for ed in editions:\n",
    "        # realistically, a definition can't be shorter than 5 letters, even if it is simply a redirection of the form of \"See x\"\n",
    "        ed = ed.loc[ed['def_length'] > 5]\n",
    "        # remove headers with two letters as they are probably mostly noise\n",
    "        ed = ed.loc[ed['header_length'] > 2]\n",
    "        # remove headers longer than 40 characters, as these are likely to be noise\n",
    "        ed = ed.loc[ed['header_length'] < 40]\n",
    "        \n",
    "        # We might also want to drop header duplicates, as each entry is only defined once\n",
    "        # A good portion of these duplicates are probably noise (such as annotations in roman numerals)\n",
    "        # We're not selecting the correct definition out of the duplicates here, just dropping them for the sake of simplicity\n",
    "        ed.drop_duplicates(subset =\"headers\", keep = False, inplace = True)\n",
    "        \n",
    "        editions_cleaned.append(ed)\n",
    "        \n",
    "    return editions_cleaned"
   ]
  },
  {
   "cell_type": "markdown",
   "metadata": {},
   "source": [
    "#### For extracting words and their definitions, and references (\"See x\")"
   ]
  },
  {
   "cell_type": "code",
   "execution_count": 238,
   "metadata": {},
   "outputs": [],
   "source": [
    "# Uses RegEx to identify the definition of a word as being the content between the uppercase word and the next uppercase word\n",
    "\n",
    "def find_definition(word, volume):\n",
    "    start = re.search(word, volume).start()\n",
    "    start_next = re.search(word, volume).end()\n",
    "    \n",
    "    second_word = re.search(\"[A-Z][A-Z]+\", volume[start_next:])\n",
    "    \n",
    "    if second_word: # checking that second capitalised word exists (prevents NoneType exception)\n",
    "        end = re.search(\"[A-Z][A-Z]+\", volume[start_next:]).start()\n",
    "        return volume[start_next+2:start_next+end] # +2 to ignore comma and space before a definition\n",
    "    else:\n",
    "        return \"\""
   ]
  },
  {
   "cell_type": "code",
   "execution_count": 239,
   "metadata": {},
   "outputs": [],
   "source": [
    "# Extracts entries (headers), their definitions, their respective lengths, and all references (\"See x\") from an edition\n",
    "\n",
    "def extract_info(edition):\n",
    "    \n",
    "    headers = []\n",
    "    definitions = []\n",
    "    refs = [] # for counting up all instances of \"See x\" in volumes  \n",
    "    \n",
    "    for index, row in edition.iterrows():\n",
    "        current_headers = []\n",
    "        \n",
    "        print(\"Reading: \" + row['file'])\n",
    "        f = open('text/' + row['file'], 'r', encoding=\"utf8\")\n",
    "        content = f.read()\n",
    "        content = clean_up(content) # check cleanup does something\n",
    "        # using https://stackoverflow.com/questions/9525993/get-consecutive-capitalized-words-using-regex\n",
    "        # note: this ReGex is not entirely correct, as the first will select \"MARTIAL\" and \"LAW\"\n",
    "        # \"MARTIAL\" will be cleaned out later due to having an empty definition, but \"LAW\" will have duplicates\n",
    "        \n",
    "        current_headers = re.findall('[A-Z][A-Z]+', content) # at least two uppercase letters following each other\n",
    "        current_headers += re.findall('([A-Z][A-Z]+(?=\\s[A-Z])(?:\\s[A-Z][A-Z]+)+)', content) # two or more uppercase words\n",
    "        refs += re.findall('See [^,\\.]*', content) # matches \"See x\" until a comma or a period\n",
    "        \n",
    "        for word in current_headers:\n",
    "            definitions.append(find_definition(word, content))\n",
    "            \n",
    "        headers = headers + current_headers\n",
    "        \n",
    "        f.close()\n",
    "\n",
    "    data = pd.DataFrame(headers, columns =['headers'])\n",
    "    data['definition'] = definitions\n",
    "    data['header_length']  = data['headers'].str.len()\n",
    "    data['def_length']  = data['definition'].str.len()\n",
    "    return data, refs"
   ]
  },
  {
   "cell_type": "code",
   "execution_count": 240,
   "metadata": {},
   "outputs": [],
   "source": [
    "# Generates a list of dataframes with words and their definitions for each edition\n",
    "\n",
    "def words_and_definitions(editions):\n",
    "    \n",
    "    all_edition_data = []\n",
    "    all_references = []\n",
    "    \n",
    "    for ed in editions:\n",
    "        edition_data, references = extract_info(ed)\n",
    "        all_edition_data.append(edition_data)\n",
    "        all_references.append(references)\n",
    "    return all_edition_data, all_references"
   ]
  },
  {
   "cell_type": "markdown",
   "metadata": {},
   "source": [
    "### Generating headers, definitions and references for all editions and saving to CSV"
   ]
  },
  {
   "cell_type": "code",
   "execution_count": 245,
   "metadata": {},
   "outputs": [
    {
     "name": "stdout",
     "output_type": "stream",
     "text": [
      "Reading: 144133901.txt\n",
      "Reading: 144133902.txt\n",
      "Reading: 144133903.txt\n",
      "Reading: 144850370.txt\n",
      "Reading: 144850373.txt\n",
      "Reading: 144850374.txt\n",
      "Reading: 144850375.txt\n",
      "Reading: 144850376.txt\n",
      "Reading: 144850377.txt\n",
      "Reading: 144850378.txt\n",
      "Reading: 144850379.txt\n",
      "Reading: 190273289.txt\n",
      "Reading: 190273290.txt\n"
     ]
    }
   ],
   "source": [
    "# generate two editions by two editions, and save as CSV.\n",
    "# function takes in a list of editions\n",
    "first_second_data, first_second_refs = words_and_definitions([first_ed, second_ed])"
   ]
  },
  {
   "cell_type": "code",
   "execution_count": 248,
   "metadata": {},
   "outputs": [
    {
     "data": {
      "text/html": [
       "<div>\n",
       "<style scoped>\n",
       "    .dataframe tbody tr th:only-of-type {\n",
       "        vertical-align: middle;\n",
       "    }\n",
       "\n",
       "    .dataframe tbody tr th {\n",
       "        vertical-align: top;\n",
       "    }\n",
       "\n",
       "    .dataframe thead th {\n",
       "        text-align: right;\n",
       "    }\n",
       "</style>\n",
       "<table border=\"1\" class=\"dataframe\">\n",
       "  <thead>\n",
       "    <tr style=\"text-align: right;\">\n",
       "      <th></th>\n",
       "      <th>headers</th>\n",
       "      <th>definition</th>\n",
       "      <th>header_length</th>\n",
       "      <th>def_length</th>\n",
       "    </tr>\n",
       "  </thead>\n",
       "  <tbody>\n",
       "    <tr>\n",
       "      <th>34</th>\n",
       "      <td>UTILITY</td>\n",
       "      <td>ught to be the principal intention of every pu...</td>\n",
       "      <td>7</td>\n",
       "      <td>2268</td>\n",
       "    </tr>\n",
       "    <tr>\n",
       "      <th>38</th>\n",
       "      <td>AUTHORS</td>\n",
       "      <td>&amp;c.\\nviji\\nHome on bl acking.\\nJack’s conic fe...</td>\n",
       "      <td>7</td>\n",
       "      <td>1841</td>\n",
       "    </tr>\n",
       "    <tr>\n",
       "      <th>41</th>\n",
       "      <td>AABAM</td>\n",
       "      <td>a term, among alchemifts, for lead,\\n</td>\n",
       "      <td>5</td>\n",
       "      <td>36</td>\n",
       "    </tr>\n",
       "    <tr>\n",
       "      <th>42</th>\n",
       "      <td>AACH</td>\n",
       "      <td>the name of a town and river in Swabia. It is\\...</td>\n",
       "      <td>4</td>\n",
       "      <td>93</td>\n",
       "    </tr>\n",
       "    <tr>\n",
       "      <th>43</th>\n",
       "      <td>AADE</td>\n",
       "      <td>the name of two rivers, one in the country of\\...</td>\n",
       "      <td>4</td>\n",
       "      <td>106</td>\n",
       "    </tr>\n",
       "    <tr>\n",
       "      <th>...</th>\n",
       "      <td>...</td>\n",
       "      <td>...</td>\n",
       "      <td>...</td>\n",
       "      <td>...</td>\n",
       "    </tr>\n",
       "    <tr>\n",
       "      <th>29871</th>\n",
       "      <td>WOOD COCK</td>\n",
       "      <td>in ornithology. See Scolopax.\\nWood louse, in ...</td>\n",
       "      <td>9</td>\n",
       "      <td>106</td>\n",
       "    </tr>\n",
       "    <tr>\n",
       "      <th>29872</th>\n",
       "      <td>WOT TON</td>\n",
       "      <td>a market.town of Gloucefterfhire, fituated fe-...</td>\n",
       "      <td>7</td>\n",
       "      <td>82</td>\n",
       "    </tr>\n",
       "    <tr>\n",
       "      <th>29873</th>\n",
       "      <td>WYE\\nWREATH</td>\n",
       "      <td>in heraldry, a roll of fine linen or (ilk (lik...</td>\n",
       "      <td>10</td>\n",
       "      <td>222</td>\n",
       "    </tr>\n",
       "    <tr>\n",
       "      <th>29874</th>\n",
       "      <td>WRES FLING</td>\n",
       "      <td>a kind of combat or engagement between\\ntwo pe...</td>\n",
       "      <td>10</td>\n",
       "      <td>178</td>\n",
       "    </tr>\n",
       "    <tr>\n",
       "      <th>29875</th>\n",
       "      <td>WUR FZBURG</td>\n",
       "      <td>a city of Germany in the circle of Fran\\nconia...</td>\n",
       "      <td>10</td>\n",
       "      <td>153</td>\n",
       "    </tr>\n",
       "  </tbody>\n",
       "</table>\n",
       "<p>16012 rows × 4 columns</p>\n",
       "</div>"
      ],
      "text/plain": [
       "           headers                                         definition  \\\n",
       "34         UTILITY  ught to be the principal intention of every pu...   \n",
       "38         AUTHORS  &c.\\nviji\\nHome on bl acking.\\nJack’s conic fe...   \n",
       "41           AABAM              a term, among alchemifts, for lead,\\n   \n",
       "42            AACH  the name of a town and river in Swabia. It is\\...   \n",
       "43            AADE  the name of two rivers, one in the country of\\...   \n",
       "...            ...                                                ...   \n",
       "29871    WOOD COCK  in ornithology. See Scolopax.\\nWood louse, in ...   \n",
       "29872      WOT TON  a market.town of Gloucefterfhire, fituated fe-...   \n",
       "29873  WYE\\nWREATH  in heraldry, a roll of fine linen or (ilk (lik...   \n",
       "29874   WRES FLING  a kind of combat or engagement between\\ntwo pe...   \n",
       "29875   WUR FZBURG  a city of Germany in the circle of Fran\\nconia...   \n",
       "\n",
       "       header_length  def_length  \n",
       "34                 7        2268  \n",
       "38                 7        1841  \n",
       "41                 5          36  \n",
       "42                 4          93  \n",
       "43                 4         106  \n",
       "...              ...         ...  \n",
       "29871              9         106  \n",
       "29872              7          82  \n",
       "29873             10         222  \n",
       "29874             10         178  \n",
       "29875             10         153  \n",
       "\n",
       "[16012 rows x 4 columns]"
      ]
     },
     "execution_count": 248,
     "metadata": {},
     "output_type": "execute_result"
    }
   ],
   "source": [
    "first_second_cleaned = clean_up_definitions(first_second_data)\n",
    "first_second_cleaned[0]"
   ]
  },
  {
   "cell_type": "code",
   "execution_count": 249,
   "metadata": {},
   "outputs": [],
   "source": [
    "first_second_cleaned[0].to_csv('csv/first_ed_data.csv')\n",
    "first_second_cleaned[1].to_csv('csv/second_ed_data.csv')"
   ]
  },
  {
   "cell_type": "code",
   "execution_count": 296,
   "metadata": {},
   "outputs": [],
   "source": [
    "def generate_ref_counts(refs):\n",
    "    \n",
    "    all_ref_counts = []\n",
    "    \n",
    "    for ref in refs:\n",
    "        # Converting unique counts to a DataFrame for easy visualisation\n",
    "        ref_df = pd.DataFrame(ref)\n",
    "        ref_counts = ref_df[0].value_counts()\n",
    "        ref_counts = pd.DataFrame(ref_counts)\n",
    "        ref_counts['references'] = ref_counts.index\n",
    "        ref_counts.columns = ['count', 'references']\n",
    "#         ref_counts = ref_counts.reset_index(True)\n",
    "\n",
    "        # cleaning ref counts (removing non-topics such as \"See the next article\")\n",
    "        ref_counts = ref_counts.loc[ref_counts['references'] != \"See the next article\"]\n",
    "        ref_counts = ref_counts.loc[ref_counts['references'] != \"See there\"]\n",
    "        ref_counts = ref_counts.loc[ref_counts['references'] != \"See thefe articles\"]\n",
    "        ref_counts = ref_counts.loc[ref_counts['references'] != \"See Vol\"]\n",
    "        ref_counts = ref_counts.loc[ref_counts['references'] != \"See p\"]\n",
    "        ref_counts = ref_counts.loc[ref_counts['references'] != \"See fig\"]\n",
    "        ref_counts = ref_counts.loc[ref_counts['references'] != \"See that article\"]\n",
    "        ref_counts = ref_counts.loc[~ref_counts['references'].str.contains(\"Plate\")]\n",
    "        ref_counts = ref_counts.loc[~ref_counts['references'].str.contains(\"plate\")]\n",
    "        \n",
    "        # Change formatting to not have \"See\" in topic name\n",
    "        ref_counts['references'] = ref_counts['references'].str.replace(r'See ', '')\n",
    "        \n",
    "        all_ref_counts.append(ref_counts)\n",
    "    \n",
    "        \n",
    "    \n",
    "    return all_ref_counts"
   ]
  },
  {
   "cell_type": "code",
   "execution_count": 319,
   "metadata": {
    "scrolled": true
   },
   "outputs": [
    {
     "data": {
      "text/html": [
       "<div>\n",
       "<style scoped>\n",
       "    .dataframe tbody tr th:only-of-type {\n",
       "        vertical-align: middle;\n",
       "    }\n",
       "\n",
       "    .dataframe tbody tr th {\n",
       "        vertical-align: top;\n",
       "    }\n",
       "\n",
       "    .dataframe thead th {\n",
       "        text-align: right;\n",
       "    }\n",
       "</style>\n",
       "<table border=\"1\" class=\"dataframe\">\n",
       "  <thead>\n",
       "    <tr style=\"text-align: right;\">\n",
       "      <th></th>\n",
       "      <th>count</th>\n",
       "      <th>references</th>\n",
       "    </tr>\n",
       "  </thead>\n",
       "  <tbody>\n",
       "    <tr>\n",
       "      <th>See Anatomy</th>\n",
       "      <td>321</td>\n",
       "      <td>Anatomy</td>\n",
       "    </tr>\n",
       "    <tr>\n",
       "      <th>See Law</th>\n",
       "      <td>151</td>\n",
       "      <td>Law</td>\n",
       "    </tr>\n",
       "    <tr>\n",
       "      <th>See Medicine</th>\n",
       "      <td>131</td>\n",
       "      <td>Medicine</td>\n",
       "    </tr>\n",
       "    <tr>\n",
       "      <th>See Chemistry</th>\n",
       "      <td>119</td>\n",
       "      <td>Chemistry</td>\n",
       "    </tr>\n",
       "    <tr>\n",
       "      <th>See Astronomy</th>\n",
       "      <td>112</td>\n",
       "      <td>Astronomy</td>\n",
       "    </tr>\n",
       "    <tr>\n",
       "      <th>...</th>\n",
       "      <td>...</td>\n",
       "      <td>...</td>\n",
       "    </tr>\n",
       "    <tr>\n",
       "      <th>See Apamea</th>\n",
       "      <td>1</td>\n",
       "      <td>Apamea</td>\n",
       "    </tr>\n",
       "    <tr>\n",
       "      <th>See next article</th>\n",
       "      <td>1</td>\n",
       "      <td>next article</td>\n",
       "    </tr>\n",
       "    <tr>\n",
       "      <th>See Gem</th>\n",
       "      <td>1</td>\n",
       "      <td>Gem</td>\n",
       "    </tr>\n",
       "    <tr>\n",
       "      <th>See Leu-\\nCACANTHA</th>\n",
       "      <td>1</td>\n",
       "      <td>Leu-\\nCACANTHA</td>\n",
       "    </tr>\n",
       "    <tr>\n",
       "      <th>See Sassafras</th>\n",
       "      <td>1</td>\n",
       "      <td>Sassafras</td>\n",
       "    </tr>\n",
       "  </tbody>\n",
       "</table>\n",
       "<p>2566 rows × 2 columns</p>\n",
       "</div>"
      ],
      "text/plain": [
       "                    count      references\n",
       "See Anatomy           321         Anatomy\n",
       "See Law               151             Law\n",
       "See Medicine          131        Medicine\n",
       "See Chemistry         119       Chemistry\n",
       "See Astronomy         112       Astronomy\n",
       "...                   ...             ...\n",
       "See Apamea              1          Apamea\n",
       "See next article        1    next article\n",
       "See Gem                 1             Gem\n",
       "See Leu-\\nCACANTHA      1  Leu-\\nCACANTHA\n",
       "See Sassafras           1       Sassafras\n",
       "\n",
       "[2566 rows x 2 columns]"
      ]
     },
     "execution_count": 319,
     "metadata": {},
     "output_type": "execute_result"
    }
   ],
   "source": [
    "first_second_refs_counts = generate_ref_counts(first_second_refs)\n",
    "first_second_refs_counts[0]"
   ]
  },
  {
   "cell_type": "code",
   "execution_count": 320,
   "metadata": {},
   "outputs": [],
   "source": [
    "first_second_refs_counts[0].to_csv('csv/first_ed_refs.csv')\n",
    "first_second_refs_counts[1].to_csv('csv/second_ed_refs.csv')"
   ]
  },
  {
   "cell_type": "code",
   "execution_count": 316,
   "metadata": {},
   "outputs": [],
   "source": [
    "test_reimport = pd.read_csv('csv/first_ed_refs.csv')"
   ]
  },
  {
   "cell_type": "code",
   "execution_count": 323,
   "metadata": {},
   "outputs": [
    {
     "data": {
      "text/plain": [
       "<seaborn.axisgrid.FacetGrid at 0x246e0d30>"
      ]
     },
     "execution_count": 323,
     "metadata": {},
     "output_type": "execute_result"
    },
    {
     "data": {
      "image/png": "[encoded data removed]",
      "text/plain": [
       "<Figure size 1440x720 with 1 Axes>"
      ]
     },
     "metadata": {},
     "output_type": "display_data"
    }
   ],
   "source": [
    "sns.set(font_scale=1.5)\n",
    "sns.set_style(\"whitegrid\")\n",
    "ax = sns.catplot(x='count', y='references', data=first_second_refs_counts[1].head(20), kind='bar', height=10, aspect=2, color=\"#cfbd93\")\n",
    "ax.fig.suptitle(\"Top 20 most referenced topics in second edition\", y=1)\n",
    "ax.set_axis_labels('counts of references', 'topic')"
   ]
  },
  {
   "cell_type": "markdown",
   "metadata": {},
   "source": [
    "### Proportional topic popularity changes"
   ]
  },
  {
   "cell_type": "code",
   "execution_count": 140,
   "metadata": {},
   "outputs": [],
   "source": [
    "def change_in_topic(topic, editions_ref_counts):\n",
    "    \n",
    "    counts = []\n",
    "    for i in range(0, len(editions_ref_counts)):\n",
    "        counts.append(int(editions_ref_counts[i].loc[editions_ref_counts[i].references == topic]['count']))\n",
    "    return counts"
   ]
  },
  {
   "cell_type": "code",
   "execution_count": 141,
   "metadata": {},
   "outputs": [
    {
     "data": {
      "text/plain": [
       "[321, 178]"
      ]
     },
     "execution_count": 141,
     "metadata": {},
     "output_type": "execute_result"
    }
   ],
   "source": [
    "change_in_topic(\"See Anatomy\", two_edition_ref_counts)"
   ]
  },
  {
   "cell_type": "code",
   "execution_count": 155,
   "metadata": {},
   "outputs": [],
   "source": [
    "def show_change_in_topic(topic, editions_ref_counts):\n",
    "\n",
    "    counts = change_in_topic(topic, editions_ref_counts)\n",
    "    \n",
    "    data = pd.DataFrame({\"editions\" : [\"Edition 1\", \"Edition 2\"],\n",
    "                     \"reference_count\" : counts})\n",
    "\n",
    "    plt.plot(\"editions\", \"reference_count\", data=data)\n",
    "    plt.show()"
   ]
  },
  {
   "cell_type": "code",
   "execution_count": 156,
   "metadata": {},
   "outputs": [
    {
     "data": {
      "image/png": "[encoded data removed]",
      "text/plain": [
       "<Figure size 432x288 with 1 Axes>"
      ]
     },
     "metadata": {},
     "output_type": "display_data"
    }
   ],
   "source": [
    "show_change_in_topic(\"See Anatomy\", two_edition_ref_counts)"
   ]
  },
  {
   "cell_type": "markdown",
   "metadata": {},
   "source": [
    "### Main topic analysis"
   ]
  },
  {
   "cell_type": "code",
   "execution_count": 169,
   "metadata": {},
   "outputs": [
    {
     "data": {
      "text/plain": [
       "262"
      ]
     },
     "execution_count": 169,
     "metadata": {},
     "output_type": "execute_result"
    }
   ],
   "source": [
    "len(two_data_cleaned[0].loc[two_data_cleaned[0].definition.str.contains(\"See Anatomy\")])\n",
    "# not same number, as other just checks ALL MENTIONS, not just in ref"
   ]
  },
  {
   "cell_type": "code",
   "execution_count": null,
   "metadata": {},
   "outputs": [],
   "source": []
  }
 ],
 "metadata": {
  "kernelspec": {
   "display_name": "Python 3",
   "language": "python",
   "name": "python3"
  },
  "language_info": {
   "codemirror_mode": {
    "name": "ipython",
    "version": 3
   },
   "file_extension": ".py",
   "mimetype": "text/x-python",
   "name": "python",
   "nbconvert_exporter": "python",
   "pygments_lexer": "ipython3",
   "version": "3.6.1"
  }
 },
 "nbformat": 4,
 "nbformat_minor": 2
}
