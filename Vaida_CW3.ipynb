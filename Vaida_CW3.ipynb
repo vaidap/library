{
 "cells": [
  {
   "cell_type": "code",
   "execution_count": 128,
   "metadata": {},
   "outputs": [],
   "source": [
    "# TODO\n",
    "\n",
    "# Make CSV separations for each edition\n",
    "# Look at any EXTRA CLEANING that can be done (eg. if definition is mostly noise, for_later)\n",
    "# generate basic info CSV & give to Ava\n",
    "\n",
    "# Generate complex header & refs data for each edition, two-by-two and save as CSV\n",
    "# longest word in each edition & definition (a bit manual) \n",
    "\n",
    "# FOR 5 AVA TOPICS:\n",
    "# generate list of how many words with references to it in each edition\n",
    "\n",
    "# For TOPIC VISUALISATION:\n",
    "# change colour to plain\n",
    "# remove common outliers (\"see next article\"), etc\n",
    "# remove \"see\"\n",
    "# generate for all 8 editions\n",
    "# associate to discoveries & evolutions of specific topics, ask data holder!\n",
    "# click the word to see modern definition, contextual real-world events for why this topic is popular then\n",
    "\n",
    "# For TOPIC PROPORTIONAL CHANGE:\n",
    "# anatomy count across all editions, normalise by the count of total across editions.\n",
    "# \"less important\", \"mostly mentioned in edition x\"\n",
    "# count overall all editions: most common topics, and visualise how they evolved\n",
    "# bar chart progress rather than line chart\n",
    "\n",
    "# FOR GROUPING TOPICS:\n",
    "# group top x topics into bigger topics eg. science, arts etc, and visualise horizontal bars of proportions in each edition\n",
    "\n",
    "# WEBSITE:\n",
    "# add to slider images of books to represent quantity of knowledge (each book is 100'000 words in that edition)\n",
    "# publishing the final code in a clean github repository, add profiles of us on website\n",
    "# images change as you change editions, or morphing of current/old images\n",
    "\n",
    "# PRESENTATION:\n",
    "# slides responding to benjamin's questions in email\n",
    "\n",
    "# SUBMISSION:\n",
    "# guided video\n",
    "# report\n",
    "\n",
    "# OTHER:\n",
    "# longest word, others in https://github.com/vaidap/library/issues/9?\n",
    "# how definitions change across time for select words (longest def/shortest def)\n",
    "\n",
    "# #######################\n",
    "# Ask Sarah about how editions are separated/duplicates.\n",
    "# then, make this run for all editions in parts & save into CSVs\n",
    "# Ask Sarah if we can see the real encyclopaedia?\n",
    "# Ask Alexander about proportional word frequency, how to calc: prop of all frequency?\n",
    "\n",
    "# generate data always on cleaned up versions of text\n",
    "\n",
    "# look through CW2 cleanup & code: what could be ported over\n",
    "# for_later notes eg. \\n clean\n",
    "\n",
    "# DONE\n",
    "# words/characters/volumes per edition\n",
    "# run two_data & port re-format & visualisation from CW2\n",
    "# save data in csv"
   ]
  },
  {
   "cell_type": "code",
   "execution_count": 17,
   "metadata": {},
   "outputs": [],
   "source": [
    "import pandas as pd\n",
    "import numpy as np\n",
    "import re\n",
    "import seaborn as sns\n",
    "import matplotlib.pyplot as plt\n",
    "from wordcloud import WordCloud, STOPWORDS\n",
    "import csv\n",
    "%matplotlib inline"
   ]
  },
  {
   "cell_type": "code",
   "execution_count": 18,
   "metadata": {},
   "outputs": [
    {
     "name": "stdout",
     "output_type": "stream",
     "text": [
      "\n",
      "Number of text files: 195\n"
     ]
    }
   ],
   "source": [
    "# reading in index file\n",
    "\n",
    "inventory = pd.read_csv(\"encyclopaediaBritannica-inventory.csv\", header=None)\n",
    "inventory.columns = ['file','volume']\n",
    "# print(inventory)\n",
    "print(\"\\nNumber of text files: \" + str(len(inventory)))"
   ]
  },
  {
   "cell_type": "markdown",
   "metadata": {},
   "source": [
    "## Selecting volumes for each edition"
   ]
  },
  {
   "cell_type": "code",
   "execution_count": 19,
   "metadata": {},
   "outputs": [
    {
     "data": {
      "text/plain": [
       "['Encyclopaedia Britannica; or, A dictionary of arts and sciences, compiled upon a new plan … - First edition, 1771, Volume 1, A-B - EB.1',\n",
       " 'Encyclopaedia Britannica; or, A dictionary of arts and sciences, compiled upon a new plan … - First edition, 1771, Volume 2, C-L - EB.1',\n",
       " 'Encyclopaedia Britannica; or, A dictionary of arts and sciences, compiled upon a new plan … - First edition, 1771, Volume 3, M-Z - EB.1']"
      ]
     },
     "execution_count": 19,
     "metadata": {},
     "output_type": "execute_result"
    }
   ],
   "source": [
    "first_ed = inventory[:3]\n",
    "list(first_ed['volume']) # list() to print whole text"
   ]
  },
  {
   "cell_type": "code",
   "execution_count": 20,
   "metadata": {},
   "outputs": [
    {
     "data": {
      "text/plain": [
       "['Encyclopaedia Britannica - Second edition, Volume 1, A-AST - EB.4',\n",
       " 'Encyclopaedia Britannica - Second edition, Volume 2, Astronomy-BZO - EB.4',\n",
       " 'Encyclopaedia Britannica - Second edition, Volume 3, C - EB.4',\n",
       " 'Encyclopaedia Britannica - Second edition, Volume 4, D-F - EB.4',\n",
       " 'Encyclopaedia Britannica - Second edition, Volume 5, G-J - EB.4',\n",
       " 'Encyclopaedia Britannica - Second edition, Volume 6, K-Medicine - EB.4',\n",
       " 'Encyclopaedia Britannica - Second edition, Volume 7, Medicines-Optics - EB.4',\n",
       " 'Encyclopaedia Britannica - Second edition, Volume 8, Optics-Poetry - EB.4',\n",
       " 'Encyclopaedia Britannica - Second edition, Volume 9, POI-SCU - EB.4',\n",
       " 'Encyclopaedia Britannica - Second edition, Volume 10, SCU-Appendix - EB.4']"
      ]
     },
     "execution_count": 20,
     "metadata": {},
     "output_type": "execute_result"
    }
   ],
   "source": [
    "second_ed = inventory[6:16]\n",
    "list(second_ed['volume']) # list() to print whole text"
   ]
  },
  {
   "cell_type": "code",
   "execution_count": 21,
   "metadata": {},
   "outputs": [],
   "source": [
    "two_editions = [first_ed, second_ed]"
   ]
  },
  {
   "cell_type": "markdown",
   "metadata": {},
   "source": [
    "## Basic statistics"
   ]
  },
  {
   "cell_type": "code",
   "execution_count": 22,
   "metadata": {},
   "outputs": [],
   "source": [
    "# Reading in text files and generate volume, word and length counts\n",
    "\n",
    "def basic_data(editions):\n",
    "    \n",
    "    data = []\n",
    "    \n",
    "    for ed in editions: \n",
    "        length = 0\n",
    "        words = 0\n",
    "        volumes = 0\n",
    "\n",
    "        for index, row in ed.iterrows():\n",
    "            print(\"Reading: \" + row['file'])\n",
    "\n",
    "            f = open('text/' + row['file'], 'r', encoding=\"utf8\")\n",
    "            content = f.read()\n",
    "            content = clean_up(content)\n",
    "            length += len(content)\n",
    "            volumes += 1\n",
    "\n",
    "            words += len(content.split())\n",
    "\n",
    "            f.close()\n",
    "            \n",
    "        data.append([volumes, length, words])\n",
    "        data_df=pd.DataFrame(data,columns=['volumes', 'length_chars','length_words'])\n",
    "    return data_df"
   ]
  },
  {
   "cell_type": "code",
   "execution_count": 23,
   "metadata": {},
   "outputs": [
    {
     "name": "stdout",
     "output_type": "stream",
     "text": [
      "Reading: 144133901.txt\n",
      "Reading: 144133902.txt\n",
      "Reading: 144133903.txt\n",
      "Reading: 144850370.txt\n",
      "Reading: 144850373.txt\n",
      "Reading: 144850374.txt\n",
      "Reading: 144850375.txt\n",
      "Reading: 144850376.txt\n",
      "Reading: 144850377.txt\n",
      "Reading: 144850378.txt\n",
      "Reading: 144850379.txt\n",
      "Reading: 190273289.txt\n",
      "Reading: 190273290.txt\n"
     ]
    },
    {
     "data": {
      "text/html": [
       "<div>\n",
       "<style scoped>\n",
       "    .dataframe tbody tr th:only-of-type {\n",
       "        vertical-align: middle;\n",
       "    }\n",
       "\n",
       "    .dataframe tbody tr th {\n",
       "        vertical-align: top;\n",
       "    }\n",
       "\n",
       "    .dataframe thead th {\n",
       "        text-align: right;\n",
       "    }\n",
       "</style>\n",
       "<table border=\"1\" class=\"dataframe\">\n",
       "  <thead>\n",
       "    <tr style=\"text-align: right;\">\n",
       "      <th></th>\n",
       "      <th>volumes</th>\n",
       "      <th>length_chars</th>\n",
       "      <th>length_words</th>\n",
       "    </tr>\n",
       "  </thead>\n",
       "  <tbody>\n",
       "    <tr>\n",
       "      <th>0</th>\n",
       "      <td>3</td>\n",
       "      <td>14223433</td>\n",
       "      <td>2567769</td>\n",
       "    </tr>\n",
       "    <tr>\n",
       "      <th>1</th>\n",
       "      <td>10</td>\n",
       "      <td>56865594</td>\n",
       "      <td>10173856</td>\n",
       "    </tr>\n",
       "  </tbody>\n",
       "</table>\n",
       "</div>"
      ],
      "text/plain": [
       "   volumes  length_chars  length_words\n",
       "0        3      14223433       2567769\n",
       "1       10      56865594      10173856"
      ]
     },
     "execution_count": 23,
     "metadata": {},
     "output_type": "execute_result"
    }
   ],
   "source": [
    "basic_df = basic_data(two_editions)\n",
    "basic_df"
   ]
  },
  {
   "cell_type": "code",
   "execution_count": 12,
   "metadata": {},
   "outputs": [],
   "source": [
    "basic_df.to_csv('csv/basic_data.csv')"
   ]
  },
  {
   "cell_type": "code",
   "execution_count": 13,
   "metadata": {},
   "outputs": [
    {
     "name": "stdout",
     "output_type": "stream",
     "text": [
      "   Unnamed: 0  volumes  length_chars  length_words\n",
      "0           0        3      14223433       2567769\n",
      "1           1       10      56865594      10173856\n"
     ]
    }
   ],
   "source": [
    "basic_reimport = pd.read_csv('csv/basic_data.csv')\n",
    "print(basic_reimport)"
   ]
  },
  {
   "cell_type": "markdown",
   "metadata": {},
   "source": [
    "## Most referenced topics"
   ]
  },
  {
   "cell_type": "markdown",
   "metadata": {},
   "source": [
    "### Helper functions"
   ]
  },
  {
   "cell_type": "markdown",
   "metadata": {},
   "source": [
    "#### For cleanup"
   ]
  },
  {
   "cell_type": "code",
   "execution_count": 24,
   "metadata": {},
   "outputs": [],
   "source": [
    "def replace_by(s, a, b):\n",
    "    \"\"\" perform a regex replacement, prints number of occurrences found and returns a string.\n",
    "    s: string to make changes in\n",
    "    a: string to remove \n",
    "    b: string to add\n",
    "    returns: a string\"\"\"\n",
    "    \n",
    "    # print(\"Replacing \\\"\" + a + \"\\\" by \\\"\" + b + \"\\\", found \" + str(len(re.findall(a, s))) + \"...\")\n",
    "    new = re.sub(a, b, s)\n",
    "    \n",
    "    return new"
   ]
  },
  {
   "cell_type": "code",
   "execution_count": 25,
   "metadata": {},
   "outputs": [],
   "source": [
    "# Using regex cleanup ideas from: https://sites.temple.edu/tudsc/2014/08/12/text-scrubbing-hacks-cleaning-your-ocred-text/\n",
    "\n",
    "# Further resources: https://programminghistorian.org/en/lessons/cleaning-ocrd-text-with-regular-expressions\n",
    "# https://datascience.stackexchange.com/questions/20536/how-to-improve-ocr-scanning-results\n",
    "\n",
    "def clean_up(s):\n",
    "    \"\"\" Does a minimal cleanup of a string of text\n",
    "    returns: a string\n",
    "    \"\"\"\n",
    "    # print(\"Initial length: \" + str(len(s)))\n",
    "    s2 = replace_by(s, 'tbe', 'the')\n",
    "    s3 = replace_by(s2, 'tiie', 'the')\n",
    "    s4 = replace_by(s3, 'liis', 'his')\n",
    "    s5 = replace_by(s4, 'bis', 'his')\n",
    "    s6 = replace_by(s5, '■', '')\n",
    "    s7 = replace_by(s6, 'ib','in') # was noticed by Ava in .txt files\n",
    "    s8 = replace_by(s7, '¬','')\n",
    "    s9 = replace_by(s8, '.(\\.\\.+)', '') # multiple periods; what about ellipsis though?\n",
    "    # print(\"Clean up done!\")\n",
    "    return s9 # CAREFUL to always pass the right one to next, and return"
   ]
  },
  {
   "cell_type": "code",
   "execution_count": 26,
   "metadata": {},
   "outputs": [],
   "source": [
    "# This uses the list of header/definition/refs dataframes for each edition\n",
    "# Check that this doesn't just do a reference replace, actually changes editions that are passed to it\n",
    "\n",
    "def clean_up_definitions(editions):\n",
    "    editions_cleaned = []\n",
    "    for ed in editions:\n",
    "        # realistically, a definition can't be shorter than 5 letters, even if it is simply a redirection of the form of \"See x\"\n",
    "        ed = ed.loc[ed['def_length'] > 5]\n",
    "        # remove headers with two letters as they are probably mostly noise\n",
    "        ed = ed.loc[ed['header_length'] > 2]\n",
    "        # remove headers longer than 40 characters, as these are likely to be noise\n",
    "        ed = ed.loc[ed['header_length'] < 40]\n",
    "        \n",
    "        # We might also want to drop header duplicates, as each entry is only defined once\n",
    "        # A good portion of these duplicates are probably noise (such as annotations in roman numerals)\n",
    "        # We're not selecting the correct definition out of the duplicates here, just dropping them for the sake of simplicity\n",
    "        ed.drop_duplicates(subset =\"headers\", keep = False, inplace = True)\n",
    "        \n",
    "        editions_cleaned.append(ed)\n",
    "        \n",
    "    return editions_cleaned"
   ]
  },
  {
   "cell_type": "markdown",
   "metadata": {},
   "source": [
    "#### For extracting words and their definitions, and references (\"See x\")"
   ]
  },
  {
   "cell_type": "code",
   "execution_count": 27,
   "metadata": {},
   "outputs": [],
   "source": [
    "# Uses RegEx to identify the definition of a word as being the content between the uppercase word and the next uppercase word\n",
    "\n",
    "def find_definition(word, volume):\n",
    "    start = re.search(word, volume).start()\n",
    "    start_next = re.search(word, volume).end()\n",
    "    \n",
    "    second_word = re.search(\"[A-Z][A-Z]+\", volume[start_next:])\n",
    "    \n",
    "    if second_word: # checking that second capitalised word exists (prevents NoneType exception)\n",
    "        end = re.search(\"[A-Z][A-Z]+\", volume[start_next:]).start()\n",
    "        return volume[start_next+2:start_next+end] # +2 to ignore comma and space before a definition\n",
    "    else:\n",
    "        return \"\""
   ]
  },
  {
   "cell_type": "code",
   "execution_count": 28,
   "metadata": {},
   "outputs": [],
   "source": [
    "# Extracts entries (headers), their definitions, their respective lengths, and all references (\"See x\") from an edition\n",
    "\n",
    "def extract_info(edition):\n",
    "    \n",
    "    headers = []\n",
    "    definitions = []\n",
    "    refs = [] # for counting up all instances of \"See x\" in volumes  \n",
    "    \n",
    "    for index, row in edition.iterrows():\n",
    "        current_headers = []\n",
    "        \n",
    "        print(\"Reading: \" + row['file'])\n",
    "        f = open('text/' + row['file'], 'r', encoding=\"utf8\")\n",
    "        content = f.read()\n",
    "        content = clean_up(content) # check cleanup does something\n",
    "        # using https://stackoverflow.com/questions/9525993/get-consecutive-capitalized-words-using-regex\n",
    "        # note: this ReGex is not entirely correct, as the first will select \"MARTIAL\" and \"LAW\"\n",
    "        # \"MARTIAL\" will be cleaned out later due to having an empty definition, but \"LAW\" will have duplicates\n",
    "        \n",
    "        current_headers = re.findall('[A-Z][A-Z]+', content) # at least two uppercase letters following each other\n",
    "        current_headers += re.findall('([A-Z][A-Z]+(?=\\s[A-Z])(?:\\s[A-Z][A-Z]+)+)', content) # two or more uppercase words\n",
    "        refs += re.findall('See [^,\\.]*', content) # matches \"See x\" until a comma or a period\n",
    "        \n",
    "        for word in current_headers:\n",
    "            definitions.append(find_definition(word, content))\n",
    "            \n",
    "        headers = headers + current_headers\n",
    "        \n",
    "        f.close()\n",
    "\n",
    "    data = pd.DataFrame(headers, columns =['headers'])\n",
    "    data['definition'] = definitions\n",
    "    data['header_length']  = data['headers'].str.len()\n",
    "    data['def_length']  = data['definition'].str.len()\n",
    "    return data, refs"
   ]
  },
  {
   "cell_type": "code",
   "execution_count": 29,
   "metadata": {},
   "outputs": [],
   "source": [
    "# Generates a list of dataframes with words and their definitions for each edition\n",
    "\n",
    "def words_and_definitions(editions):\n",
    "    \n",
    "    all_edition_data = []\n",
    "    all_references = []\n",
    "    \n",
    "    for ed in editions:\n",
    "        edition_data, references = extract_info(ed)\n",
    "        all_edition_data.append(edition_data)\n",
    "        all_references.append(references)\n",
    "    return all_edition_data, all_references"
   ]
  },
  {
   "cell_type": "code",
   "execution_count": 30,
   "metadata": {},
   "outputs": [
    {
     "name": "stdout",
     "output_type": "stream",
     "text": [
      "Reading: 144133901.txt\n",
      "Reading: 144133902.txt\n",
      "Reading: 144133903.txt\n",
      "Reading: 144850370.txt\n",
      "Reading: 144850373.txt\n",
      "Reading: 144850374.txt\n",
      "Reading: 144850375.txt\n",
      "Reading: 144850376.txt\n",
      "Reading: 144850377.txt\n",
      "Reading: 144850378.txt\n",
      "Reading: 144850379.txt\n",
      "Reading: 190273289.txt\n",
      "Reading: 190273290.txt\n"
     ]
    }
   ],
   "source": [
    "two_data, two_refs = words_and_definitions(two_editions)"
   ]
  },
  {
   "cell_type": "code",
   "execution_count": 117,
   "metadata": {},
   "outputs": [],
   "source": [
    "two_data_cleaned = clean_up_definitions(two_data)"
   ]
  },
  {
   "cell_type": "code",
   "execution_count": 120,
   "metadata": {},
   "outputs": [
    {
     "data": {
      "text/html": [
       "<div>\n",
       "<style scoped>\n",
       "    .dataframe tbody tr th:only-of-type {\n",
       "        vertical-align: middle;\n",
       "    }\n",
       "\n",
       "    .dataframe tbody tr th {\n",
       "        vertical-align: top;\n",
       "    }\n",
       "\n",
       "    .dataframe thead th {\n",
       "        text-align: right;\n",
       "    }\n",
       "</style>\n",
       "<table border=\"1\" class=\"dataframe\">\n",
       "  <thead>\n",
       "    <tr style=\"text-align: right;\">\n",
       "      <th></th>\n",
       "      <th>headers</th>\n",
       "      <th>definition</th>\n",
       "      <th>header_length</th>\n",
       "      <th>def_length</th>\n",
       "    </tr>\n",
       "  </thead>\n",
       "  <tbody>\n",
       "    <tr>\n",
       "      <th>34</th>\n",
       "      <td>UTILITY</td>\n",
       "      <td>ught to be the principal intention of every pu...</td>\n",
       "      <td>7</td>\n",
       "      <td>2268</td>\n",
       "    </tr>\n",
       "    <tr>\n",
       "      <th>38</th>\n",
       "      <td>AUTHORS</td>\n",
       "      <td>&amp;c.\\nviji\\nHome on bl acking.\\nJack’s conic fe...</td>\n",
       "      <td>7</td>\n",
       "      <td>1841</td>\n",
       "    </tr>\n",
       "    <tr>\n",
       "      <th>41</th>\n",
       "      <td>AABAM</td>\n",
       "      <td>a term, among alchemifts, for lead,\\n</td>\n",
       "      <td>5</td>\n",
       "      <td>36</td>\n",
       "    </tr>\n",
       "    <tr>\n",
       "      <th>42</th>\n",
       "      <td>AACH</td>\n",
       "      <td>the name of a town and river in Swabia. It is\\...</td>\n",
       "      <td>4</td>\n",
       "      <td>93</td>\n",
       "    </tr>\n",
       "    <tr>\n",
       "      <th>43</th>\n",
       "      <td>AADE</td>\n",
       "      <td>the name of two rivers, one in the country of\\...</td>\n",
       "      <td>4</td>\n",
       "      <td>106</td>\n",
       "    </tr>\n",
       "    <tr>\n",
       "      <th>...</th>\n",
       "      <td>...</td>\n",
       "      <td>...</td>\n",
       "      <td>...</td>\n",
       "      <td>...</td>\n",
       "    </tr>\n",
       "    <tr>\n",
       "      <th>29871</th>\n",
       "      <td>WOOD COCK</td>\n",
       "      <td>in ornithology. See Scolopax.\\nWood louse, in ...</td>\n",
       "      <td>9</td>\n",
       "      <td>106</td>\n",
       "    </tr>\n",
       "    <tr>\n",
       "      <th>29872</th>\n",
       "      <td>WOT TON</td>\n",
       "      <td>a market.town of Gloucefterfhire, fituated fe-...</td>\n",
       "      <td>7</td>\n",
       "      <td>82</td>\n",
       "    </tr>\n",
       "    <tr>\n",
       "      <th>29873</th>\n",
       "      <td>WYE\\nWREATH</td>\n",
       "      <td>in heraldry, a roll of fine linen or (ilk (lik...</td>\n",
       "      <td>10</td>\n",
       "      <td>222</td>\n",
       "    </tr>\n",
       "    <tr>\n",
       "      <th>29874</th>\n",
       "      <td>WRES FLING</td>\n",
       "      <td>a kind of combat or engagement between\\ntwo pe...</td>\n",
       "      <td>10</td>\n",
       "      <td>178</td>\n",
       "    </tr>\n",
       "    <tr>\n",
       "      <th>29875</th>\n",
       "      <td>WUR FZBURG</td>\n",
       "      <td>a city of Germany in the circle of Fran\\nconia...</td>\n",
       "      <td>10</td>\n",
       "      <td>153</td>\n",
       "    </tr>\n",
       "  </tbody>\n",
       "</table>\n",
       "<p>16012 rows × 4 columns</p>\n",
       "</div>"
      ],
      "text/plain": [
       "           headers                                         definition  \\\n",
       "34         UTILITY  ught to be the principal intention of every pu...   \n",
       "38         AUTHORS  &c.\\nviji\\nHome on bl acking.\\nJack’s conic fe...   \n",
       "41           AABAM              a term, among alchemifts, for lead,\\n   \n",
       "42            AACH  the name of a town and river in Swabia. It is\\...   \n",
       "43            AADE  the name of two rivers, one in the country of\\...   \n",
       "...            ...                                                ...   \n",
       "29871    WOOD COCK  in ornithology. See Scolopax.\\nWood louse, in ...   \n",
       "29872      WOT TON  a market.town of Gloucefterfhire, fituated fe-...   \n",
       "29873  WYE\\nWREATH  in heraldry, a roll of fine linen or (ilk (lik...   \n",
       "29874   WRES FLING  a kind of combat or engagement between\\ntwo pe...   \n",
       "29875   WUR FZBURG  a city of Germany in the circle of Fran\\nconia...   \n",
       "\n",
       "       header_length  def_length  \n",
       "34                 7        2268  \n",
       "38                 7        1841  \n",
       "41                 5          36  \n",
       "42                 4          93  \n",
       "43                 4         106  \n",
       "...              ...         ...  \n",
       "29871              9         106  \n",
       "29872              7          82  \n",
       "29873             10         222  \n",
       "29874             10         178  \n",
       "29875             10         153  \n",
       "\n",
       "[16012 rows x 4 columns]"
      ]
     },
     "execution_count": 120,
     "metadata": {},
     "output_type": "execute_result"
    }
   ],
   "source": [
    "two_data_cleaned[0]"
   ]
  },
  {
   "cell_type": "code",
   "execution_count": 119,
   "metadata": {},
   "outputs": [],
   "source": [
    "two_data_cleaned[0].to_csv('csv/two_data_0.csv')\n",
    "two_data_cleaned[1].to_csv('csv/two_data_1.csv')"
   ]
  },
  {
   "cell_type": "code",
   "execution_count": 109,
   "metadata": {},
   "outputs": [],
   "source": [
    "with open(\"csv/two_refs.csv\", \"w\", newline=\"\") as f:\n",
    "    writer = csv.writer(f)\n",
    "    writer.writerows(two_refs)"
   ]
  },
  {
   "cell_type": "code",
   "execution_count": 110,
   "metadata": {},
   "outputs": [],
   "source": [
    "def generate_ref_counts(refs):\n",
    "    \n",
    "    all_ref_counts = []\n",
    "    \n",
    "    for ref in refs:\n",
    "        # Converting unique counts to a DataFrame for easy visualisation\n",
    "        ref_df = pd.DataFrame(ref)\n",
    "        ref_counts = ref_df[0].value_counts()\n",
    "        ref_counts = pd.DataFrame(ref_counts)\n",
    "        ref_counts['references'] = ref_counts.index\n",
    "        ref_counts.columns = ['count', 'references']\n",
    "#         ref_counts = ref_counts.reset_index(True)\n",
    "        all_ref_counts.append(ref_counts)\n",
    "    \n",
    "    return all_ref_counts"
   ]
  },
  {
   "cell_type": "code",
   "execution_count": 129,
   "metadata": {
    "scrolled": true
   },
   "outputs": [],
   "source": [
    "two_edition_ref_counts = generate_ref_counts(two_refs)"
   ]
  },
  {
   "cell_type": "code",
   "execution_count": 130,
   "metadata": {},
   "outputs": [
    {
     "data": {
      "text/html": [
       "<div>\n",
       "<style scoped>\n",
       "    .dataframe tbody tr th:only-of-type {\n",
       "        vertical-align: middle;\n",
       "    }\n",
       "\n",
       "    .dataframe tbody tr th {\n",
       "        vertical-align: top;\n",
       "    }\n",
       "\n",
       "    .dataframe thead th {\n",
       "        text-align: right;\n",
       "    }\n",
       "</style>\n",
       "<table border=\"1\" class=\"dataframe\">\n",
       "  <thead>\n",
       "    <tr style=\"text-align: right;\">\n",
       "      <th></th>\n",
       "      <th>count</th>\n",
       "      <th>references</th>\n",
       "    </tr>\n",
       "  </thead>\n",
       "  <tbody>\n",
       "    <tr>\n",
       "      <th>See Anatomy</th>\n",
       "      <td>321</td>\n",
       "      <td>See Anatomy</td>\n",
       "    </tr>\n",
       "    <tr>\n",
       "      <th>See Law</th>\n",
       "      <td>151</td>\n",
       "      <td>See Law</td>\n",
       "    </tr>\n",
       "    <tr>\n",
       "      <th>See Medicine</th>\n",
       "      <td>131</td>\n",
       "      <td>See Medicine</td>\n",
       "    </tr>\n",
       "    <tr>\n",
       "      <th>See Chemistry</th>\n",
       "      <td>119</td>\n",
       "      <td>See Chemistry</td>\n",
       "    </tr>\n",
       "    <tr>\n",
       "      <th>See Astronomy</th>\n",
       "      <td>112</td>\n",
       "      <td>See Astronomy</td>\n",
       "    </tr>\n",
       "    <tr>\n",
       "      <th>...</th>\n",
       "      <td>...</td>\n",
       "      <td>...</td>\n",
       "    </tr>\n",
       "    <tr>\n",
       "      <th>See Apamea</th>\n",
       "      <td>1</td>\n",
       "      <td>See Apamea</td>\n",
       "    </tr>\n",
       "    <tr>\n",
       "      <th>See next article</th>\n",
       "      <td>1</td>\n",
       "      <td>See next article</td>\n",
       "    </tr>\n",
       "    <tr>\n",
       "      <th>See Gem</th>\n",
       "      <td>1</td>\n",
       "      <td>See Gem</td>\n",
       "    </tr>\n",
       "    <tr>\n",
       "      <th>See Leu-\\nCACANTHA</th>\n",
       "      <td>1</td>\n",
       "      <td>See Leu-\\nCACANTHA</td>\n",
       "    </tr>\n",
       "    <tr>\n",
       "      <th>See Sassafras</th>\n",
       "      <td>1</td>\n",
       "      <td>See Sassafras</td>\n",
       "    </tr>\n",
       "  </tbody>\n",
       "</table>\n",
       "<p>2652 rows × 2 columns</p>\n",
       "</div>"
      ],
      "text/plain": [
       "                    count          references\n",
       "See Anatomy           321         See Anatomy\n",
       "See Law               151             See Law\n",
       "See Medicine          131        See Medicine\n",
       "See Chemistry         119       See Chemistry\n",
       "See Astronomy         112       See Astronomy\n",
       "...                   ...                 ...\n",
       "See Apamea              1          See Apamea\n",
       "See next article        1    See next article\n",
       "See Gem                 1             See Gem\n",
       "See Leu-\\nCACANTHA      1  See Leu-\\nCACANTHA\n",
       "See Sassafras           1       See Sassafras\n",
       "\n",
       "[2652 rows x 2 columns]"
      ]
     },
     "execution_count": 130,
     "metadata": {},
     "output_type": "execute_result"
    }
   ],
   "source": [
    "two_edition_ref_counts[0]"
   ]
  },
  {
   "cell_type": "code",
   "execution_count": 168,
   "metadata": {},
   "outputs": [
    {
     "data": {
      "text/plain": [
       "<seaborn.axisgrid.FacetGrid at 0x1d2d0a90>"
      ]
     },
     "execution_count": 168,
     "metadata": {},
     "output_type": "execute_result"
    },
    {
     "data": {
      "image/png": "[encoded data removed]",
      "text/plain": [
       "<Figure size 1440x720 with 1 Axes>"
      ]
     },
     "metadata": {},
     "output_type": "display_data"
    }
   ],
   "source": [
    "sns.set(font_scale=1.5)\n",
    "ax = sns.catplot(x='count', y='references', data=two_edition_ref_counts[1].head(20), kind='bar', height=10, aspect=2)\n",
    "ax.fig.suptitle(\"Top 20 most referenced topics in first edition\", y=1)\n",
    "ax.set_axis_labels('counts of references', 'topic')"
   ]
  },
  {
   "cell_type": "markdown",
   "metadata": {},
   "source": [
    "### Proportional topic popularity changes"
   ]
  },
  {
   "cell_type": "code",
   "execution_count": 140,
   "metadata": {},
   "outputs": [],
   "source": [
    "def change_in_topic(topic, editions_ref_counts):\n",
    "    \n",
    "    counts = []\n",
    "    for i in range(0, len(editions_ref_counts)):\n",
    "        counts.append(int(editions_ref_counts[i].loc[editions_ref_counts[i].references == topic]['count']))\n",
    "    return counts"
   ]
  },
  {
   "cell_type": "code",
   "execution_count": 141,
   "metadata": {},
   "outputs": [
    {
     "data": {
      "text/plain": [
       "[321, 178]"
      ]
     },
     "execution_count": 141,
     "metadata": {},
     "output_type": "execute_result"
    }
   ],
   "source": [
    "change_in_topic(\"See Anatomy\", two_edition_ref_counts)"
   ]
  },
  {
   "cell_type": "code",
   "execution_count": 155,
   "metadata": {},
   "outputs": [],
   "source": [
    "def show_change_in_topic(topic, editions_ref_counts):\n",
    "\n",
    "    counts = change_in_topic(topic, editions_ref_counts)\n",
    "    \n",
    "    data = pd.DataFrame({\"editions\" : [\"Edition 1\", \"Edition 2\"],\n",
    "                     \"reference_count\" : counts})\n",
    "\n",
    "    plt.plot(\"editions\", \"reference_count\", data=data)\n",
    "    plt.show()"
   ]
  },
  {
   "cell_type": "code",
   "execution_count": 156,
   "metadata": {},
   "outputs": [
    {
     "data": {
      "image/png": "[encoded data removed]",
      "text/plain": [
       "<Figure size 432x288 with 1 Axes>"
      ]
     },
     "metadata": {},
     "output_type": "display_data"
    }
   ],
   "source": [
    "show_change_in_topic(\"See Anatomy\", two_edition_ref_counts)"
   ]
  },
  {
   "cell_type": "markdown",
   "metadata": {},
   "source": [
    "### Main topic analysis"
   ]
  },
  {
   "cell_type": "code",
   "execution_count": 169,
   "metadata": {},
   "outputs": [
    {
     "data": {
      "text/plain": [
       "262"
      ]
     },
     "execution_count": 169,
     "metadata": {},
     "output_type": "execute_result"
    }
   ],
   "source": [
    "len(two_data_cleaned[0].loc[two_data_cleaned[0].definition.str.contains(\"See Anatomy\")])\n",
    "# not same number, as other just checks ALL MENTIONS, not just in ref"
   ]
  },
  {
   "cell_type": "code",
   "execution_count": null,
   "metadata": {},
   "outputs": [],
   "source": []
  }
 ],
 "metadata": {
  "kernelspec": {
   "display_name": "Python 3",
   "language": "python",
   "name": "python3"
  },
  "language_info": {
   "codemirror_mode": {
    "name": "ipython",
    "version": 3
   },
   "file_extension": ".py",
   "mimetype": "text/x-python",
   "name": "python",
   "nbconvert_exporter": "python",
   "pygments_lexer": "ipython3",
   "version": "3.6.1"
  }
 },
 "nbformat": 4,
 "nbformat_minor": 2
}
