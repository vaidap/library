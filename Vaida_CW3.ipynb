{
 "cells": [
  {
   "cell_type": "markdown",
   "metadata": {},
   "source": [
    "# Assignment 3"
   ]
  },
  {
   "cell_type": "code",
   "execution_count": 1,
   "metadata": {},
   "outputs": [],
   "source": [
    "import pandas as pd\n",
    "import numpy as np\n",
    "import re\n",
    "import seaborn as sns\n",
    "import matplotlib.pyplot as plt\n",
    "from wordcloud import WordCloud, STOPWORDS\n",
    "import csv\n",
    "%matplotlib inline"
   ]
  },
  {
   "cell_type": "code",
   "execution_count": 4,
   "metadata": {},
   "outputs": [
    {
     "name": "stdout",
     "output_type": "stream",
     "text": [
      "\n",
      "Number of text files: 195\n"
     ]
    }
   ],
   "source": [
    "# reading in index file\n",
    "\n",
    "inventory = pd.read_csv(\"encyclopaediaBritannica-inventory.csv\", header=None)\n",
    "inventory.columns = ['file','volume']\n",
    "print(\"\\nNumber of text files: \" + str(len(inventory)))"
   ]
  },
  {
   "cell_type": "markdown",
   "metadata": {},
   "source": [
    "## Selecting volumes for each edition"
   ]
  },
  {
   "cell_type": "code",
   "execution_count": 5,
   "metadata": {},
   "outputs": [],
   "source": [
    "# ignore supplements & index volumes\n",
    "\n",
    "first_ed = inventory[:3]\n",
    "first_ed_reprint = inventory[3:7]\n",
    "second_ed = inventory[6:16]\n",
    "third_ed = inventory[16:34]\n",
    "third_ed_reprint = inventory[34:52]\n",
    "fourth_ed = inventory[56:96]\n",
    "fifth_ed = inventory[96:116]\n",
    "sixth_ed = inventory[116:136]\n",
    "seventh_ed = inventory[152:172]\n",
    "eighth_ed = inventory[173:194]"
   ]
  },
  {
   "cell_type": "code",
   "execution_count": 9,
   "metadata": {
    "scrolled": true
   },
   "outputs": [
    {
     "data": {
      "text/plain": [
       "['Encyclopaedia Britannica; or, A dictionary of arts and sciences, compiled upon a new plan … - First edition, 1771, Volume 1, A-B - EB.1',\n",
       " 'Encyclopaedia Britannica; or, A dictionary of arts and sciences, compiled upon a new plan … - First edition, 1771, Volume 2, C-L - EB.1',\n",
       " 'Encyclopaedia Britannica; or, A dictionary of arts and sciences, compiled upon a new plan … - First edition, 1771, Volume 3, M-Z - EB.1']"
      ]
     },
     "execution_count": 9,
     "metadata": {},
     "output_type": "execute_result"
    }
   ],
   "source": [
    "list(first_ed['volume']) # list() to print whole text"
   ]
  },
  {
   "cell_type": "code",
   "execution_count": 5,
   "metadata": {},
   "outputs": [],
   "source": [
    "# doesn't include reprints \n",
    "all_editions = [first_ed, second_ed, third_ed, fourth_ed, fifth_ed, sixth_ed, seventh_ed, eighth_ed]"
   ]
  },
  {
   "cell_type": "code",
   "execution_count": 6,
   "metadata": {},
   "outputs": [],
   "source": [
    "# for testing\n",
    "two_editions = [first_ed, second_ed]"
   ]
  },
  {
   "cell_type": "markdown",
   "metadata": {},
   "source": [
    "## Basic statistics"
   ]
  },
  {
   "cell_type": "code",
   "execution_count": 10,
   "metadata": {},
   "outputs": [],
   "source": [
    "# Reading in text files and generate volume, length (in words and characters) counts\n",
    "\n",
    "def basic_data(editions):\n",
    "    \n",
    "    data = []\n",
    "    \n",
    "    for ed in editions: \n",
    "        length = 0\n",
    "        words = 0\n",
    "        volumes = 0\n",
    "\n",
    "        for index, row in ed.iterrows():\n",
    "            print(\"Reading: \" + row['file'])\n",
    "\n",
    "            f = open('text/' + row['file'], 'r', encoding=\"utf8\")\n",
    "            content = f.read()\n",
    "            content = clean_up(content)\n",
    "            length += len(content)\n",
    "            volumes += 1\n",
    "\n",
    "            words += len(content.split())\n",
    "\n",
    "            f.close()\n",
    "            \n",
    "        data.append([volumes, length, words])\n",
    "        data_df=pd.DataFrame(data,columns=['volumes', 'length_chars','length_words'])\n",
    "    return data_df"
   ]
  },
  {
   "cell_type": "code",
   "execution_count": 231,
   "metadata": {
    "scrolled": true
   },
   "outputs": [
    {
     "name": "stdout",
     "output_type": "stream",
     "text": [
      "Reading: 144133901.txt\n",
      "Reading: 144133902.txt\n",
      "Reading: 144133903.txt\n",
      "Reading: 144850370.txt\n",
      "Reading: 144850373.txt\n",
      "Reading: 144850374.txt\n",
      "Reading: 144850375.txt\n",
      "Reading: 144850376.txt\n",
      "Reading: 144850377.txt\n",
      "Reading: 144850378.txt\n",
      "Reading: 144850379.txt\n",
      "Reading: 190273289.txt\n",
      "Reading: 190273290.txt\n",
      "Reading: 190273291.txt\n",
      "Reading: 149977338.txt\n",
      "Reading: 149977873.txt\n",
      "Reading: 149978642.txt\n",
      "Reading: 149979156.txt\n",
      "Reading: 149979622.txt\n",
      "Reading: 149981189.txt\n",
      "Reading: 149981670.txt\n",
      "Reading: 149982181.txt\n",
      "Reading: 149982692.txt\n",
      "Reading: 149983206.txt\n",
      "Reading: 190273372.txt\n",
      "Reading: 191253798.txt\n",
      "Reading: 192200061.txt\n",
      "Reading: 191253799.txt\n",
      "Reading: 191319917.txt\n",
      "Reading: 191253800.txt\n",
      "Reading: 191253817.txt\n",
      "Reading: 191253818.txt\n",
      "Reading: 191253819.txt\n",
      "Reading: 192545783.txt\n",
      "Reading: 192545784.txt\n",
      "Reading: 191809865.txt\n",
      "Reading: 191809866.txt\n",
      "Reading: 191253825.txt\n",
      "Reading: 191253826.txt\n",
      "Reading: 191320556.txt\n",
      "Reading: 191320557.txt\n",
      "Reading: 192547776.txt\n",
      "Reading: 192547777.txt\n",
      "Reading: 192692191.txt\n",
      "Reading: 192692190.txt\n",
      "Reading: 191320560.txt\n",
      "Reading: 191320561.txt\n",
      "Reading: 193109110.txt\n",
      "Reading: 193109111.txt\n",
      "Reading: 192692192.txt\n",
      "Reading: 192692193.txt\n",
      "Reading: 191679019.txt\n",
      "Reading: 191679020.txt\n",
      "Reading: 192545785.txt\n",
      "Reading: 192545786.txt\n",
      "Reading: 191678902.txt\n",
      "Reading: 191678903.txt\n",
      "Reading: 191253838.txt\n",
      "Reading: 191253839.txt\n",
      "Reading: 191253836.txt\n",
      "Reading: 191253837.txt\n",
      "Reading: 191689060.txt\n",
      "Reading: 191689061.txt\n",
      "Reading: 191320559.txt\n",
      "Reading: 191320558.txt\n",
      "Reading: 192692194.txt\n",
      "Reading: 192692195.txt\n",
      "Reading: 193108316.txt\n",
      "Reading: 193108317.txt\n",
      "Reading: 191678900.txt\n",
      "Reading: 191678901.txt\n",
      "Reading: 192016229.txt\n",
      "Reading: 191689063.txt\n",
      "Reading: 193108318.txt\n",
      "Reading: 191679033.txt\n",
      "Reading: 192984254.txt\n",
      "Reading: 192984255.txt\n",
      "Reading: 191678897.txt\n",
      "Reading: 191678898.txt\n",
      "Reading: 193109108.txt\n",
      "Reading: 193109109.txt\n",
      "Reading: 192547785.txt\n",
      "Reading: 192200901.txt\n",
      "Reading: 192200898.txt\n",
      "Reading: 192200900.txt\n",
      "Reading: 192200897.txt\n",
      "Reading: 192692638.txt\n",
      "Reading: 191689062.txt\n",
      "Reading: 192984256.txt\n",
      "Reading: 192200899.txt\n",
      "Reading: 191678899.txt\n",
      "Reading: 192547781.txt\n",
      "Reading: 192015835.txt\n",
      "Reading: 193696080.txt\n",
      "Reading: 192200662.txt\n",
      "Reading: 192692756.txt\n",
      "Reading: 192200322.txt\n",
      "Reading: 192015838.txt\n",
      "Reading: 192015836.txt\n",
      "Reading: 192547782.txt\n",
      "Reading: 191679036.txt\n",
      "Reading: 192984257.txt\n",
      "Reading: 191689064.txt\n",
      "Reading: 192200323.txt\n",
      "Reading: 191689065.txt\n",
      "Reading: 192015837.txt\n",
      "Reading: 192547783.txt\n",
      "Reading: 192547784.txt\n",
      "Reading: 192015834.txt\n",
      "Reading: 193057497.txt\n",
      "Reading: 193696081.txt\n",
      "Reading: 192984259.txt\n",
      "Reading: 193057500.txt\n",
      "Reading: 193108322.txt\n",
      "Reading: 193696083.txt\n",
      "Reading: 193322690.txt\n",
      "Reading: 193819043.txt\n",
      "Reading: 193322688.txt\n",
      "Reading: 193696084.txt\n",
      "Reading: 193469090.txt\n",
      "Reading: 193638940.txt\n",
      "Reading: 192693199.txt\n",
      "Reading: 193108323.txt\n",
      "Reading: 193322689.txt\n",
      "Reading: 193819044.txt\n",
      "Reading: 194474782.txt\n",
      "Reading: 193469091.txt\n",
      "Reading: 193469092.txt\n",
      "Reading: 193057501.txt\n",
      "Reading: 193913444.txt\n",
      "Reading: 193819045.txt\n",
      "Reading: 192984260.txt\n",
      "Reading: 193322698.txt\n",
      "Reading: 193696085.txt\n",
      "Reading: 193696086.txt\n",
      "Reading: 193108324.txt\n",
      "Reading: 193109113.txt\n",
      "Reading: 193109114.txt\n",
      "Reading: 193108325.txt\n",
      "Reading: 193322700.txt\n",
      "Reading: 193109115.txt\n",
      "Reading: 193469392.txt\n",
      "Reading: 193696087.txt\n",
      "Reading: 193916150.txt\n",
      "Reading: 193696088.txt\n",
      "Reading: 193592632.txt\n",
      "Reading: 193322699.txt\n",
      "Reading: 193819046.txt\n",
      "Reading: 193108326.txt\n",
      "Reading: 193322701.txt\n",
      "Reading: 193469393.txt\n",
      "Reading: 193819047.txt\n"
     ]
    },
    {
     "data": {
      "text/html": [
       "<div>\n",
       "<style scoped>\n",
       "    .dataframe tbody tr th:only-of-type {\n",
       "        vertical-align: middle;\n",
       "    }\n",
       "\n",
       "    .dataframe tbody tr th {\n",
       "        vertical-align: top;\n",
       "    }\n",
       "\n",
       "    .dataframe thead th {\n",
       "        text-align: right;\n",
       "    }\n",
       "</style>\n",
       "<table border=\"1\" class=\"dataframe\">\n",
       "  <thead>\n",
       "    <tr style=\"text-align: right;\">\n",
       "      <th></th>\n",
       "      <th>volumes</th>\n",
       "      <th>length_chars</th>\n",
       "      <th>length_words</th>\n",
       "    </tr>\n",
       "  </thead>\n",
       "  <tbody>\n",
       "    <tr>\n",
       "      <th>0</th>\n",
       "      <td>3</td>\n",
       "      <td>14191040</td>\n",
       "      <td>2567260</td>\n",
       "    </tr>\n",
       "    <tr>\n",
       "      <th>1</th>\n",
       "      <td>10</td>\n",
       "      <td>56733498</td>\n",
       "      <td>10172846</td>\n",
       "    </tr>\n",
       "    <tr>\n",
       "      <th>2</th>\n",
       "      <td>18</td>\n",
       "      <td>96884019</td>\n",
       "      <td>17414509</td>\n",
       "    </tr>\n",
       "    <tr>\n",
       "      <th>3</th>\n",
       "      <td>40</td>\n",
       "      <td>103931985</td>\n",
       "      <td>18672098</td>\n",
       "    </tr>\n",
       "    <tr>\n",
       "      <th>4</th>\n",
       "      <td>20</td>\n",
       "      <td>103686840</td>\n",
       "      <td>18617826</td>\n",
       "    </tr>\n",
       "    <tr>\n",
       "      <th>5</th>\n",
       "      <td>20</td>\n",
       "      <td>103513075</td>\n",
       "      <td>18597305</td>\n",
       "    </tr>\n",
       "    <tr>\n",
       "      <th>6</th>\n",
       "      <td>20</td>\n",
       "      <td>119701529</td>\n",
       "      <td>21056156</td>\n",
       "    </tr>\n",
       "    <tr>\n",
       "      <th>7</th>\n",
       "      <td>21</td>\n",
       "      <td>131624089</td>\n",
       "      <td>22878318</td>\n",
       "    </tr>\n",
       "  </tbody>\n",
       "</table>\n",
       "</div>"
      ],
      "text/plain": [
       "   volumes  length_chars  length_words\n",
       "0        3      14191040       2567260\n",
       "1       10      56733498      10172846\n",
       "2       18      96884019      17414509\n",
       "3       40     103931985      18672098\n",
       "4       20     103686840      18617826\n",
       "5       20     103513075      18597305\n",
       "6       20     119701529      21056156\n",
       "7       21     131624089      22878318"
      ]
     },
     "execution_count": 231,
     "metadata": {},
     "output_type": "execute_result"
    }
   ],
   "source": [
    "basic_df = basic_data(all_editions)\n",
    "basic_df"
   ]
  },
  {
   "cell_type": "code",
   "execution_count": 234,
   "metadata": {},
   "outputs": [
    {
     "name": "stdout",
     "output_type": "stream",
     "text": [
      "   Unnamed: 0  volumes  length_chars  length_words\n",
      "0           0        3      14191040       2567260\n",
      "1           1       10      56733498      10172846\n",
      "2           2       18      96884019      17414509\n",
      "3           3       40     103931985      18672098\n",
      "4           4       20     103686840      18617826\n",
      "5           5       20     103513075      18597305\n",
      "6           6       20     119701529      21056156\n",
      "7           7       21     131624089      22878318\n"
     ]
    }
   ],
   "source": [
    "# testing saving & loading from CSV\n",
    "\n",
    "basic_df.to_csv('csv/basic_data.csv')\n",
    "basic_reimport = pd.read_csv('csv/basic_data.csv')\n",
    "print(basic_reimport) # edition 4 is actually 20 volumes because text files separate its volumes into part 1 & 2"
   ]
  },
  {
   "cell_type": "markdown",
   "metadata": {},
   "source": [
    "## Most referenced topics"
   ]
  },
  {
   "cell_type": "markdown",
   "metadata": {},
   "source": [
    "**Note:** the terms entries/headers/words are used interchangeably, they all refer to the `ENTRY` part of an `ENTRY, definition`. References are links to other parts of the Encyclopaedia in a definition, of the form `See TOPIC`."
   ]
  },
  {
   "cell_type": "markdown",
   "metadata": {},
   "source": [
    "### Helper functions"
   ]
  },
  {
   "cell_type": "markdown",
   "metadata": {},
   "source": [
    "#### For cleanup"
   ]
  },
  {
   "cell_type": "code",
   "execution_count": 57,
   "metadata": {},
   "outputs": [],
   "source": [
    "def replace_by(s, a, b):\n",
    "    \"\"\" perform a regex replacement, prints number of occurrences found and returns a string.\n",
    "    s: string to make changes in\n",
    "    a: string to remove \n",
    "    b: string to add\n",
    "    returns: a string\"\"\"\n",
    "    \n",
    "    # print(\"Replacing \\\"\" + a + \"\\\" by \\\"\" + b + \"\\\", found \" + str(len(re.findall(a, s))) + \"...\")\n",
    "    return re.sub(a, b, s)"
   ]
  },
  {
   "cell_type": "code",
   "execution_count": 58,
   "metadata": {},
   "outputs": [],
   "source": [
    "# Using regex cleanup ideas from: https://sites.temple.edu/tudsc/2014/08/12/text-scrubbing-hacks-cleaning-your-ocred-text/\n",
    "\n",
    "def clean_up(s):\n",
    "    \"\"\" Does a minimal cleanup of a string of text\n",
    "    returns: a string\n",
    "    \"\"\"\n",
    "    # print(\"Initial length: \" + str(len(s)))\n",
    "    s2 = replace_by(s, 'tbe', 'the')\n",
    "    s3 = replace_by(s2, 'tiie', 'the')\n",
    "    s4 = replace_by(s3, 'liis', 'his')\n",
    "    s5 = replace_by(s4, 'bis', 'his')\n",
    "    s6 = replace_by(s5, '■', '')\n",
    "    s7 = replace_by(s6, 'ib','in') # was noticed by Ava in .txt files\n",
    "    s8 = replace_by(s7, '¬','')\n",
    "    s9 = replace_by(s8, '.(\\.\\.+)', '') # multiple periods; what about ellipsis though?\n",
    "    # print(\"Clean up done!\")\n",
    "    return s9 # CAREFUL to always pass the right one to next, and return"
   ]
  },
  {
   "cell_type": "code",
   "execution_count": 59,
   "metadata": {},
   "outputs": [],
   "source": [
    "# This uses the list of header/definition/refs dataframes for each edition, and performs a basic cleanup\n",
    "\n",
    "def clean_up_definitions(editions):\n",
    "    editions_cleaned = []\n",
    "    for ed in editions:\n",
    "        # realistically, a definition can't be shorter than 5 letters (\"See x\" is itself 5 characters long)\n",
    "        ed = ed.loc[ed['def_length'] > 5]\n",
    "        # remove headers with two letters as they are likely noise\n",
    "        ed = ed.loc[ed['header_length'] > 2]\n",
    "        # remove headers longer than 40 characters, as these are likely noise\n",
    "        ed = ed.loc[ed['header_length'] < 40]\n",
    "        \n",
    "        # We might also want to drop header duplicates, as each entry should only be defined once\n",
    "        # A good portion of these duplicates are probably noise (such as annotations in roman numerals)\n",
    "        # We're not selecting the correct definition out of the duplicates here, just dropping them for the sake of simplicity\n",
    "        ed.drop_duplicates(subset =\"headers\", keep = False, inplace = True)\n",
    "        \n",
    "        editions_cleaned.append(ed)\n",
    "        \n",
    "    return editions_cleaned"
   ]
  },
  {
   "cell_type": "markdown",
   "metadata": {},
   "source": [
    "#### For extracting words and their definitions, and references (\"See x\")"
   ]
  },
  {
   "cell_type": "code",
   "execution_count": 60,
   "metadata": {},
   "outputs": [],
   "source": [
    "# Uses RegEx to identify the definition of a word as being the content between the uppercase word and the next uppercase word\n",
    "\n",
    "def find_definition(word, volume):\n",
    "    start = re.search(word, volume).start()\n",
    "    start_next = re.search(word, volume).end()\n",
    "    \n",
    "    second_word = re.search(\"[A-Z][A-Z]+\", volume[start_next:])\n",
    "    \n",
    "    if second_word: # checking that second capitalised word exists (prevents NoneType exception)\n",
    "        end = re.search(\"[A-Z][A-Z]+\", volume[start_next:]).start()\n",
    "        return volume[start_next+2:start_next+end] # +2 to ignore comma and space before a definition\n",
    "    else:\n",
    "        return \"\""
   ]
  },
  {
   "cell_type": "code",
   "execution_count": 61,
   "metadata": {},
   "outputs": [],
   "source": [
    "# Extracts entries (headers), their definitions, their respective lengths, and all references (\"See x\") from an edition\n",
    "\n",
    "def extract_info(edition):\n",
    "    \n",
    "    headers = []\n",
    "    definitions = []\n",
    "    refs = [] # for counting up all instances of \"See x\" in volumes  \n",
    "    \n",
    "    for index, row in edition.iterrows():\n",
    "        current_headers = []\n",
    "        \n",
    "        print(\"Reading: \" + row['file'])\n",
    "        f = open('text/' + row['file'], 'r', encoding=\"utf8\")\n",
    "        content = f.read()\n",
    "        content = clean_up(content)\n",
    "        \n",
    "        # using https://stackoverflow.com/questions/9525993/get-consecutive-capitalized-words-using-regex\n",
    "        # note: this ReGex is not entirely correct, as the first ReGex will select \"MARTIAL\" and \"LAW\" as separate entries\n",
    "        # (while the second one will add a correct entry for \"MARTIAL LAW\")\n",
    "        # \"MARTIAL\" will be cleaned out later due to having an empty definition, but \"LAW\" will not, leading to duplicates\n",
    "        \n",
    "        current_headers = re.findall('[A-Z][A-Z]+', content) # at least two uppercase letters following each other\n",
    "        current_headers += re.findall('([A-Z][A-Z]+(?=\\s[A-Z])(?:\\s[A-Z][A-Z]+)+)', content) # two or more uppercase words\n",
    "        refs += re.findall('See [^,\\.]*', content) # matches \"See x\" until a comma or a period\n",
    "        \n",
    "        for word in current_headers:\n",
    "            definitions.append(find_definition(word, content))\n",
    "            \n",
    "        headers = headers + current_headers\n",
    "        \n",
    "        f.close()\n",
    "\n",
    "    data = pd.DataFrame(headers, columns =['headers'])\n",
    "    data['definition'] = definitions\n",
    "    data['header_length']  = data['headers'].str.len()\n",
    "    data['def_length']  = data['definition'].str.len()\n",
    "    return data, refs"
   ]
  },
  {
   "cell_type": "code",
   "execution_count": 62,
   "metadata": {},
   "outputs": [],
   "source": [
    "# Generates a list of dataframes with words and their definitions for each edition\n",
    "\n",
    "def words_and_definitions(editions):\n",
    "    \n",
    "    all_edition_data = []\n",
    "    all_references = []\n",
    "    \n",
    "    for ed in editions:\n",
    "        edition_data, references = extract_info(ed)\n",
    "        all_edition_data.append(edition_data)\n",
    "        all_references.append(references)\n",
    "    return all_edition_data, all_references"
   ]
  },
  {
   "cell_type": "markdown",
   "metadata": {},
   "source": [
    "### Generating headers, definitions and references for all editions and saving to CSV"
   ]
  },
  {
   "cell_type": "code",
   "execution_count": 14,
   "metadata": {
    "scrolled": true
   },
   "outputs": [
    {
     "name": "stdout",
     "output_type": "stream",
     "text": [
      "Reading: 192984259.txt\n",
      "Reading: 193057500.txt\n",
      "Reading: 193108322.txt\n",
      "Reading: 193696083.txt\n",
      "Reading: 193322690.txt\n",
      "Reading: 193819043.txt\n",
      "Reading: 193322688.txt\n",
      "Reading: 193696084.txt\n",
      "Reading: 193469090.txt\n",
      "Reading: 193638940.txt\n",
      "Reading: 192693199.txt\n",
      "Reading: 193108323.txt\n",
      "Reading: 193322689.txt\n",
      "Reading: 193819044.txt\n",
      "Reading: 194474782.txt\n",
      "Reading: 193469091.txt\n",
      "Reading: 193469092.txt\n",
      "Reading: 193057501.txt\n",
      "Reading: 193913444.txt\n",
      "Reading: 193819045.txt\n",
      "Reading: 192984260.txt\n",
      "Reading: 193322698.txt\n",
      "Reading: 193696085.txt\n",
      "Reading: 193696086.txt\n",
      "Reading: 193108324.txt\n",
      "Reading: 193109113.txt\n",
      "Reading: 193109114.txt\n",
      "Reading: 193108325.txt\n",
      "Reading: 193322700.txt\n",
      "Reading: 193109115.txt\n",
      "Reading: 193469392.txt\n",
      "Reading: 193696087.txt\n",
      "Reading: 193916150.txt\n",
      "Reading: 193696088.txt\n",
      "Reading: 193592632.txt\n",
      "Reading: 193322699.txt\n",
      "Reading: 193819046.txt\n",
      "Reading: 193108326.txt\n",
      "Reading: 193322701.txt\n",
      "Reading: 193469393.txt\n",
      "Reading: 193819047.txt\n"
     ]
    }
   ],
   "source": [
    "# function takes in a list of editions and extracts the relevant data\n",
    "# here, we processed two editions at a time to perform the processing in chunks (it takes around a minute for each txt file)\n",
    "seventh_eighth_data, seventh_eighth_refs = words_and_definitions([seventh_ed, eighth_ed])"
   ]
  },
  {
   "cell_type": "code",
   "execution_count": 15,
   "metadata": {},
   "outputs": [
    {
     "data": {
      "text/html": [
       "<div>\n",
       "<style scoped>\n",
       "    .dataframe tbody tr th:only-of-type {\n",
       "        vertical-align: middle;\n",
       "    }\n",
       "\n",
       "    .dataframe tbody tr th {\n",
       "        vertical-align: top;\n",
       "    }\n",
       "\n",
       "    .dataframe thead th {\n",
       "        text-align: right;\n",
       "    }\n",
       "</style>\n",
       "<table border=\"1\" class=\"dataframe\">\n",
       "  <thead>\n",
       "    <tr style=\"text-align: right;\">\n",
       "      <th></th>\n",
       "      <th>headers</th>\n",
       "      <th>definition</th>\n",
       "      <th>header_length</th>\n",
       "      <th>def_length</th>\n",
       "    </tr>\n",
       "  </thead>\n",
       "  <tbody>\n",
       "    <tr>\n",
       "      <th>55</th>\n",
       "      <td>AAHUS</td>\n",
       "      <td>a little town of Germany, in the circle of\\nWe...</td>\n",
       "      <td>5</td>\n",
       "      <td>210</td>\n",
       "    </tr>\n",
       "    <tr>\n",
       "      <th>56</th>\n",
       "      <td>AALBORG</td>\n",
       "      <td>one of the four sees (stiffs) into which\\nthe ...</td>\n",
       "      <td>7</td>\n",
       "      <td>2275</td>\n",
       "    </tr>\n",
       "    <tr>\n",
       "      <th>58</th>\n",
       "      <td>AALEN</td>\n",
       "      <td>a bailiwick in the circle of Jaxt, in the king...</td>\n",
       "      <td>5</td>\n",
       "      <td>773</td>\n",
       "    </tr>\n",
       "    <tr>\n",
       "      <th>59</th>\n",
       "      <td>AALSMEER</td>\n",
       "      <td>a town in the arrondissement of Am\\nsterdam, i...</td>\n",
       "      <td>8</td>\n",
       "      <td>205</td>\n",
       "    </tr>\n",
       "    <tr>\n",
       "      <th>60</th>\n",
       "      <td>AALTEN</td>\n",
       "      <td>a town in the arrondissement of Zutphen,\\nand ...</td>\n",
       "      <td>6</td>\n",
       "      <td>119</td>\n",
       "    </tr>\n",
       "    <tr>\n",
       "      <th>...</th>\n",
       "      <td>...</td>\n",
       "      <td>...</td>\n",
       "      <td>...</td>\n",
       "      <td>...</td>\n",
       "    </tr>\n",
       "    <tr>\n",
       "      <th>123231</th>\n",
       "      <td>PLATE CCCCXCV</td>\n",
       "      <td>Fin. 17.\\n</td>\n",
       "      <td>13</td>\n",
       "      <td>9</td>\n",
       "    </tr>\n",
       "    <tr>\n",
       "      <th>123232</th>\n",
       "      <td>PLATE CCCCXCVH</td>\n",
       "      <td>4\\nn „ - .\\nI .\\nh\\n———\\n©</td>\n",
       "      <td>14</td>\n",
       "      <td>21</td>\n",
       "    </tr>\n",
       "    <tr>\n",
       "      <th>123233</th>\n",
       "      <td>OTMISIEM IPAIM\\nJPJLATE</td>\n",
       "      <td>cccxcix.\\nSf Bloomsbrn^\\n</td>\n",
       "      <td>22</td>\n",
       "      <td>23</td>\n",
       "    </tr>\n",
       "    <tr>\n",
       "      <th>123234</th>\n",
       "      <td>ZOOPHYTES\\nPLATE</td>\n",
       "      <td>)11.\\nAsatrLs hunbricoicUis.\\nTetjurhynckus Un...</td>\n",
       "      <td>15</td>\n",
       "      <td>216</td>\n",
       "    </tr>\n",
       "    <tr>\n",
       "      <th>123237</th>\n",
       "      <td>PLATE DIV</td>\n",
       "      <td>Holothuna papiUosa.\\nPhpscdus pelcujica.\\nHolo...</td>\n",
       "      <td>9</td>\n",
       "      <td>82</td>\n",
       "    </tr>\n",
       "  </tbody>\n",
       "</table>\n",
       "<p>24072 rows × 4 columns</p>\n",
       "</div>"
      ],
      "text/plain": [
       "                        headers  \\\n",
       "55                        AAHUS   \n",
       "56                      AALBORG   \n",
       "58                        AALEN   \n",
       "59                     AALSMEER   \n",
       "60                       AALTEN   \n",
       "...                         ...   \n",
       "123231            PLATE CCCCXCV   \n",
       "123232           PLATE CCCCXCVH   \n",
       "123233  OTMISIEM IPAIM\\nJPJLATE   \n",
       "123234         ZOOPHYTES\\nPLATE   \n",
       "123237                PLATE DIV   \n",
       "\n",
       "                                               definition  header_length  \\\n",
       "55      a little town of Germany, in the circle of\\nWe...              5   \n",
       "56      one of the four sees (stiffs) into which\\nthe ...              7   \n",
       "58      a bailiwick in the circle of Jaxt, in the king...              5   \n",
       "59      a town in the arrondissement of Am\\nsterdam, i...              8   \n",
       "60      a town in the arrondissement of Zutphen,\\nand ...              6   \n",
       "...                                                   ...            ...   \n",
       "123231                                         Fin. 17.\\n             13   \n",
       "123232                         4\\nn „ - .\\nI .\\nh\\n———\\n©             14   \n",
       "123233                          cccxcix.\\nSf Bloomsbrn^\\n             22   \n",
       "123234  )11.\\nAsatrLs hunbricoicUis.\\nTetjurhynckus Un...             15   \n",
       "123237  Holothuna papiUosa.\\nPhpscdus pelcujica.\\nHolo...              9   \n",
       "\n",
       "        def_length  \n",
       "55             210  \n",
       "56            2275  \n",
       "58             773  \n",
       "59             205  \n",
       "60             119  \n",
       "...            ...  \n",
       "123231           9  \n",
       "123232          21  \n",
       "123233          23  \n",
       "123234         216  \n",
       "123237          82  \n",
       "\n",
       "[24072 rows x 4 columns]"
      ]
     },
     "execution_count": 15,
     "metadata": {},
     "output_type": "execute_result"
    }
   ],
   "source": [
    "seventh_eighth_cleaned = clean_up_definitions(seventh_eighth_data)\n",
    "seventh_eighth_cleaned[0]"
   ]
  },
  {
   "cell_type": "code",
   "execution_count": 16,
   "metadata": {},
   "outputs": [],
   "source": [
    "# save the two dataframes to CSV\n",
    "\n",
    "seventh_eighth_cleaned[0].to_csv('csv/seventh_ed_data.csv')\n",
    "seventh_eighth_cleaned[1].to_csv('csv/eighth_ed_data.csv')"
   ]
  },
  {
   "cell_type": "code",
   "execution_count": 63,
   "metadata": {},
   "outputs": [],
   "source": [
    "# Generates a cleaned dataframe with counts of references, from the list of all references picked up in each edition\n",
    "\n",
    "def generate_ref_counts(refs):\n",
    "    \n",
    "    all_ref_counts = []\n",
    "    \n",
    "    for ref in refs:\n",
    "        # Converting unique counts to a DataFrame for easy visualisation\n",
    "        ref_df = pd.DataFrame(ref)\n",
    "        ref_counts = ref_df[0].value_counts()\n",
    "        ref_counts = pd.DataFrame(ref_counts)\n",
    "        ref_counts['references'] = ref_counts.index\n",
    "        ref_counts.columns = ['count', 'references']\n",
    "#         ref_counts = ref_counts.reset_index(True)\n",
    "\n",
    "        # cleaning ref counts (removing non-topics such as \"See the next article\")\n",
    "        ref_counts = ref_counts.loc[ref_counts['references'] != \"See the next article\"]\n",
    "        ref_counts = ref_counts.loc[ref_counts['references'] != \"See there\"]\n",
    "        ref_counts = ref_counts.loc[ref_counts['references'] != \"See thefe articles\"]\n",
    "        ref_counts = ref_counts.loc[ref_counts['references'] != \"See these articles\"]\n",
    "        ref_counts = ref_counts.loc[ref_counts['references'] != \"See Vol\"]\n",
    "        ref_counts = ref_counts.loc[ref_counts['references'] != \"See p\"]\n",
    "        ref_counts = ref_counts.loc[ref_counts['references'] != \"See fig\"]\n",
    "        ref_counts = ref_counts.loc[ref_counts['references'] != \"See that article\"]\n",
    "        ref_counts = ref_counts.loc[ref_counts['references'] != \"See the preceding article\"]\n",
    "        ref_counts = ref_counts.loc[ref_counts['references'] != \"See Supplement\"]\n",
    "        ref_counts = ref_counts.loc[ref_counts['references'] != \"See SUPPLEMENT\"]\n",
    "        ref_counts = ref_counts.loc[~ref_counts['references'].str.contains(\"Plate\")]\n",
    "        ref_counts = ref_counts.loc[~ref_counts['references'].str.contains(\"plate\")]\n",
    "        ref_counts = ref_counts.loc[~ref_counts['references'].str.contains(\"Index\")]\n",
    "        ref_counts = ref_counts.loc[~ref_counts['references'].str.contains(\"In\\ndex\")]\n",
    "        ref_counts = ref_counts.loc[~ref_counts['references'].str.contains(\"index\")]\n",
    "        \n",
    "        # Change formatting to not have \"See\" in topic name\n",
    "        ref_counts['references'] = ref_counts['references'].str.replace(r'See ', '')\n",
    "        \n",
    "        all_ref_counts.append(ref_counts)\n",
    "    \n",
    "        \n",
    "    \n",
    "    return all_ref_counts"
   ]
  },
  {
   "cell_type": "code",
   "execution_count": 24,
   "metadata": {
    "scrolled": true
   },
   "outputs": [
    {
     "data": {
      "text/html": [
       "<div>\n",
       "<style scoped>\n",
       "    .dataframe tbody tr th:only-of-type {\n",
       "        vertical-align: middle;\n",
       "    }\n",
       "\n",
       "    .dataframe tbody tr th {\n",
       "        vertical-align: top;\n",
       "    }\n",
       "\n",
       "    .dataframe thead th {\n",
       "        text-align: right;\n",
       "    }\n",
       "</style>\n",
       "<table border=\"1\" class=\"dataframe\">\n",
       "  <thead>\n",
       "    <tr style=\"text-align: right;\">\n",
       "      <th></th>\n",
       "      <th>count</th>\n",
       "      <th>references</th>\n",
       "    </tr>\n",
       "  </thead>\n",
       "  <tbody>\n",
       "    <tr>\n",
       "      <th>See Ornithology</th>\n",
       "      <td>43</td>\n",
       "      <td>Ornithology</td>\n",
       "    </tr>\n",
       "    <tr>\n",
       "      <th>See Mammalia</th>\n",
       "      <td>35</td>\n",
       "      <td>Mammalia</td>\n",
       "    </tr>\n",
       "    <tr>\n",
       "      <th>See Music</th>\n",
       "      <td>31</td>\n",
       "      <td>Music</td>\n",
       "    </tr>\n",
       "    <tr>\n",
       "      <th>See Metaphysics</th>\n",
       "      <td>27</td>\n",
       "      <td>Metaphysics</td>\n",
       "    </tr>\n",
       "    <tr>\n",
       "      <th>See Anatomy</th>\n",
       "      <td>26</td>\n",
       "      <td>Anatomy</td>\n",
       "    </tr>\n",
       "    <tr>\n",
       "      <th>...</th>\n",
       "      <td>...</td>\n",
       "      <td>...</td>\n",
       "    </tr>\n",
       "    <tr>\n",
       "      <th>See Chemist^\\nZINZENDORF</th>\n",
       "      <td>1</td>\n",
       "      <td>Chemist^\\nZINZENDORF</td>\n",
       "    </tr>\n",
       "    <tr>\n",
       "      <th>See the article Arabia</th>\n",
       "      <td>1</td>\n",
       "      <td>the article Arabia</td>\n",
       "    </tr>\n",
       "    <tr>\n",
       "      <th>See Hales’\\nChronology</th>\n",
       "      <td>1</td>\n",
       "      <td>Hales’\\nChronology</td>\n",
       "    </tr>\n",
       "    <tr>\n",
       "      <th>See the I ransia\\ntion of Bayle’s Dictionary</th>\n",
       "      <td>1</td>\n",
       "      <td>the I ransia\\ntion of Bayle’s Dictionary</td>\n",
       "    </tr>\n",
       "    <tr>\n",
       "      <th>See Saxii Onomasticon ; Biographic Universelle;\\nGesner’s Isagoge</th>\n",
       "      <td>1</td>\n",
       "      <td>Saxii Onomasticon ; Biographic Universelle;\\nG...</td>\n",
       "    </tr>\n",
       "  </tbody>\n",
       "</table>\n",
       "<p>2657 rows × 2 columns</p>\n",
       "</div>"
      ],
      "text/plain": [
       "                                                    count  \\\n",
       "See Ornithology                                        43   \n",
       "See Mammalia                                           35   \n",
       "See Music                                              31   \n",
       "See Metaphysics                                        27   \n",
       "See Anatomy                                            26   \n",
       "...                                                   ...   \n",
       "See Chemist^\\nZINZENDORF                                1   \n",
       "See the article Arabia                                  1   \n",
       "See Hales’\\nChronology                                  1   \n",
       "See the I ransia\\ntion of Bayle’s Dictionary            1   \n",
       "See Saxii Onomasticon ; Biographic Universelle;...      1   \n",
       "\n",
       "                                                                                           references  \n",
       "See Ornithology                                                                           Ornithology  \n",
       "See Mammalia                                                                                 Mammalia  \n",
       "See Music                                                                                       Music  \n",
       "See Metaphysics                                                                           Metaphysics  \n",
       "See Anatomy                                                                                   Anatomy  \n",
       "...                                                                                               ...  \n",
       "See Chemist^\\nZINZENDORF                                                         Chemist^\\nZINZENDORF  \n",
       "See the article Arabia                                                             the article Arabia  \n",
       "See Hales’\\nChronology                                                             Hales’\\nChronology  \n",
       "See the I ransia\\ntion of Bayle’s Dictionary                 the I ransia\\ntion of Bayle’s Dictionary  \n",
       "See Saxii Onomasticon ; Biographic Universelle;...  Saxii Onomasticon ; Biographic Universelle;\\nG...  \n",
       "\n",
       "[2657 rows x 2 columns]"
      ]
     },
     "execution_count": 24,
     "metadata": {},
     "output_type": "execute_result"
    }
   ],
   "source": [
    "seventh_eighth_refs_counts = generate_ref_counts(seventh_eighth_refs)\n",
    "seventh_eighth_refs_counts[0]"
   ]
  },
  {
   "cell_type": "code",
   "execution_count": 25,
   "metadata": {},
   "outputs": [],
   "source": [
    "seventh_eighth_refs_counts[0].to_csv('csv/seventh_ed_refs.csv')\n",
    "seventh_eighth_refs_counts[1].to_csv('csv/eighth_ed_refs.csv')"
   ]
  },
  {
   "cell_type": "markdown",
   "metadata": {},
   "source": [
    "#### Example of manual cleaning"
   ]
  },
  {
   "cell_type": "code",
   "execution_count": null,
   "metadata": {},
   "outputs": [],
   "source": [
    "# seventh edition had \"the article Optics\" references in addition to Optics\n",
    "# this code checks the counts, manually updates the ones for Optics, and removes \"the article Optics\" entry"
   ]
  },
  {
   "cell_type": "code",
   "execution_count": 55,
   "metadata": {},
   "outputs": [
    {
     "data": {
      "text/html": [
       "<div>\n",
       "<style scoped>\n",
       "    .dataframe tbody tr th:only-of-type {\n",
       "        vertical-align: middle;\n",
       "    }\n",
       "\n",
       "    .dataframe tbody tr th {\n",
       "        vertical-align: top;\n",
       "    }\n",
       "\n",
       "    .dataframe thead th {\n",
       "        text-align: right;\n",
       "    }\n",
       "</style>\n",
       "<table border=\"1\" class=\"dataframe\">\n",
       "  <thead>\n",
       "    <tr style=\"text-align: right;\">\n",
       "      <th></th>\n",
       "      <th>Unnamed: 0</th>\n",
       "      <th>count</th>\n",
       "      <th>references</th>\n",
       "    </tr>\n",
       "  </thead>\n",
       "  <tbody>\n",
       "    <tr>\n",
       "      <th>17</th>\n",
       "      <td>See Optics</td>\n",
       "      <td>23</td>\n",
       "      <td>Optics</td>\n",
       "    </tr>\n",
       "  </tbody>\n",
       "</table>\n",
       "</div>"
      ],
      "text/plain": [
       "    Unnamed: 0  count references\n",
       "17  See Optics     23     Optics"
      ]
     },
     "execution_count": 55,
     "metadata": {},
     "output_type": "execute_result"
    }
   ],
   "source": [
    "# check counts\n",
    "# seventh_eighth_refs_counts[0].loc[seventh_eighth_refs_counts[0].references == \"the article Optics\"]\n",
    "seventh_eighth_refs_counts[0].loc[seventh_eighth_refs_counts[0].references == \"Optics\"]"
   ]
  },
  {
   "cell_type": "code",
   "execution_count": 54,
   "metadata": {},
   "outputs": [],
   "source": [
    "# add counts\n",
    "seventh_eighth_refs_counts[0].loc[seventh_eighth_refs_counts[0].references == \"Optics\", \"count\"] = 11 + 12"
   ]
  },
  {
   "cell_type": "code",
   "execution_count": 56,
   "metadata": {},
   "outputs": [],
   "source": [
    "# remove \"the article Optics\" entry\n",
    "seventh_eighth_refs_counts[0] = seventh_eighth_refs_counts[0].loc[seventh_eighth_refs_counts[0].references != \"the article Optics\"]"
   ]
  },
  {
   "cell_type": "code",
   "execution_count": 62,
   "metadata": {},
   "outputs": [],
   "source": [
    "# re-sort the dataframe, as updated entry might be at a different position in popularity\n",
    "seventh_eighth_refs_counts[0] = seventh_eighth_refs_counts[0].sort_values(by=['count'], ascending=False)"
   ]
  },
  {
   "cell_type": "code",
   "execution_count": 58,
   "metadata": {},
   "outputs": [],
   "source": [
    "# save to CSV\n",
    "seventh_eighth_refs_counts[0].to_csv('csv/seventh_ed_refs_fixed.csv')"
   ]
  },
  {
   "cell_type": "code",
   "execution_count": 32,
   "metadata": {},
   "outputs": [
    {
     "data": {
      "text/plain": [
       "<seaborn.axisgrid.FacetGrid at 0x1a65f490>"
      ]
     },
     "execution_count": 32,
     "metadata": {},
     "output_type": "execute_result"
    },
    {
     "data": {
      "image/png": "[encoded data removed]",
      "text/plain": [
       "<Figure size 1440x720 with 1 Axes>"
      ]
     },
     "metadata": {},
     "output_type": "display_data"
    }
   ],
   "source": [
    "# visualise top 20\n",
    "\n",
    "sns.set(font_scale=1.5)\n",
    "sns.set_style(\"whitegrid\")\n",
    "ax = sns.catplot(x='count', y='references', data=seventh_eighth_refs_counts[0].head(20), kind='bar', height=10, aspect=2, color=\"#cfbd93\")\n",
    "ax.fig.suptitle(\"Top 20 most referenced topics in seventh edition\", y=1)\n",
    "ax.set_axis_labels('counts of references', 'topic')"
   ]
  },
  {
   "cell_type": "markdown",
   "metadata": {},
   "source": [
    "### Overall number of references in each edition"
   ]
  },
  {
   "cell_type": "code",
   "execution_count": 28,
   "metadata": {},
   "outputs": [
    {
     "data": {
      "text/plain": [
       "8"
      ]
     },
     "execution_count": 28,
     "metadata": {},
     "output_type": "execute_result"
    }
   ],
   "source": [
    "# load in references from CSV\n",
    "\n",
    "references = []\n",
    "references.append(pd.read_csv('csv/first_ed_refs.csv'))\n",
    "references.append(pd.read_csv('csv/second_ed_refs.csv'))\n",
    "references.append(pd.read_csv('csv/third_ed_refs.csv'))\n",
    "references.append(pd.read_csv('csv/fourth_ed_refs.csv'))\n",
    "references.append(pd.read_csv('csv/fifth_ed_refs.csv'))\n",
    "references.append(pd.read_csv('csv/sixth_ed_refs.csv'))\n",
    "references.append(pd.read_csv('csv/seventh_ed_refs_fixed_2.csv'))\n",
    "references.append(pd.read_csv('csv/eighth_ed_refs.csv'))\n",
    "len(references)"
   ]
  },
  {
   "cell_type": "code",
   "execution_count": 29,
   "metadata": {},
   "outputs": [
    {
     "data": {
      "text/plain": [
       "[4909, 7020, 9363, 8811, 8687, 8895, 3489, 6032]"
      ]
     },
     "execution_count": 29,
     "metadata": {},
     "output_type": "execute_result"
    }
   ],
   "source": [
    "# calculate sum of references for each edition\n",
    "\n",
    "sum_refs = []\n",
    "for refs in references:\n",
    "    sum_refs.append(refs['count'].sum())\n",
    "sum_refs"
   ]
  },
  {
   "cell_type": "code",
   "execution_count": 30,
   "metadata": {},
   "outputs": [
    {
     "data": {
      "text/plain": [
       "Text(0, 0.5, 'counts of references')"
      ]
     },
     "execution_count": 30,
     "metadata": {},
     "output_type": "execute_result"
    },
    {
     "data": {
      "image/png": "[encoded data removed]",
      "text/plain": [
       "<Figure size 432x288 with 1 Axes>"
      ]
     },
     "metadata": {},
     "output_type": "display_data"
    }
   ],
   "source": [
    "# visualise sums\n",
    "\n",
    "# dip might be due to a change in format?\n",
    "# more longform articles, with content within, rather than entries with references to main topic?\n",
    "\n",
    "ed_count = list(range(1, 9))\n",
    "sns.set_style(\"whitegrid\")\n",
    "ax = sns.barplot(x= ed_count, y=sum_refs, color=\"#cfbd93\")\n",
    "ax.set_title('Total number of references in each edition', fontsize=16)\n",
    "ax.set_xlabel('editions', fontsize=14)\n",
    "ax.set_ylabel('counts of references', fontsize=14)"
   ]
  },
  {
   "cell_type": "markdown",
   "metadata": {},
   "source": [
    "### One of the longest words in each edition"
   ]
  },
  {
   "cell_type": "code",
   "execution_count": 33,
   "metadata": {},
   "outputs": [
    {
     "data": {
      "text/plain": [
       "8"
      ]
     },
     "execution_count": 33,
     "metadata": {},
     "output_type": "execute_result"
    }
   ],
   "source": [
    "# load in headers for each edition\n",
    "\n",
    "headers = []\n",
    "headers.append(pd.read_csv('csv/first_ed_data.csv'))\n",
    "headers.append(pd.read_csv('csv/second_ed_data.csv'))\n",
    "headers.append(pd.read_csv('csv/third_ed_data.csv'))\n",
    "headers.append(pd.read_csv('csv/fourth_ed_data.csv'))\n",
    "headers.append(pd.read_csv('csv/fifth_ed_data.csv'))\n",
    "headers.append(pd.read_csv('csv/sixth_ed_data.csv'))\n",
    "headers.append(pd.read_csv('csv/seventh_ed_data.csv'))\n",
    "headers.append(pd.read_csv('csv/eighth_ed_data.csv'))\n",
    "len(headers)"
   ]
  },
  {
   "cell_type": "code",
   "execution_count": 41,
   "metadata": {},
   "outputs": [],
   "source": [
    "# this is mostly manual inspection, as the longest headers are often errors\n",
    "# selected not necessarily the longest valid word, but one of the longest ones that has a more readable/identifiable description"
   ]
  },
  {
   "cell_type": "code",
   "execution_count": 84,
   "metadata": {},
   "outputs": [
    {
     "data": {
      "text/html": [
       "<div>\n",
       "<style scoped>\n",
       "    .dataframe tbody tr th:only-of-type {\n",
       "        vertical-align: middle;\n",
       "    }\n",
       "\n",
       "    .dataframe tbody tr th {\n",
       "        vertical-align: top;\n",
       "    }\n",
       "\n",
       "    .dataframe thead th {\n",
       "        text-align: right;\n",
       "    }\n",
       "</style>\n",
       "<table border=\"1\" class=\"dataframe\">\n",
       "  <thead>\n",
       "    <tr style=\"text-align: right;\">\n",
       "      <th></th>\n",
       "      <th>Unnamed: 0</th>\n",
       "      <th>headers</th>\n",
       "      <th>definition</th>\n",
       "      <th>header_length</th>\n",
       "      <th>def_length</th>\n",
       "    </tr>\n",
       "  </thead>\n",
       "  <tbody>\n",
       "    <tr>\n",
       "      <th>4419</th>\n",
       "      <td>7779</td>\n",
       "      <td>EXTENSOR MINIMI DIGITI PROPRIUS</td>\n",
       "      <td>This is a kind of collateral or auxiliary mufc...</td>\n",
       "      <td>31</td>\n",
       "      <td>383</td>\n",
       "    </tr>\n",
       "    <tr>\n",
       "      <th>4483</th>\n",
       "      <td>7861</td>\n",
       "      <td>THE PARTS OF GENERATION IN\\nMALES</td>\n",
       "      <td>The fpermatic arteries go out moft commonly fr...</td>\n",
       "      <td>32</td>\n",
       "      <td>4066</td>\n",
       "    </tr>\n",
       "    <tr>\n",
       "      <th>15803</th>\n",
       "      <td>29601</td>\n",
       "      <td>ENCYCLOPAEDIA BRITANNICA\\nVOLUME</td>\n",
       "      <td>he T H I R D,\\nEncyclopaedia Britannica;\\nO R,...</td>\n",
       "      <td>31</td>\n",
       "      <td>47</td>\n",
       "    </tr>\n",
       "  </tbody>\n",
       "</table>\n",
       "</div>"
      ],
      "text/plain": [
       "       Unnamed: 0                            headers  \\\n",
       "4419         7779    EXTENSOR MINIMI DIGITI PROPRIUS   \n",
       "4483         7861  THE PARTS OF GENERATION IN\\nMALES   \n",
       "15803       29601   ENCYCLOPAEDIA BRITANNICA\\nVOLUME   \n",
       "\n",
       "                                              definition  header_length  \\\n",
       "4419   This is a kind of collateral or auxiliary mufc...             31   \n",
       "4483   The fpermatic arteries go out moft commonly fr...             32   \n",
       "15803  he T H I R D,\\nEncyclopaedia Britannica;\\nO R,...             31   \n",
       "\n",
       "       def_length  \n",
       "4419          383  \n",
       "4483         4066  \n",
       "15803          47  "
      ]
     },
     "execution_count": 84,
     "metadata": {},
     "output_type": "execute_result"
    }
   ],
   "source": [
    "headers[0].loc[headers[0]['header_length'] > 30]"
   ]
  },
  {
   "cell_type": "code",
   "execution_count": 85,
   "metadata": {},
   "outputs": [
    {
     "data": {
      "text/plain": [
       "'This is a kind of collateral or auxiliary mufcle of the extenfor communis, of which it appears almoit al ways to be more or lefs a portion. It is fixed along the fuperior external half of the ul na, from whence its long fmall tendon runs down in company with the fourth tendon of the extenfor commu nis, all the way to the little finger, where it joins it, and is infer ted with it. '"
      ]
     },
     "execution_count": 85,
     "metadata": {},
     "output_type": "execute_result"
    }
   ],
   "source": [
    "re.sub(\"\\n\", \" \", headers[0].iloc[4419].definition) # remove \\n for simpler formatting"
   ]
  },
  {
   "cell_type": "markdown",
   "metadata": {},
   "source": [
    "### Words that reference a specific topic"
   ]
  },
  {
   "cell_type": "code",
   "execution_count": 13,
   "metadata": {},
   "outputs": [],
   "source": [
    "# again, requires manual inspection of what definitions are not just references to the main article\n",
    "# as well as having concise and fairly clean, interesting defs"
   ]
  },
  {
   "cell_type": "code",
   "execution_count": 21,
   "metadata": {},
   "outputs": [
    {
     "data": {
      "text/html": [
       "<div>\n",
       "<style scoped>\n",
       "    .dataframe tbody tr th:only-of-type {\n",
       "        vertical-align: middle;\n",
       "    }\n",
       "\n",
       "    .dataframe tbody tr th {\n",
       "        vertical-align: top;\n",
       "    }\n",
       "\n",
       "    .dataframe thead th {\n",
       "        text-align: right;\n",
       "    }\n",
       "</style>\n",
       "<table border=\"1\" class=\"dataframe\">\n",
       "  <thead>\n",
       "    <tr style=\"text-align: right;\">\n",
       "      <th></th>\n",
       "      <th>Unnamed: 0</th>\n",
       "      <th>headers</th>\n",
       "      <th>definition</th>\n",
       "      <th>header_length</th>\n",
       "      <th>def_length</th>\n",
       "    </tr>\n",
       "  </thead>\n",
       "  <tbody>\n",
       "    <tr>\n",
       "      <th>10870</th>\n",
       "      <td>20411</td>\n",
       "      <td>TALS</td>\n",
       "      <td>in natural biftory, are defined to be foffile\\...</td>\n",
       "      <td>4</td>\n",
       "      <td>180</td>\n",
       "    </tr>\n",
       "    <tr>\n",
       "      <th>10967</th>\n",
       "      <td>20831</td>\n",
       "      <td>MINIUM</td>\n",
       "      <td>or red-lead. See Chemistry, p. 84.\\nand 136.\\n</td>\n",
       "      <td>6</td>\n",
       "      <td>44</td>\n",
       "    </tr>\n",
       "    <tr>\n",
       "      <th>10998</th>\n",
       "      <td>20871</td>\n",
       "      <td>MIXTURE</td>\n",
       "      <td>a compound, or affemblage of feveral dif\\nfere...</td>\n",
       "      <td>7</td>\n",
       "      <td>88</td>\n",
       "    </tr>\n",
       "    <tr>\n",
       "      <th>11149</th>\n",
       "      <td>21172</td>\n",
       "      <td>MUFFLE</td>\n",
       "      <td>in Chemittry. See Chemistry, p. 109.\\n</td>\n",
       "      <td>6</td>\n",
       "      <td>37</td>\n",
       "    </tr>\n",
       "    <tr>\n",
       "      <th>11462</th>\n",
       "      <td>22446</td>\n",
       "      <td>NOCTILUCA</td>\n",
       "      <td>a fpecies of phofphorus, fo called be-\\ncaufe ...</td>\n",
       "      <td>9</td>\n",
       "      <td>170</td>\n",
       "    </tr>\n",
       "    <tr>\n",
       "      <th>12501</th>\n",
       "      <td>24221</td>\n",
       "      <td>PLUMBUM</td>\n",
       "      <td>lead See Chemistry, p. 84.\\nPlume, in botany S...</td>\n",
       "      <td>7</td>\n",
       "      <td>68</td>\n",
       "    </tr>\n",
       "    <tr>\n",
       "      <th>12657</th>\n",
       "      <td>24520</td>\n",
       "      <td>PRECIPITANT</td>\n",
       "      <td>in chemiftry, is applied to any liquor,\\nwhich...</td>\n",
       "      <td>11</td>\n",
       "      <td>364</td>\n",
       "    </tr>\n",
       "    <tr>\n",
       "      <th>12895</th>\n",
       "      <td>24816</td>\n",
       "      <td>PYROTECHNY</td>\n",
       "      <td>the art of fire, or afcience which teaches\\nth...</td>\n",
       "      <td>10</td>\n",
       "      <td>121</td>\n",
       "    </tr>\n",
       "    <tr>\n",
       "      <th>12928</th>\n",
       "      <td>24862</td>\n",
       "      <td>QUARTATION</td>\n",
       "      <td>a method of purifying gold by melting\\nthree p...</td>\n",
       "      <td>10</td>\n",
       "      <td>149</td>\n",
       "    </tr>\n",
       "    <tr>\n",
       "      <th>12944</th>\n",
       "      <td>24881</td>\n",
       "      <td>QUINQUATRIA</td>\n",
       "      <td>in Roman antiquity, feftivals celebra-\\nyoung ...</td>\n",
       "      <td>11</td>\n",
       "      <td>249</td>\n",
       "    </tr>\n",
       "    <tr>\n",
       "      <th>13103</th>\n",
       "      <td>25096</td>\n",
       "      <td>REFINING</td>\n",
       "      <td>in general, is the art of purifying a thing;\\n...</td>\n",
       "      <td>8</td>\n",
       "      <td>207</td>\n",
       "    </tr>\n",
       "    <tr>\n",
       "      <th>13201</th>\n",
       "      <td>25336</td>\n",
       "      <td>RESOLUTION</td>\n",
       "      <td>in chemiHry, &amp;c. the reduftion of a\\nmixed bod...</td>\n",
       "      <td>10</td>\n",
       "      <td>448</td>\n",
       "    </tr>\n",
       "    <tr>\n",
       "      <th>13236</th>\n",
       "      <td>25381</td>\n",
       "      <td>RETORT</td>\n",
       "      <td>in cbemiftry. See Chemistry, p. 110.\\n</td>\n",
       "      <td>6</td>\n",
       "      <td>37</td>\n",
       "    </tr>\n",
       "    <tr>\n",
       "      <th>13583</th>\n",
       "      <td>25840</td>\n",
       "      <td>SATURN</td>\n",
       "      <td>in aftronomy. See Astronomy, p. 442.\\nSaturn,\\...</td>\n",
       "      <td>6</td>\n",
       "      <td>247</td>\n",
       "    </tr>\n",
       "    <tr>\n",
       "      <th>14040</th>\n",
       "      <td>26672</td>\n",
       "      <td>SMALT</td>\n",
       "      <td>a preparation of arfenic. See Chemistry, p;\\n1...</td>\n",
       "      <td>5</td>\n",
       "      <td>49</td>\n",
       "    </tr>\n",
       "    <tr>\n",
       "      <th>14064</th>\n",
       "      <td>26726</td>\n",
       "      <td>SOAP</td>\n",
       "      <td>a kind of pafte, fometimes hard and dry, and\\n...</td>\n",
       "      <td>4</td>\n",
       "      <td>1139</td>\n",
       "    </tr>\n",
       "    <tr>\n",
       "      <th>14107</th>\n",
       "      <td>26780</td>\n",
       "      <td>SOLUTION</td>\n",
       "      <td>in chemiHry, &amp;c. the reduftion of a\\nmixed bod...</td>\n",
       "      <td>8</td>\n",
       "      <td>448</td>\n",
       "    </tr>\n",
       "    <tr>\n",
       "      <th>14354</th>\n",
       "      <td>27089</td>\n",
       "      <td>STIBIUM</td>\n",
       "      <td>or Antimony. See Chemistry, p. 87, 139.\\n</td>\n",
       "      <td>7</td>\n",
       "      <td>40</td>\n",
       "    </tr>\n",
       "    <tr>\n",
       "      <th>15361</th>\n",
       "      <td>29001</td>\n",
       "      <td>VITRIOL</td>\n",
       "      <td>a compound body formed of the particles of\\nme...</td>\n",
       "      <td>7</td>\n",
       "      <td>313</td>\n",
       "    </tr>\n",
       "    <tr>\n",
       "      <th>15426</th>\n",
       "      <td>29080</td>\n",
       "      <td>VOLATILE</td>\n",
       "      <td>in phyfics, is commonly ufed to denotea\\nmixed...</td>\n",
       "      <td>8</td>\n",
       "      <td>265</td>\n",
       "    </tr>\n",
       "  </tbody>\n",
       "</table>\n",
       "</div>"
      ],
      "text/plain": [
       "       Unnamed: 0      headers  \\\n",
       "10870       20411         TALS   \n",
       "10967       20831       MINIUM   \n",
       "10998       20871      MIXTURE   \n",
       "11149       21172       MUFFLE   \n",
       "11462       22446    NOCTILUCA   \n",
       "12501       24221      PLUMBUM   \n",
       "12657       24520  PRECIPITANT   \n",
       "12895       24816   PYROTECHNY   \n",
       "12928       24862   QUARTATION   \n",
       "12944       24881  QUINQUATRIA   \n",
       "13103       25096     REFINING   \n",
       "13201       25336   RESOLUTION   \n",
       "13236       25381       RETORT   \n",
       "13583       25840       SATURN   \n",
       "14040       26672        SMALT   \n",
       "14064       26726         SOAP   \n",
       "14107       26780     SOLUTION   \n",
       "14354       27089      STIBIUM   \n",
       "15361       29001      VITRIOL   \n",
       "15426       29080     VOLATILE   \n",
       "\n",
       "                                              definition  header_length  \\\n",
       "10870  in natural biftory, are defined to be foffile\\...              4   \n",
       "10967     or red-lead. See Chemistry, p. 84.\\nand 136.\\n              6   \n",
       "10998  a compound, or affemblage of feveral dif\\nfere...              7   \n",
       "11149             in Chemittry. See Chemistry, p. 109.\\n              6   \n",
       "11462  a fpecies of phofphorus, fo called be-\\ncaufe ...              9   \n",
       "12501  lead See Chemistry, p. 84.\\nPlume, in botany S...              7   \n",
       "12657  in chemiftry, is applied to any liquor,\\nwhich...             11   \n",
       "12895  the art of fire, or afcience which teaches\\nth...             10   \n",
       "12928  a method of purifying gold by melting\\nthree p...             10   \n",
       "12944  in Roman antiquity, feftivals celebra-\\nyoung ...             11   \n",
       "13103  in general, is the art of purifying a thing;\\n...              8   \n",
       "13201  in chemiHry, &c. the reduftion of a\\nmixed bod...             10   \n",
       "13236             in cbemiftry. See Chemistry, p. 110.\\n              6   \n",
       "13583  in aftronomy. See Astronomy, p. 442.\\nSaturn,\\...              6   \n",
       "14040  a preparation of arfenic. See Chemistry, p;\\n1...              5   \n",
       "14064  a kind of pafte, fometimes hard and dry, and\\n...              4   \n",
       "14107  in chemiHry, &c. the reduftion of a\\nmixed bod...              8   \n",
       "14354          or Antimony. See Chemistry, p. 87, 139.\\n              7   \n",
       "15361  a compound body formed of the particles of\\nme...              7   \n",
       "15426  in phyfics, is commonly ufed to denotea\\nmixed...              8   \n",
       "\n",
       "       def_length  \n",
       "10870         180  \n",
       "10967          44  \n",
       "10998          88  \n",
       "11149          37  \n",
       "11462         170  \n",
       "12501          68  \n",
       "12657         364  \n",
       "12895         121  \n",
       "12928         149  \n",
       "12944         249  \n",
       "13103         207  \n",
       "13201         448  \n",
       "13236          37  \n",
       "13583         247  \n",
       "14040          49  \n",
       "14064        1139  \n",
       "14107         448  \n",
       "14354          40  \n",
       "15361         313  \n",
       "15426         265  "
      ]
     },
     "execution_count": 21,
     "metadata": {},
     "output_type": "execute_result"
    }
   ],
   "source": [
    "headers[0].loc[(headers[0]['definition'].str.contains(\"See Chemistry\")) & (headers[0]['def_length'] > 35)].iloc[50:100]"
   ]
  },
  {
   "cell_type": "code",
   "execution_count": 27,
   "metadata": {},
   "outputs": [
    {
     "data": {
      "text/plain": [
       "'a compound, or affemblage of feveral dif ferent bodies in the fame mafs. See Chemistry. '"
      ]
     },
     "execution_count": 27,
     "metadata": {},
     "output_type": "execute_result"
    }
   ],
   "source": [
    "re.sub(\"\\n\", \" \", headers[0].iloc[10998].definition)"
   ]
  },
  {
   "cell_type": "markdown",
   "metadata": {},
   "source": [
    "### Words with most references to other topics"
   ]
  },
  {
   "cell_type": "code",
   "execution_count": 31,
   "metadata": {},
   "outputs": [],
   "source": [
    "headers_with_refs = headers.copy()"
   ]
  },
  {
   "cell_type": "code",
   "execution_count": 32,
   "metadata": {},
   "outputs": [],
   "source": [
    "# find all references of the form of \"See x\" in each definition\n",
    "\n",
    "for ed in range(0, len(headers_with_refs)):\n",
    "    refs_in_desc = []\n",
    "    for index, row in headers_with_refs[ed].iterrows():   \n",
    "        refs_in_desc.append(len(re.findall('See [^,\\.]*', row['definition']))) # matches \"See x\" until a comma or a period\n",
    "    headers_with_refs[ed] = headers_with_refs[ed].assign(refs_in_desc=refs_in_desc)"
   ]
  },
  {
   "cell_type": "code",
   "execution_count": 40,
   "metadata": {},
   "outputs": [
    {
     "data": {
      "text/html": [
       "<div>\n",
       "<style scoped>\n",
       "    .dataframe tbody tr th:only-of-type {\n",
       "        vertical-align: middle;\n",
       "    }\n",
       "\n",
       "    .dataframe tbody tr th {\n",
       "        vertical-align: top;\n",
       "    }\n",
       "\n",
       "    .dataframe thead th {\n",
       "        text-align: right;\n",
       "    }\n",
       "</style>\n",
       "<table border=\"1\" class=\"dataframe\">\n",
       "  <thead>\n",
       "    <tr style=\"text-align: right;\">\n",
       "      <th></th>\n",
       "      <th>Unnamed: 0</th>\n",
       "      <th>header_length</th>\n",
       "      <th>def_length</th>\n",
       "      <th>refs_in_desc</th>\n",
       "    </tr>\n",
       "  </thead>\n",
       "  <tbody>\n",
       "    <tr>\n",
       "      <th>count</th>\n",
       "      <td>26070.000000</td>\n",
       "      <td>26070.000000</td>\n",
       "      <td>26070.000000</td>\n",
       "      <td>26070.000000</td>\n",
       "    </tr>\n",
       "    <tr>\n",
       "      <th>mean</th>\n",
       "      <td>55320.488953</td>\n",
       "      <td>7.520483</td>\n",
       "      <td>725.914423</td>\n",
       "      <td>0.242079</td>\n",
       "    </tr>\n",
       "    <tr>\n",
       "      <th>std</th>\n",
       "      <td>36662.148468</td>\n",
       "      <td>3.147801</td>\n",
       "      <td>1557.828398</td>\n",
       "      <td>0.486152</td>\n",
       "    </tr>\n",
       "    <tr>\n",
       "      <th>min</th>\n",
       "      <td>5.000000</td>\n",
       "      <td>3.000000</td>\n",
       "      <td>6.000000</td>\n",
       "      <td>0.000000</td>\n",
       "    </tr>\n",
       "    <tr>\n",
       "      <th>25%</th>\n",
       "      <td>21171.500000</td>\n",
       "      <td>5.000000</td>\n",
       "      <td>96.250000</td>\n",
       "      <td>0.000000</td>\n",
       "    </tr>\n",
       "    <tr>\n",
       "      <th>50%</th>\n",
       "      <td>54119.500000</td>\n",
       "      <td>7.000000</td>\n",
       "      <td>246.000000</td>\n",
       "      <td>0.000000</td>\n",
       "    </tr>\n",
       "    <tr>\n",
       "      <th>75%</th>\n",
       "      <td>87723.750000</td>\n",
       "      <td>9.000000</td>\n",
       "      <td>698.000000</td>\n",
       "      <td>0.000000</td>\n",
       "    </tr>\n",
       "    <tr>\n",
       "      <th>max</th>\n",
       "      <td>122922.000000</td>\n",
       "      <td>39.000000</td>\n",
       "      <td>33766.000000</td>\n",
       "      <td>7.000000</td>\n",
       "    </tr>\n",
       "  </tbody>\n",
       "</table>\n",
       "</div>"
      ],
      "text/plain": [
       "          Unnamed: 0  header_length    def_length  refs_in_desc\n",
       "count   26070.000000   26070.000000  26070.000000  26070.000000\n",
       "mean    55320.488953       7.520483    725.914423      0.242079\n",
       "std     36662.148468       3.147801   1557.828398      0.486152\n",
       "min         5.000000       3.000000      6.000000      0.000000\n",
       "25%     21171.500000       5.000000     96.250000      0.000000\n",
       "50%     54119.500000       7.000000    246.000000      0.000000\n",
       "75%     87723.750000       9.000000    698.000000      0.000000\n",
       "max    122922.000000      39.000000  33766.000000      7.000000"
      ]
     },
     "execution_count": 40,
     "metadata": {},
     "output_type": "execute_result"
    }
   ],
   "source": [
    "headers_with_refs[3].describe()"
   ]
  },
  {
   "cell_type": "code",
   "execution_count": 238,
   "metadata": {},
   "outputs": [],
   "source": [
    "# Again, the checking is manual, as some of the headers/definitions are noise that is picked up \n",
    "# (eg. a \"CCCCLXXXVIL\"-type header)"
   ]
  },
  {
   "cell_type": "code",
   "execution_count": 44,
   "metadata": {},
   "outputs": [],
   "source": [
    "# prints out the words with most references in a specific edition, with a count of those words and the number of refs \n",
    "# if there are several, word parameter can be used to print specific ones\n",
    "# adjuster is for easily looking at words with less references, if most referenced words are noise \n",
    "\n",
    "def most_refs_word(ed, word, adjuster):\n",
    "    most_refs = np.max(headers_with_refs[ed]['refs_in_desc']) - adjuster \n",
    "    longest = headers_with_refs[ed].loc[headers_with_refs[ed]['refs_in_desc'] == (most_refs)]\n",
    "    print(\"Number of words with most refs: \" + str(len(longest)) + \", with number of refs: \"\\\n",
    "          + str(most_refs) + \"\\n\")\n",
    "    print(list(longest.headers)[word])\n",
    "    print(re.sub(\"\\n\", \" \", list(longest.definition)[word]))"
   ]
  },
  {
   "cell_type": "code",
   "execution_count": 45,
   "metadata": {
    "scrolled": true
   },
   "outputs": [
    {
     "name": "stdout",
     "output_type": "stream",
     "text": [
      "Number of words with most refs: 2, with number of refs: 7\n",
      "\n",
      "MOULD\n",
      "or Mold, in the mechanic arts, &c. a cavity artificially cut, with a defign to give its form or impreflion to fome fofter matter applied therein. Moulds are implements of great ufe in fculpture, foundery, &c. The workmen employed in melting the mineral or metallic ore dug out of mines, have their feveral moulds to receive the melted metal as it comes out of the fur nace ; but thefe are different according to the diverfity of metals and works. In gold mines, they have moulds for ingots ; in filver mines, for bars; in copper and lead mines, for pigs or falmons; in tin mines, for pigs and ingots; and in iron mines, for fows, chimney backs, anvils, caldrons, pots, and other large utenfils and mer- chandifes of iron ; which are here caft, as it were, at firft hand. Moulds of founders of large works, as ftatues, bells, guns, and other brazen works, are of wax, fupported within-fide by what we call a core, and covered with- out-fide with a cape or cafe. It is in the fpace which the wax took up, which is afterwards melted away to leave it free, that the liquid metal runs, and the work is formed ; being carried thither through a great num- Moulds, ber of little canals, which cover the whole mould. See Foundery. Moulds of moneyers are frames full of fand, where in the plates of metal are caft that are to ferve for the ftriking of fpecies of gold and filver. See Coining. A fort of concave moulds made of clay, having within them the figures and inferiptions of ancient Roman coins, are found in many parts of England, and fuppofed to have been ufed for the calling of money. Mr Baker having been favoured wdth a fight of fome of thefe moulds found in Shropftiire, bearing the fame types and inferiptions with fome of the Roman coins, gave an account of them to the Royal Society. They w’ere found in digging of fand, at a place called Ryton in Shroplhire, about a mile from the great Watling- ftreet'road. They are all of the fize of the Roman de narius, and of little more than the thicknefs of oor halfpenny. They are made of a fmooth pot or brick clay, which feems to have been firft well cleanfed from dirt and fand, and well beaten or kneaded, to render it fit for taking a fair impreffion. There were a great many of them found together, and there are of them npt unfrequently found in Yorklhire; but they do not feem to have been met wdth in any other kingdom, ex cept that fome have been faid to be once found at Lyons. They have been fometimes found in great numbers joined together fide by fide, on one flat piece of clay, as if intended for the calling of a great num ber of coins at once ; and both thefe, and all the others that have been found, feem to have been of the empe ror Severus. They are fometimes found impreffed on both fides, and fome have the head of Severus on one fide and fome well known reverfe of his on the other. They feem plainly to have been intended for the coin age of money, though it is not eafy to fay in what manner they can have been employed for that purpofe, efpecially thofe which have impreflions on both fides, unlefs it may be fuppofed that they coined two pieces at the fame time by the help of three moulds, of which this was to be the middle one. If by difpofing thefe into fome fort of iron frame or cafe, as our letter- founders do the brafs moulds for calling their types, the melted metal could be eafily poured into them, it would certainly be a very eafy method of coining, as fuch moulds require little time or expence to make, arid therefore might be fupplied with new ones as often as they happen to break. Thefe moulds feem to have been burnt or baked fufficiently to make them hard ; but not fo as to ren der them porous like our bricks, whereby they would have loft their fmooth and even furface, which in thefe is plainly fo clofe, that whatever metal Ihould be form ed in them would have no appearance like the fand- holes by which counterfeit coins and metals are ufually detefted. Moulds of founders of fmall works are like the frames of coiners : it is in the'e frames, which are likewife filled* with fand, that their feveral works are falhioned ; into w'hich, when the two frames of which the mould is compofed, are rejoined, the melted brafs is run. Moulds of letter founders are partly of fteel and partly of wood. The wood, properly fpeaking, ferves only to covet the real mould which is within, and to 3 N 2 prevent M O U t46B] M O U Moulds. prevent the workman, who holds it in his hand, from being incommoded by the heat of the melted metal. Only one letter or type can be formed at once in each mould. See Letter Foundery. Moulds, in the manufatlure of paper, are little frames compofed of feveral brafs or iron wires, faflen- ed together by another wire flill finer. Each mould is of the bignefs of the fheet of paper to be made, and has a rim or ledge of wood to which the wires are faftened. Thefe moulds are more ufually called frames or forms. See Pafkr-Making. Moulds, with furnace and crucinle makers, are made of wood, of the fame form with the crucinles j that is, in form of a truncated cone : they have handles of wood to hold and turn them with, when, being covered with the earth, the workman has a mind to round or flatten his veflfel. Moulds for leaden bullets are little iron pincers, each of whofe branches terminates in a hemifpherical concave, which when {hut form an entire fphere. In the lips or fides where the branches meet, is a little jet or hole, through which the melted lead is conveyed. Laboratory Moulds -are made of w'ood, for filling and driving all forts of rockets and cartridges, &c. Glaciers Moulds. The glaziers have two kinds of moulds, both ferving to caff their lead : in the one they cafl: the lead into long rods or canes fit to be drawn through the vice, and the grooves formed therein 5 this they fometimes call ingot-mould. In the other, they mould thofe little pieces of* lead a line thick and tw7o lines broad, faftened to the iron bars. Thefe may be alfo caft in the vice. Goldfmiths Moulds. The goldfmiths ufe the bones of the cuttle fifti to make moulds for their fmall works; which they do by prefling the pattern between two bones, and leaving a jet or hole to convey the metal through, after the pattern has been taken out. Mould, among mafons, is a piece of hard wood or iron, hollowed within fide, anfwerable to the contours of the mouldings or cornices, &c. to be formed. This is othervvife called caliner. Moulds, among plumbers, are the tables on which they caft ftieets of lead. Thefe they fometimes call {imply tables. Befides which they have other real moulds, wherewith they caft pipes without foldering. See each defcrined under Plumbery. Moulds, among the glafs grinders, are wooden frames, whereon they make the tubes wherewith they fit their perfpedlives, telefcopes, and other optic ma chines. Thefe moulds are cylinders, of a length and diameter according to the ufe they are to be applied to, but always thicker at one end than the other, to facilitate the Aiding. The tubes made on thefe moulds are of two kinds j the one Amply of pafteboard and paper ; the other of thin leaves of wood joined to the pafteboard. To make thefe tubes to draw out, only the laft or innermoft is formed on the mould j each tube made afterwards ferving as a mould to that which is to go over it, but without taking out the mould from the firft. See Grinding. Moulds ufed in bafket-making are very Ample, con fiding ordinarily of a willow or ofier turned or bent in to an oval, circle, fquare, or other figure, according to the balkets, panniers, hampers, and other utenfils in tended. Ou khefe moulds they make, or more properly meafure, all their wrork j and accordingly they have Mould them of all fizes, fhapes, &c. li Mould, in Ihip-building, a thin flexinle piece of ^0Ulinet,l timber, uftd by ihipwrights as a pattern whereby to ”~V form the different curves of the timbers, and other com- pafting pieces in a {flip’s frame. There are two forts of thefe, viz, the bend mould and hollow mould ; the form er of thefe determines the convexity ot the timbers, and the latter their concavity on the outfide, where they ap proach the heel, particularly towards the extremities of the veffel. The figure given to the timbers by this pattern is called their bevelling. Moulds, among tallow chandlers, are of twTo kinds: the firft for the common dipped candles, being the vef fel wherein the melted tallow is difpofed, and the wick dipped. This is of wood, of a triangular form, and fupported on one of its angles; fo that it has an open ing of near a foot a-top : the other, ufed in the fabric of mould candles, is of brafs, pewter, or tin.—Here each candle has its feveral mould. See Candle. Mould, among gol^-beatersT1 a certain number of leaves of vellum or pieces of gut, cut fquare, of a cer tain fize, and laid over one another, between which they put the leaves of gold and filver which they beat on the marble with the hammer, See Gold leaf. They have four kinds of moulds j two whereof are of vellum and two of gut : the fmallelt of thofe of vellum confifts of 40 or 50 leaves j the largelt contains 100 : for the others, each contains 500 leaves. The moulds have all their feveral cafes, confiding of two pieces of parchment, ferving to keep the leaves of the mould in their place, and prevent their being diforder- ed in beating. Mould, in Agriculture, a general name for the foft earthy fubftance with which the dry land is generally covered, and in which all kinds of vegetables take root and grown It is far from being an homogeneous fub ftance 5 being compofed of decayed animal and vege table matters, along with calcareous, argillaceous, and filiceous earths, mixed together in various proportions, and with the different degrees of moiftme, conftituting every variety of soil. \n"
     ]
    }
   ],
   "source": [
    "most_refs_word(3, 1, 0)"
   ]
  },
  {
   "cell_type": "code",
   "execution_count": 131,
   "metadata": {},
   "outputs": [
    {
     "data": {
      "text/plain": [
       "['AXIS', 'CALCULUS']"
      ]
     },
     "execution_count": 131,
     "metadata": {},
     "output_type": "execute_result"
    }
   ],
   "source": [
    "# print out words with specific number of references\n",
    "\n",
    "list(headers_with_refs[0].loc[headers_with_refs[0]['refs_in_desc'] == 6].headers)"
   ]
  },
  {
   "cell_type": "markdown",
   "metadata": {},
   "source": [
    "### Proportional topic popularity changes"
   ]
  },
  {
   "cell_type": "code",
   "execution_count": 13,
   "metadata": {},
   "outputs": [],
   "source": [
    "# calculate proportional popularity of topics (count of references to topic, adjusted to total number of references in that ed)\n",
    "# and visualise the popularity across editions\n",
    "\n",
    "def change_in_topic_vis(topic, editions_ref_counts):\n",
    "    \n",
    "    counts = []\n",
    "    sum_refs = []\n",
    "    \n",
    "    for i in range(0, len(editions_ref_counts)):\n",
    "        try: \n",
    "            counts.append(int(editions_ref_counts[i].loc[editions_ref_counts[i].references == topic]['count']) / editions_ref_counts[i]['count'].sum())\n",
    "        except: # handle case where a topic was never referenced in early editions\n",
    "            counts.append(0) \n",
    "    # proportional popularity, by dividing count by total number of references in an edition\n",
    "    ed_count = list(range(1, 9))\n",
    "    sns.set_style(\"whitegrid\")\n",
    "    ax = sns.barplot(x= ed_count, y=counts, color=\"#cfbd93\")\n",
    "    ax.set_title('Popularity of ' + topic + ' across editions', fontsize=16)\n",
    "    ax.set_xlabel('editions', fontsize=14)\n",
    "    ax.set_ylabel('proportion of references', fontsize=14)"
   ]
  },
  {
   "cell_type": "code",
   "execution_count": 15,
   "metadata": {},
   "outputs": [
    {
     "data": {
      "image/png": "[encoded data removed]",
      "text/plain": [
       "<Figure size 432x288 with 1 Axes>"
      ]
     },
     "metadata": {},
     "output_type": "display_data"
    }
   ],
   "source": [
    "change_in_topic_vis(\"Chemistry\", references)\n",
    "# a decrease in popularity could mean entries were added to the long-form article,\n",
    "# so doesn't necessarily mean topic itself became less popular;\n",
    "# all that we can state from this is that proportion of entries referencing that topic decreased"
   ]
  },
  {
   "cell_type": "markdown",
   "metadata": {},
   "source": [
    "### Total number of references for top 20 topics for all editions"
   ]
  },
  {
   "cell_type": "code",
   "execution_count": 10,
   "metadata": {},
   "outputs": [
    {
     "name": "stdout",
     "output_type": "stream",
     "text": [
      "                                    ref count\n",
      "0                               Anatomy  1235\n",
      "1                                   Law   497\n",
      "2                              Medicine   429\n",
      "3                             Chemistry   608\n",
      "4                             Astronomy   397\n",
      "...                                 ...   ...\n",
      "22761       Hamilton’s edition\\nof Reid     1\n",
      "22762                            Quilon     1\n",
      "22763  the\\n(Euvres Completes de Volney     1\n",
      "22764       the historical\\npart of art     1\n",
      "22765                            Police     1\n",
      "\n",
      "[22766 rows x 2 columns]\n"
     ]
    }
   ],
   "source": [
    "# goes through each dataframe and checks whether that reference exists in total_refs already\n",
    "# if it does, skips it (it was already calculated)\n",
    "# if does not yet, goes through all further editions and sums the references to that topic\n",
    "\n",
    "total_refs = pd.DataFrame(columns=['ref', 'count'])\n",
    "\n",
    "for i in range(0, len(references)):\n",
    "    for index, row in references[i].iterrows():\n",
    "        #only process a word in an edition if it was not processed by a previous edition\n",
    "        if (row.references not in total_refs.values):          \n",
    "            count = 0\n",
    "            for ed in references[i:]:\n",
    "                try: \n",
    "                    count += int(ed.loc[ed.references == row.references]['count'])\n",
    "                except: # handle case where there's not a reference to a topic in an edition\n",
    "                    pass\n",
    "            total_refs = total_refs.append({'ref': row.references, 'count': count}, ignore_index=True)\n",
    "            \n",
    "print(total_refs)"
   ]
  },
  {
   "cell_type": "code",
   "execution_count": 14,
   "metadata": {},
   "outputs": [],
   "source": [
    "# sort by most referenced\n",
    "\n",
    "total_refs = total_refs.sort_values(by=['count'], ascending=False)"
   ]
  },
  {
   "cell_type": "code",
   "execution_count": 18,
   "metadata": {},
   "outputs": [
    {
     "data": {
      "text/plain": [
       "<seaborn.axisgrid.FacetGrid at 0x152cce50>"
      ]
     },
     "execution_count": 18,
     "metadata": {},
     "output_type": "execute_result"
    },
    {
     "data": {
      "image/png": "[encoded data removed]",
      "text/plain": [
       "<Figure size 1440x720 with 1 Axes>"
      ]
     },
     "metadata": {},
     "output_type": "display_data"
    }
   ],
   "source": [
    "# visualise top 20 most referenced topics across all editions\n",
    "\n",
    "sns.set(font_scale=1.5)\n",
    "sns.set_style(\"whitegrid\")\n",
    "ax = sns.catplot(x='count', y='ref', data=total_refs.head(20), kind='bar', height=10, aspect=2, color=\"#cfbd93\")\n",
    "ax.fig.suptitle(\"Top 20 most referenced topics across all editions\", y=1)\n",
    "ax.set_axis_labels('counts of references', 'topic')"
   ]
  },
  {
   "cell_type": "markdown",
   "metadata": {},
   "source": [
    "### Unused code"
   ]
  },
  {
   "cell_type": "code",
   "execution_count": 37,
   "metadata": {},
   "outputs": [
    {
     "data": {
      "text/plain": [
       "['or Entablement, in Archi\\ntecture, is that part of an order of a column which is\\nover the capital, and comprehends the architrave, frize,\\nand corniche. See Architecture, chap. i.\\n']"
      ]
     },
     "execution_count": 37,
     "metadata": {},
     "output_type": "execute_result"
    }
   ],
   "source": [
    "# find definition of a specific word in a specific edition\n",
    "\n",
    "list(headers[5].loc[headers[5]['headers'].str.contains(\"ENTABLATURE\")].definition)"
   ]
  },
  {
   "cell_type": "code",
   "execution_count": 38,
   "metadata": {},
   "outputs": [
    {
     "name": "stdout",
     "output_type": "stream",
     "text": [
      "['a compound, or affemblage of feveral dif\\nferent bodies in the fame mafs. See Chemistry.\\n']\n",
      "['a compound, or affemblage of feveral\\ndifferent bodies in the fame mafs. Simple mixture,\\nconfifts only in the Ample appofition of parts of diffe\\nrent bodies to each other. Thus, when powders of\\ndifferent kinds are rubbed together, the mixture is on\\nly Ample, and each of the powders retains its particu\\nlar charafters. In like manner, when oil and water\\nare mixed together, though the parts of both are con\\nfounded, fo that the liquor may appear to be homoge\\nneous, we cannot fay that there is any more than a\\nAmple appofition of the parts, as the oil and water may\\nvery eafily be again feparated from each other. But\\nthe cafe is very different when bodies chemically\\nmixed ; for then one or both bodies affume new pro\\nperties, and can by no means be difeovered in their\\nproper form without a particular chemical procefs ad\\napted to this purpofe. Hence chemical mixture is\\nattended with many phenomena which are never obfer-\\nved in Ample mixtures ; fuch as heat, effervefcence,\\n&c. To chemical mixture belongs the union of acids\\nand alkalies, the amalgamation of metals, folution of\\ngums, &c. and upon it depend many of the principal\\noperations of chemiftry. See that article pajfim.\\n']\n",
      "['a compound or affemblage of feveral\\ndifferent bodies in the fame mafs. Simple mixture,\\nconfifts only in the Ample appofition of parts of diffe\\nrent bodies to each other. Thus, when powders of\\ndifferent kinds are rubbed together, the mixture is on-\\nly Ample, and each of the powders retains its particu\\nlar chara&ers. In like manner, when oil and water\\nare mixed together, though the parts of both are con\\nfounded, fo that the liquor may appear to be homoge\\nneous, we cannot fay that there is any more than a\\nAmple\\nM N I [ i £\\nAmple appofitlon of the parts, as the oil and water may\\nvery eafily be again feparated from each, other. But\\nthe cafe is very different when bodies are chemically\\nmixed ; for then one or both bodies affume new pro\\nperties, and can by no means be difcovered in their\\nproper form without a particular chemical procefs ad\\napted* to this purpofe. Hence chemical mixture is\\nattended with many phenomena which are never obfer-\\nved in Ample mixtures; fuch as heat, effervefcence,\\n&c. To chemical mixture belongs the union of acids\\nand alkalies, the amalgamation of metals, folution of\\ngums, &c. and upon it depend many of the principal\\noperations of Chemistry. See that article pajftm.\\nMixture, in pharmacy, a medicine which differs\\nfrom a julep in this i dpe<ft, that it receives into its\\ncompofition not only falls, extracts, and other fub-\\nItances diffoluble in water; but alfo earths, powders,\\nand fuch fubftances as cannot be diffolved.\\n']\n",
      "[]\n",
      "[]\n",
      "['a compound or assemblage ot several\\ndifferent bodies in the same mass. Chemical mixture is\\nattended with many phenomena which are never observ\\ned in simple mixtures ; such as heat, effervescence, &c.\\nTo chemical mixture belong the union of acids amt\\nalkalies, the amalgamation of metals, solution of gums,\\n&e. and upon it depend many of the principal opera\\ntions of Chemistry. See that article, passim.\\nMixture, in Pharmacy, a medicine which diiiers\\nfrom a julep in this respect, that it receives into its\\ncomposition not only salts, extracts, and othei su -\\nstances dissoluble in water; but also earths, powders,\\nand such substances as cannot be dissolved.\\n']\n",
      "['a compound or assemblage of several dif\\nferent bodies in the same mass. Chemical mixture is at\\ntended with many phenomena which are never observed\\nin simple mixtures; such as heat, effervescence, &c. To\\nchemical mixture belong the union of acids and alkalies,\\nthe amalgamation of metals, the solution of gums, &c.; and\\nupon it depend many of the principal operations of che\\nmistry.\\nM1']\n",
      "[]\n"
     ]
    }
   ],
   "source": [
    "# show definition of a specific word across all editions\n",
    "\n",
    "for i in range(0, len(headers)):\n",
    "    print(list(headers[i].loc[headers[i]['headers'].str.match(\"MIXTURE\")].definition))"
   ]
  }
 ],
 "metadata": {
  "kernelspec": {
   "display_name": "Python 3",
   "language": "python",
   "name": "python3"
  },
  "language_info": {
   "codemirror_mode": {
    "name": "ipython",
    "version": 3
   },
   "file_extension": ".py",
   "mimetype": "text/x-python",
   "name": "python",
   "nbconvert_exporter": "python",
   "pygments_lexer": "ipython3",
   "version": "3.6.1"
  }
 },
 "nbformat": 4,
 "nbformat_minor": 2
}
