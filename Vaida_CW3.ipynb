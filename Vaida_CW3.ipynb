{
 "cells": [
  {
   "cell_type": "code",
   "execution_count": null,
   "metadata": {},
   "outputs": [],
   "source": [
    "# TODO\n",
    "# Ask Sarah about how editions are separated/duplicates\n",
    "# then, code this up for all editions"
   ]
  },
  {
   "cell_type": "code",
   "execution_count": 1,
   "metadata": {},
   "outputs": [],
   "source": [
    "import pandas as pd\n",
    "import numpy as np\n",
    "import re\n",
    "import seaborn as sns\n",
    "import matplotlib.pyplot as plt\n",
    "from wordcloud import WordCloud, STOPWORDS\n",
    "%matplotlib inline"
   ]
  },
  {
   "cell_type": "code",
   "execution_count": 2,
   "metadata": {},
   "outputs": [
    {
     "name": "stdout",
     "output_type": "stream",
     "text": [
      "\n",
      "Number of text files: 195\n"
     ]
    }
   ],
   "source": [
    "# reading in index file\n",
    "\n",
    "inventory = pd.read_csv(\"encyclopaediaBritannica-inventory.csv\", header=None)\n",
    "inventory.columns = ['file','volume']\n",
    "# print(inventory)\n",
    "print(\"\\nNumber of text files: \" + str(len(inventory)))"
   ]
  },
  {
   "cell_type": "code",
   "execution_count": 3,
   "metadata": {},
   "outputs": [
    {
     "data": {
      "text/plain": [
       "['Encyclopaedia Britannica; or, A dictionary of arts and sciences, compiled upon a new plan … - First edition, 1771, Volume 1, A-B - EB.1',\n",
       " 'Encyclopaedia Britannica; or, A dictionary of arts and sciences, compiled upon a new plan … - First edition, 1771, Volume 2, C-L - EB.1',\n",
       " 'Encyclopaedia Britannica; or, A dictionary of arts and sciences, compiled upon a new plan … - First edition, 1771, Volume 3, M-Z - EB.1']"
      ]
     },
     "execution_count": 3,
     "metadata": {},
     "output_type": "execute_result"
    }
   ],
   "source": [
    "first_ed = inventory[:3]\n",
    "list(first_ed['volume']) # list() to print whole text"
   ]
  },
  {
   "cell_type": "code",
   "execution_count": 21,
   "metadata": {},
   "outputs": [
    {
     "data": {
      "text/plain": [
       "['Encyclopaedia Britannica - Second edition, Volume 1, A-AST - EB.4',\n",
       " 'Encyclopaedia Britannica - Second edition, Volume 2, Astronomy-BZO - EB.4',\n",
       " 'Encyclopaedia Britannica - Second edition, Volume 3, C - EB.4',\n",
       " 'Encyclopaedia Britannica - Second edition, Volume 4, D-F - EB.4',\n",
       " 'Encyclopaedia Britannica - Second edition, Volume 5, G-J - EB.4',\n",
       " 'Encyclopaedia Britannica - Second edition, Volume 6, K-Medicine - EB.4',\n",
       " 'Encyclopaedia Britannica - Second edition, Volume 7, Medicines-Optics - EB.4',\n",
       " 'Encyclopaedia Britannica - Second edition, Volume 8, Optics-Poetry - EB.4',\n",
       " 'Encyclopaedia Britannica - Second edition, Volume 9, POI-SCU - EB.4',\n",
       " 'Encyclopaedia Britannica - Second edition, Volume 10, SCU-Appendix - EB.4']"
      ]
     },
     "execution_count": 21,
     "metadata": {},
     "output_type": "execute_result"
    }
   ],
   "source": [
    "second_ed = inventory[6:16]\n",
    "list(second_ed['volume']) # list() to print whole text"
   ]
  },
  {
   "cell_type": "code",
   "execution_count": 31,
   "metadata": {},
   "outputs": [],
   "source": [
    "two_editions = [first_ed, second_ed]"
   ]
  },
  {
   "cell_type": "code",
   "execution_count": 23,
   "metadata": {},
   "outputs": [
    {
     "data": {
      "text/plain": [
       "[5, 'number', 2]"
      ]
     },
     "execution_count": 23,
     "metadata": {},
     "output_type": "execute_result"
    }
   ],
   "source": [
    "a = [5, \"number\", 2]\n",
    "a"
   ]
  },
  {
   "cell_type": "code",
   "execution_count": 43,
   "metadata": {},
   "outputs": [],
   "source": [
    "# Reading in text files and generate word and length counts\n",
    "\n",
    "def basic_data(editions):\n",
    "    \n",
    "    data = []\n",
    "    \n",
    "    for ed in editions: \n",
    "        length = 0\n",
    "        words = 0\n",
    "\n",
    "        for index, row in ed.iterrows():\n",
    "            print(\"Reading: \" + row['file'])\n",
    "\n",
    "            f = open('text/' + row['file'], 'r', encoding=\"utf8\")\n",
    "            content = f.read()\n",
    "            # print(\"Length: \" + str(len(content)))\n",
    "            length += len(content)\n",
    "\n",
    "            words += len(content.split())\n",
    "\n",
    "            f.close()\n",
    "            \n",
    "        data.append([length, words])\n",
    "        data_df=pd.DataFrame(data,columns=['length_chars','length_words'])\n",
    "    return data_df"
   ]
  },
  {
   "cell_type": "code",
   "execution_count": 44,
   "metadata": {},
   "outputs": [
    {
     "name": "stdout",
     "output_type": "stream",
     "text": [
      "Reading: 144133901.txt\n",
      "Reading: 144133902.txt\n",
      "Reading: 144133903.txt\n",
      "Reading: 144850370.txt\n",
      "Reading: 144850373.txt\n",
      "Reading: 144850374.txt\n",
      "Reading: 144850375.txt\n",
      "Reading: 144850376.txt\n",
      "Reading: 144850377.txt\n",
      "Reading: 144850378.txt\n",
      "Reading: 144850379.txt\n",
      "Reading: 190273289.txt\n",
      "Reading: 190273290.txt\n"
     ]
    },
    {
     "data": {
      "text/html": [
       "<div>\n",
       "<style scoped>\n",
       "    .dataframe tbody tr th:only-of-type {\n",
       "        vertical-align: middle;\n",
       "    }\n",
       "\n",
       "    .dataframe tbody tr th {\n",
       "        vertical-align: top;\n",
       "    }\n",
       "\n",
       "    .dataframe thead th {\n",
       "        text-align: right;\n",
       "    }\n",
       "</style>\n",
       "<table border=\"1\" class=\"dataframe\">\n",
       "  <thead>\n",
       "    <tr style=\"text-align: right;\">\n",
       "      <th></th>\n",
       "      <th>length_chars</th>\n",
       "      <th>length_words</th>\n",
       "    </tr>\n",
       "  </thead>\n",
       "  <tbody>\n",
       "    <tr>\n",
       "      <th>0</th>\n",
       "      <td>14223433</td>\n",
       "      <td>2567769</td>\n",
       "    </tr>\n",
       "    <tr>\n",
       "      <th>1</th>\n",
       "      <td>56865594</td>\n",
       "      <td>10173856</td>\n",
       "    </tr>\n",
       "  </tbody>\n",
       "</table>\n",
       "</div>"
      ],
      "text/plain": [
       "   length_chars  length_words\n",
       "0      14223433       2567769\n",
       "1      56865594      10173856"
      ]
     },
     "execution_count": 44,
     "metadata": {},
     "output_type": "execute_result"
    }
   ],
   "source": [
    "basic_data(two_editions)"
   ]
  },
  {
   "cell_type": "code",
   "execution_count": null,
   "metadata": {},
   "outputs": [],
   "source": []
  }
 ],
 "metadata": {
  "kernelspec": {
   "display_name": "Python 3",
   "language": "python",
   "name": "python3"
  },
  "language_info": {
   "codemirror_mode": {
    "name": "ipython",
    "version": 3
   },
   "file_extension": ".py",
   "mimetype": "text/x-python",
   "name": "python",
   "nbconvert_exporter": "python",
   "pygments_lexer": "ipython3",
   "version": "3.6.1"
  }
 },
 "nbformat": 4,
 "nbformat_minor": 2
}
